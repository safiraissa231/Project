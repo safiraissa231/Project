{
  "nbformat": 4,
  "nbformat_minor": 0,
  "metadata": {
    "colab": {
      "provenance": [],
      "collapsed_sections": [
        "NqDn1xYefY3d",
        "CsNJ_pTyfatG",
        "0Qtjv_UpffKu",
        "_Mz3an4ffjq7",
        "FbW3im7m5Vs0",
        "qkmiDCEyKIpc",
        "7mTfFR4fk6by",
        "Ms_KiqbFk3Bk",
        "7ttk_ytYuOYp",
        "NbcJaJHzR791",
        "x0-aqo7QR792",
        "KGlx655fTygW",
        "4A551_s8TygY",
        "dCLoeUFPT8xn",
        "xh0cJZ6XT8xp",
        "b_4S3Z7tUj1k",
        "7DfVt4BTUj1l"
      ]
    },
    "kernelspec": {
      "name": "python3",
      "display_name": "Python 3"
    },
    "language_info": {
      "name": "python"
    },
    "gpuClass": "standard"
  },
  "cells": [
    {
      "cell_type": "markdown",
      "source": [
        "# Data Exploration"
      ],
      "metadata": {
        "id": "II1bPrk4KAVX"
      }
    },
    {
      "cell_type": "code",
      "source": [
        "from mlxtend.plotting import plot_decision_regions\n",
        "import numpy as np\n",
        "import pandas as pd\n",
        "import matplotlib.pyplot as plt\n",
        "import seaborn as sns\n",
        "import random\n",
        "sns.set()\n",
        "import warnings\n",
        "warnings.filterwarnings('ignore')\n",
        "%matplotlib inline"
      ],
      "metadata": {
        "id": "rJINSYf2MXx5"
      },
      "execution_count": null,
      "outputs": []
    },
    {
      "cell_type": "code",
      "execution_count": null,
      "metadata": {
        "id": "qDM6R-roMIb-"
      },
      "outputs": [],
      "source": [
        "diabetes_data = pd.read_csv('../content/diabetes_klasifikasi.csv')"
      ]
    },
    {
      "cell_type": "code",
      "source": [
        "diabetes_data.describe()"
      ],
      "metadata": {
        "id": "bvL7PxYYOyR_",
        "outputId": "76641f2f-d6ac-468f-f30d-541b3ca6c041",
        "colab": {
          "base_uri": "https://localhost:8080/",
          "height": 364
        }
      },
      "execution_count": null,
      "outputs": [
        {
          "output_type": "execute_result",
          "data": {
            "text/plain": [
              "       Pregnancies     Glucose  BloodPressure  SkinThickness     Insulin  \\\n",
              "count   768.000000  768.000000     768.000000     768.000000  768.000000   \n",
              "mean      3.845052  120.894531      69.105469      20.536458   79.799479   \n",
              "std       3.369578   31.972618      19.355807      15.952218  115.244002   \n",
              "min       0.000000    0.000000       0.000000       0.000000    0.000000   \n",
              "25%       1.000000   99.000000      62.000000       0.000000    0.000000   \n",
              "50%       3.000000  117.000000      72.000000      23.000000   30.500000   \n",
              "75%       6.000000  140.250000      80.000000      32.000000  127.250000   \n",
              "max      17.000000  199.000000     122.000000      99.000000  846.000000   \n",
              "\n",
              "              BMI  DiabetesPedigreeFunction         Age     Outcome  \n",
              "count  768.000000                768.000000  768.000000  768.000000  \n",
              "mean    31.992578                  0.471876   33.240885    0.348958  \n",
              "std      7.884160                  0.331329   11.760232    0.476951  \n",
              "min      0.000000                  0.078000   21.000000    0.000000  \n",
              "25%     27.300000                  0.243750   24.000000    0.000000  \n",
              "50%     32.000000                  0.372500   29.000000    0.000000  \n",
              "75%     36.600000                  0.626250   41.000000    1.000000  \n",
              "max     67.100000                  2.420000   81.000000    1.000000  "
            ],
            "text/html": [
              "\n",
              "  <div id=\"df-45545c8a-5152-4b4a-8198-f1a95a62e3d6\">\n",
              "    <div class=\"colab-df-container\">\n",
              "      <div>\n",
              "<style scoped>\n",
              "    .dataframe tbody tr th:only-of-type {\n",
              "        vertical-align: middle;\n",
              "    }\n",
              "\n",
              "    .dataframe tbody tr th {\n",
              "        vertical-align: top;\n",
              "    }\n",
              "\n",
              "    .dataframe thead th {\n",
              "        text-align: right;\n",
              "    }\n",
              "</style>\n",
              "<table border=\"1\" class=\"dataframe\">\n",
              "  <thead>\n",
              "    <tr style=\"text-align: right;\">\n",
              "      <th></th>\n",
              "      <th>Pregnancies</th>\n",
              "      <th>Glucose</th>\n",
              "      <th>BloodPressure</th>\n",
              "      <th>SkinThickness</th>\n",
              "      <th>Insulin</th>\n",
              "      <th>BMI</th>\n",
              "      <th>DiabetesPedigreeFunction</th>\n",
              "      <th>Age</th>\n",
              "      <th>Outcome</th>\n",
              "    </tr>\n",
              "  </thead>\n",
              "  <tbody>\n",
              "    <tr>\n",
              "      <th>count</th>\n",
              "      <td>768.000000</td>\n",
              "      <td>768.000000</td>\n",
              "      <td>768.000000</td>\n",
              "      <td>768.000000</td>\n",
              "      <td>768.000000</td>\n",
              "      <td>768.000000</td>\n",
              "      <td>768.000000</td>\n",
              "      <td>768.000000</td>\n",
              "      <td>768.000000</td>\n",
              "    </tr>\n",
              "    <tr>\n",
              "      <th>mean</th>\n",
              "      <td>3.845052</td>\n",
              "      <td>120.894531</td>\n",
              "      <td>69.105469</td>\n",
              "      <td>20.536458</td>\n",
              "      <td>79.799479</td>\n",
              "      <td>31.992578</td>\n",
              "      <td>0.471876</td>\n",
              "      <td>33.240885</td>\n",
              "      <td>0.348958</td>\n",
              "    </tr>\n",
              "    <tr>\n",
              "      <th>std</th>\n",
              "      <td>3.369578</td>\n",
              "      <td>31.972618</td>\n",
              "      <td>19.355807</td>\n",
              "      <td>15.952218</td>\n",
              "      <td>115.244002</td>\n",
              "      <td>7.884160</td>\n",
              "      <td>0.331329</td>\n",
              "      <td>11.760232</td>\n",
              "      <td>0.476951</td>\n",
              "    </tr>\n",
              "    <tr>\n",
              "      <th>min</th>\n",
              "      <td>0.000000</td>\n",
              "      <td>0.000000</td>\n",
              "      <td>0.000000</td>\n",
              "      <td>0.000000</td>\n",
              "      <td>0.000000</td>\n",
              "      <td>0.000000</td>\n",
              "      <td>0.078000</td>\n",
              "      <td>21.000000</td>\n",
              "      <td>0.000000</td>\n",
              "    </tr>\n",
              "    <tr>\n",
              "      <th>25%</th>\n",
              "      <td>1.000000</td>\n",
              "      <td>99.000000</td>\n",
              "      <td>62.000000</td>\n",
              "      <td>0.000000</td>\n",
              "      <td>0.000000</td>\n",
              "      <td>27.300000</td>\n",
              "      <td>0.243750</td>\n",
              "      <td>24.000000</td>\n",
              "      <td>0.000000</td>\n",
              "    </tr>\n",
              "    <tr>\n",
              "      <th>50%</th>\n",
              "      <td>3.000000</td>\n",
              "      <td>117.000000</td>\n",
              "      <td>72.000000</td>\n",
              "      <td>23.000000</td>\n",
              "      <td>30.500000</td>\n",
              "      <td>32.000000</td>\n",
              "      <td>0.372500</td>\n",
              "      <td>29.000000</td>\n",
              "      <td>0.000000</td>\n",
              "    </tr>\n",
              "    <tr>\n",
              "      <th>75%</th>\n",
              "      <td>6.000000</td>\n",
              "      <td>140.250000</td>\n",
              "      <td>80.000000</td>\n",
              "      <td>32.000000</td>\n",
              "      <td>127.250000</td>\n",
              "      <td>36.600000</td>\n",
              "      <td>0.626250</td>\n",
              "      <td>41.000000</td>\n",
              "      <td>1.000000</td>\n",
              "    </tr>\n",
              "    <tr>\n",
              "      <th>max</th>\n",
              "      <td>17.000000</td>\n",
              "      <td>199.000000</td>\n",
              "      <td>122.000000</td>\n",
              "      <td>99.000000</td>\n",
              "      <td>846.000000</td>\n",
              "      <td>67.100000</td>\n",
              "      <td>2.420000</td>\n",
              "      <td>81.000000</td>\n",
              "      <td>1.000000</td>\n",
              "    </tr>\n",
              "  </tbody>\n",
              "</table>\n",
              "</div>\n",
              "      <button class=\"colab-df-convert\" onclick=\"convertToInteractive('df-45545c8a-5152-4b4a-8198-f1a95a62e3d6')\"\n",
              "              title=\"Convert this dataframe to an interactive table.\"\n",
              "              style=\"display:none;\">\n",
              "        \n",
              "  <svg xmlns=\"http://www.w3.org/2000/svg\" height=\"24px\"viewBox=\"0 0 24 24\"\n",
              "       width=\"24px\">\n",
              "    <path d=\"M0 0h24v24H0V0z\" fill=\"none\"/>\n",
              "    <path d=\"M18.56 5.44l.94 2.06.94-2.06 2.06-.94-2.06-.94-.94-2.06-.94 2.06-2.06.94zm-11 1L8.5 8.5l.94-2.06 2.06-.94-2.06-.94L8.5 2.5l-.94 2.06-2.06.94zm10 10l.94 2.06.94-2.06 2.06-.94-2.06-.94-.94-2.06-.94 2.06-2.06.94z\"/><path d=\"M17.41 7.96l-1.37-1.37c-.4-.4-.92-.59-1.43-.59-.52 0-1.04.2-1.43.59L10.3 9.45l-7.72 7.72c-.78.78-.78 2.05 0 2.83L4 21.41c.39.39.9.59 1.41.59.51 0 1.02-.2 1.41-.59l7.78-7.78 2.81-2.81c.8-.78.8-2.07 0-2.86zM5.41 20L4 18.59l7.72-7.72 1.47 1.35L5.41 20z\"/>\n",
              "  </svg>\n",
              "      </button>\n",
              "      \n",
              "  <style>\n",
              "    .colab-df-container {\n",
              "      display:flex;\n",
              "      flex-wrap:wrap;\n",
              "      gap: 12px;\n",
              "    }\n",
              "\n",
              "    .colab-df-convert {\n",
              "      background-color: #E8F0FE;\n",
              "      border: none;\n",
              "      border-radius: 50%;\n",
              "      cursor: pointer;\n",
              "      display: none;\n",
              "      fill: #1967D2;\n",
              "      height: 32px;\n",
              "      padding: 0 0 0 0;\n",
              "      width: 32px;\n",
              "    }\n",
              "\n",
              "    .colab-df-convert:hover {\n",
              "      background-color: #E2EBFA;\n",
              "      box-shadow: 0px 1px 2px rgba(60, 64, 67, 0.3), 0px 1px 3px 1px rgba(60, 64, 67, 0.15);\n",
              "      fill: #174EA6;\n",
              "    }\n",
              "\n",
              "    [theme=dark] .colab-df-convert {\n",
              "      background-color: #3B4455;\n",
              "      fill: #D2E3FC;\n",
              "    }\n",
              "\n",
              "    [theme=dark] .colab-df-convert:hover {\n",
              "      background-color: #434B5C;\n",
              "      box-shadow: 0px 1px 3px 1px rgba(0, 0, 0, 0.15);\n",
              "      filter: drop-shadow(0px 1px 2px rgba(0, 0, 0, 0.3));\n",
              "      fill: #FFFFFF;\n",
              "    }\n",
              "  </style>\n",
              "\n",
              "      <script>\n",
              "        const buttonEl =\n",
              "          document.querySelector('#df-45545c8a-5152-4b4a-8198-f1a95a62e3d6 button.colab-df-convert');\n",
              "        buttonEl.style.display =\n",
              "          google.colab.kernel.accessAllowed ? 'block' : 'none';\n",
              "\n",
              "        async function convertToInteractive(key) {\n",
              "          const element = document.querySelector('#df-45545c8a-5152-4b4a-8198-f1a95a62e3d6');\n",
              "          const dataTable =\n",
              "            await google.colab.kernel.invokeFunction('convertToInteractive',\n",
              "                                                     [key], {});\n",
              "          if (!dataTable) return;\n",
              "\n",
              "          const docLinkHtml = 'Like what you see? Visit the ' +\n",
              "            '<a target=\"_blank\" href=https://colab.research.google.com/notebooks/data_table.ipynb>data table notebook</a>'\n",
              "            + ' to learn more about interactive tables.';\n",
              "          element.innerHTML = '';\n",
              "          dataTable['output_type'] = 'display_data';\n",
              "          await google.colab.output.renderOutput(dataTable, element);\n",
              "          const docLink = document.createElement('div');\n",
              "          docLink.innerHTML = docLinkHtml;\n",
              "          element.appendChild(docLink);\n",
              "        }\n",
              "      </script>\n",
              "    </div>\n",
              "  </div>\n",
              "  "
            ]
          },
          "metadata": {},
          "execution_count": 5
        }
      ]
    },
    {
      "cell_type": "code",
      "source": [
        "diabetes_data.info(verbose=True)"
      ],
      "metadata": {
        "colab": {
          "base_uri": "https://localhost:8080/"
        },
        "id": "VG6LcEucMdhh",
        "outputId": "aeb5a583-f694-4b79-8dea-1b79de763c04"
      },
      "execution_count": null,
      "outputs": [
        {
          "output_type": "stream",
          "name": "stdout",
          "text": [
            "<class 'pandas.core.frame.DataFrame'>\n",
            "RangeIndex: 768 entries, 0 to 767\n",
            "Data columns (total 9 columns):\n",
            " #   Column                    Non-Null Count  Dtype  \n",
            "---  ------                    --------------  -----  \n",
            " 0   Pregnancies               768 non-null    int64  \n",
            " 1   Glucose                   768 non-null    int64  \n",
            " 2   BloodPressure             768 non-null    int64  \n",
            " 3   SkinThickness             768 non-null    int64  \n",
            " 4   Insulin                   768 non-null    int64  \n",
            " 5   BMI                       768 non-null    float64\n",
            " 6   DiabetesPedigreeFunction  768 non-null    float64\n",
            " 7   Age                       768 non-null    int64  \n",
            " 8   Outcome                   768 non-null    int64  \n",
            "dtypes: float64(2), int64(7)\n",
            "memory usage: 54.1 KB\n"
          ]
        }
      ]
    },
    {
      "cell_type": "code",
      "source": [
        "diabetes_data.shape"
      ],
      "metadata": {
        "colab": {
          "base_uri": "https://localhost:8080/"
        },
        "id": "Fx5RZEg0ZZCI",
        "outputId": "59bf2429-e5fd-4ab9-c6d9-eeb8f4c00da7"
      },
      "execution_count": null,
      "outputs": [
        {
          "output_type": "execute_result",
          "data": {
            "text/plain": [
              "(768, 9)"
            ]
          },
          "metadata": {},
          "execution_count": 34
        }
      ]
    },
    {
      "cell_type": "code",
      "source": [
        "d=diabetes_data.copy()\n",
        "for i in range(len(d)):\n",
        "  if d['Outcome'][i]==0:\n",
        "    d['Outcome'][i]='Negatif'\n",
        "  else:\n",
        "    d['Outcome'][i]='Positif'\n",
        "d['Outcome'].value_counts().plot.bar(rot=0, title='Diagram Data Diagnosis Diabetes',xlabel='Diagnosis Pasien')"
      ],
      "metadata": {
        "colab": {
          "base_uri": "https://localhost:8080/"
        },
        "id": "lYV0N8fBiVQB",
        "outputId": "addb34a4-0902-433f-9b24-a5f69dd83604"
      },
      "execution_count": null,
      "outputs": [
        {
          "output_type": "execute_result",
          "data": {
            "text/plain": [
              "<matplotlib.axes._subplots.AxesSubplot at 0x7fbbc3829970>"
            ]
          },
          "metadata": {},
          "execution_count": 35
        },
        {
          "output_type": "display_data",
          "data": {
            "text/plain": [
              "<Figure size 432x288 with 1 Axes>"
            ],
            "image/png": "[encoded data removed]"
          },
          "metadata": {
            "needs_background": "light"
          }
        }
      ]
    },
    {
      "cell_type": "markdown",
      "source": [
        "# Data Preprocessing"
      ],
      "metadata": {
        "id": "iARgvQn3L0G2"
      }
    },
    {
      "cell_type": "code",
      "source": [
        "diabetes_data.isnull().sum()"
      ],
      "metadata": {
        "colab": {
          "base_uri": "https://localhost:8080/"
        },
        "id": "E7Quv8UgVjbj",
        "outputId": "b4522ad7-8481-4d05-8261-9e8d608cb47c"
      },
      "execution_count": null,
      "outputs": [
        {
          "output_type": "execute_result",
          "data": {
            "text/plain": [
              "Pregnancies                 0\n",
              "Glucose                     0\n",
              "BloodPressure               0\n",
              "SkinThickness               0\n",
              "Insulin                     0\n",
              "BMI                         0\n",
              "DiabetesPedigreeFunction    0\n",
              "Age                         0\n",
              "Outcome                     0\n",
              "dtype: int64"
            ]
          },
          "metadata": {},
          "execution_count": 36
        }
      ]
    },
    {
      "cell_type": "code",
      "source": [
        "diabetes_data.duplicated().sum()"
      ],
      "metadata": {
        "colab": {
          "base_uri": "https://localhost:8080/"
        },
        "id": "LNNM7-6wLz0P",
        "outputId": "e641bac3-71b1-4767-c523-f4e2c4b5e9ab"
      },
      "execution_count": null,
      "outputs": [
        {
          "output_type": "execute_result",
          "data": {
            "text/plain": [
              "0"
            ]
          },
          "metadata": {},
          "execution_count": 37
        }
      ]
    },
    {
      "cell_type": "code",
      "source": [
        "numerical_columns = ['Pregnancies','Glucose','BloodPressure','SkinThickness',\n",
        "                     'Insulin','BMI','DiabetesPedigreeFunction','Age']"
      ],
      "metadata": {
        "id": "5QYlMQmDqh-a"
      },
      "execution_count": null,
      "outputs": []
    },
    {
      "cell_type": "code",
      "source": [
        "nul = []\n",
        "for i in range(len(numerical_columns)):\n",
        "  bnyk = diabetes_data.loc[diabetes_data[numerical_columns[i]] == 0]\n",
        "  nul.append(len(bnyk))\n",
        "data = {'Fitur': numerical_columns,  \n",
        "        'Jumlah Null': nul}  #buat kerangka data frame Y \n",
        "\n",
        "dataxy = pd.DataFrame(data) #bentuk data frame X dan Y\n",
        "dataxy.style.hide_index()"
      ],
      "metadata": {
        "colab": {
          "base_uri": "https://localhost:8080/",
          "height": 300
        },
        "id": "myyWiKw9qof2",
        "outputId": "7814c84c-a841-441e-c4fd-504ab9d682ad"
      },
      "execution_count": null,
      "outputs": [
        {
          "output_type": "execute_result",
          "data": {
            "text/plain": [
              "<pandas.io.formats.style.Styler at 0x7fbbc0f42ac0>"
            ],
            "text/html": [
              "<style type=\"text/css\">\n",
              "</style>\n",
              "<table id=\"T_2e3c6_\" class=\"dataframe\">\n",
              "  <thead>\n",
              "    <tr>\n",
              "      <th class=\"col_heading level0 col0\" >Fitur</th>\n",
              "      <th class=\"col_heading level0 col1\" >Jumlah Null</th>\n",
              "    </tr>\n",
              "  </thead>\n",
              "  <tbody>\n",
              "    <tr>\n",
              "      <td id=\"T_2e3c6_row0_col0\" class=\"data row0 col0\" >Pregnancies</td>\n",
              "      <td id=\"T_2e3c6_row0_col1\" class=\"data row0 col1\" >111</td>\n",
              "    </tr>\n",
              "    <tr>\n",
              "      <td id=\"T_2e3c6_row1_col0\" class=\"data row1 col0\" >Glucose</td>\n",
              "      <td id=\"T_2e3c6_row1_col1\" class=\"data row1 col1\" >5</td>\n",
              "    </tr>\n",
              "    <tr>\n",
              "      <td id=\"T_2e3c6_row2_col0\" class=\"data row2 col0\" >BloodPressure</td>\n",
              "      <td id=\"T_2e3c6_row2_col1\" class=\"data row2 col1\" >35</td>\n",
              "    </tr>\n",
              "    <tr>\n",
              "      <td id=\"T_2e3c6_row3_col0\" class=\"data row3 col0\" >SkinThickness</td>\n",
              "      <td id=\"T_2e3c6_row3_col1\" class=\"data row3 col1\" >227</td>\n",
              "    </tr>\n",
              "    <tr>\n",
              "      <td id=\"T_2e3c6_row4_col0\" class=\"data row4 col0\" >Insulin</td>\n",
              "      <td id=\"T_2e3c6_row4_col1\" class=\"data row4 col1\" >374</td>\n",
              "    </tr>\n",
              "    <tr>\n",
              "      <td id=\"T_2e3c6_row5_col0\" class=\"data row5 col0\" >BMI</td>\n",
              "      <td id=\"T_2e3c6_row5_col1\" class=\"data row5 col1\" >11</td>\n",
              "    </tr>\n",
              "    <tr>\n",
              "      <td id=\"T_2e3c6_row6_col0\" class=\"data row6 col0\" >DiabetesPedigreeFunction</td>\n",
              "      <td id=\"T_2e3c6_row6_col1\" class=\"data row6 col1\" >0</td>\n",
              "    </tr>\n",
              "    <tr>\n",
              "      <td id=\"T_2e3c6_row7_col0\" class=\"data row7 col0\" >Age</td>\n",
              "      <td id=\"T_2e3c6_row7_col1\" class=\"data row7 col1\" >0</td>\n",
              "    </tr>\n",
              "  </tbody>\n",
              "</table>\n"
            ]
          },
          "metadata": {},
          "execution_count": 56
        }
      ]
    },
    {
      "cell_type": "code",
      "source": [
        "ganti_0 = ['Glucose','BloodPressure','SkinThickness',\n",
        "                     'Insulin','BMI']"
      ],
      "metadata": {
        "id": "__wYur5WaQfB"
      },
      "execution_count": null,
      "outputs": []
    },
    {
      "cell_type": "code",
      "source": [
        "for i in range(len(ganti_0)):\n",
        "  mean_df = np.mean(diabetes_data[ganti_0[i]])\n",
        "  if i != 4:\n",
        "    mean_df = np.ceil(mean_df)\n",
        "    diabetes_data[ganti_0[i]] = diabetes_data[ganti_0[i]].replace(0,mean_df)\n",
        "  else:\n",
        "    mean_df = float(np.ceil(mean_df))\n",
        "    diabetes_data[ganti_0[i]] = diabetes_data[ganti_0[i]].replace(0.0,mean_df)"
      ],
      "metadata": {
        "id": "Bq7O7LtYeiQg"
      },
      "execution_count": null,
      "outputs": []
    },
    {
      "cell_type": "code",
      "source": [
        "diabetes_data"
      ],
      "metadata": {
        "colab": {
          "base_uri": "https://localhost:8080/",
          "height": 424
        },
        "id": "rbM8pfw83cys",
        "outputId": "ee484d96-09bc-419d-fc9f-3d8ad88e8f16"
      },
      "execution_count": null,
      "outputs": [
        {
          "output_type": "execute_result",
          "data": {
            "text/plain": [
              "     Pregnancies  Glucose  BloodPressure  SkinThickness  Insulin   BMI  \\\n",
              "0              6      148             72             35       80  33.6   \n",
              "1              1       85             66             29       80  26.6   \n",
              "2              8      183             64             21       80  23.3   \n",
              "3              1       89             66             23       94  28.1   \n",
              "4              0      137             40             35      168  43.1   \n",
              "..           ...      ...            ...            ...      ...   ...   \n",
              "763           10      101             76             48      180  32.9   \n",
              "764            2      122             70             27       80  36.8   \n",
              "765            5      121             72             23      112  26.2   \n",
              "766            1      126             60             21       80  30.1   \n",
              "767            1       93             70             31       80  30.4   \n",
              "\n",
              "     DiabetesPedigreeFunction  Age  Outcome  \n",
              "0                       0.627   50        1  \n",
              "1                       0.351   31        0  \n",
              "2                       0.672   32        1  \n",
              "3                       0.167   21        0  \n",
              "4                       2.288   33        1  \n",
              "..                        ...  ...      ...  \n",
              "763                     0.171   63        0  \n",
              "764                     0.340   27        0  \n",
              "765                     0.245   30        0  \n",
              "766                     0.349   47        1  \n",
              "767                     0.315   23        0  \n",
              "\n",
              "[768 rows x 9 columns]"
            ],
            "text/html": [
              "\n",
              "  <div id=\"df-cafdbf0f-fffe-42e9-a522-fe0c2b1a159f\">\n",
              "    <div class=\"colab-df-container\">\n",
              "      <div>\n",
              "<style scoped>\n",
              "    .dataframe tbody tr th:only-of-type {\n",
              "        vertical-align: middle;\n",
              "    }\n",
              "\n",
              "    .dataframe tbody tr th {\n",
              "        vertical-align: top;\n",
              "    }\n",
              "\n",
              "    .dataframe thead th {\n",
              "        text-align: right;\n",
              "    }\n",
              "</style>\n",
              "<table border=\"1\" class=\"dataframe\">\n",
              "  <thead>\n",
              "    <tr style=\"text-align: right;\">\n",
              "      <th></th>\n",
              "      <th>Pregnancies</th>\n",
              "      <th>Glucose</th>\n",
              "      <th>BloodPressure</th>\n",
              "      <th>SkinThickness</th>\n",
              "      <th>Insulin</th>\n",
              "      <th>BMI</th>\n",
              "      <th>DiabetesPedigreeFunction</th>\n",
              "      <th>Age</th>\n",
              "      <th>Outcome</th>\n",
              "    </tr>\n",
              "  </thead>\n",
              "  <tbody>\n",
              "    <tr>\n",
              "      <th>0</th>\n",
              "      <td>6</td>\n",
              "      <td>148</td>\n",
              "      <td>72</td>\n",
              "      <td>35</td>\n",
              "      <td>80</td>\n",
              "      <td>33.6</td>\n",
              "      <td>0.627</td>\n",
              "      <td>50</td>\n",
              "      <td>1</td>\n",
              "    </tr>\n",
              "    <tr>\n",
              "      <th>1</th>\n",
              "      <td>1</td>\n",
              "      <td>85</td>\n",
              "      <td>66</td>\n",
              "      <td>29</td>\n",
              "      <td>80</td>\n",
              "      <td>26.6</td>\n",
              "      <td>0.351</td>\n",
              "      <td>31</td>\n",
              "      <td>0</td>\n",
              "    </tr>\n",
              "    <tr>\n",
              "      <th>2</th>\n",
              "      <td>8</td>\n",
              "      <td>183</td>\n",
              "      <td>64</td>\n",
              "      <td>21</td>\n",
              "      <td>80</td>\n",
              "      <td>23.3</td>\n",
              "      <td>0.672</td>\n",
              "      <td>32</td>\n",
              "      <td>1</td>\n",
              "    </tr>\n",
              "    <tr>\n",
              "      <th>3</th>\n",
              "      <td>1</td>\n",
              "      <td>89</td>\n",
              "      <td>66</td>\n",
              "      <td>23</td>\n",
              "      <td>94</td>\n",
              "      <td>28.1</td>\n",
              "      <td>0.167</td>\n",
              "      <td>21</td>\n",
              "      <td>0</td>\n",
              "    </tr>\n",
              "    <tr>\n",
              "      <th>4</th>\n",
              "      <td>0</td>\n",
              "      <td>137</td>\n",
              "      <td>40</td>\n",
              "      <td>35</td>\n",
              "      <td>168</td>\n",
              "      <td>43.1</td>\n",
              "      <td>2.288</td>\n",
              "      <td>33</td>\n",
              "      <td>1</td>\n",
              "    </tr>\n",
              "    <tr>\n",
              "      <th>...</th>\n",
              "      <td>...</td>\n",
              "      <td>...</td>\n",
              "      <td>...</td>\n",
              "      <td>...</td>\n",
              "      <td>...</td>\n",
              "      <td>...</td>\n",
              "      <td>...</td>\n",
              "      <td>...</td>\n",
              "      <td>...</td>\n",
              "    </tr>\n",
              "    <tr>\n",
              "      <th>763</th>\n",
              "      <td>10</td>\n",
              "      <td>101</td>\n",
              "      <td>76</td>\n",
              "      <td>48</td>\n",
              "      <td>180</td>\n",
              "      <td>32.9</td>\n",
              "      <td>0.171</td>\n",
              "      <td>63</td>\n",
              "      <td>0</td>\n",
              "    </tr>\n",
              "    <tr>\n",
              "      <th>764</th>\n",
              "      <td>2</td>\n",
              "      <td>122</td>\n",
              "      <td>70</td>\n",
              "      <td>27</td>\n",
              "      <td>80</td>\n",
              "      <td>36.8</td>\n",
              "      <td>0.340</td>\n",
              "      <td>27</td>\n",
              "      <td>0</td>\n",
              "    </tr>\n",
              "    <tr>\n",
              "      <th>765</th>\n",
              "      <td>5</td>\n",
              "      <td>121</td>\n",
              "      <td>72</td>\n",
              "      <td>23</td>\n",
              "      <td>112</td>\n",
              "      <td>26.2</td>\n",
              "      <td>0.245</td>\n",
              "      <td>30</td>\n",
              "      <td>0</td>\n",
              "    </tr>\n",
              "    <tr>\n",
              "      <th>766</th>\n",
              "      <td>1</td>\n",
              "      <td>126</td>\n",
              "      <td>60</td>\n",
              "      <td>21</td>\n",
              "      <td>80</td>\n",
              "      <td>30.1</td>\n",
              "      <td>0.349</td>\n",
              "      <td>47</td>\n",
              "      <td>1</td>\n",
              "    </tr>\n",
              "    <tr>\n",
              "      <th>767</th>\n",
              "      <td>1</td>\n",
              "      <td>93</td>\n",
              "      <td>70</td>\n",
              "      <td>31</td>\n",
              "      <td>80</td>\n",
              "      <td>30.4</td>\n",
              "      <td>0.315</td>\n",
              "      <td>23</td>\n",
              "      <td>0</td>\n",
              "    </tr>\n",
              "  </tbody>\n",
              "</table>\n",
              "<p>768 rows × 9 columns</p>\n",
              "</div>\n",
              "      <button class=\"colab-df-convert\" onclick=\"convertToInteractive('df-cafdbf0f-fffe-42e9-a522-fe0c2b1a159f')\"\n",
              "              title=\"Convert this dataframe to an interactive table.\"\n",
              "              style=\"display:none;\">\n",
              "        \n",
              "  <svg xmlns=\"http://www.w3.org/2000/svg\" height=\"24px\"viewBox=\"0 0 24 24\"\n",
              "       width=\"24px\">\n",
              "    <path d=\"M0 0h24v24H0V0z\" fill=\"none\"/>\n",
              "    <path d=\"M18.56 5.44l.94 2.06.94-2.06 2.06-.94-2.06-.94-.94-2.06-.94 2.06-2.06.94zm-11 1L8.5 8.5l.94-2.06 2.06-.94-2.06-.94L8.5 2.5l-.94 2.06-2.06.94zm10 10l.94 2.06.94-2.06 2.06-.94-2.06-.94-.94-2.06-.94 2.06-2.06.94z\"/><path d=\"M17.41 7.96l-1.37-1.37c-.4-.4-.92-.59-1.43-.59-.52 0-1.04.2-1.43.59L10.3 9.45l-7.72 7.72c-.78.78-.78 2.05 0 2.83L4 21.41c.39.39.9.59 1.41.59.51 0 1.02-.2 1.41-.59l7.78-7.78 2.81-2.81c.8-.78.8-2.07 0-2.86zM5.41 20L4 18.59l7.72-7.72 1.47 1.35L5.41 20z\"/>\n",
              "  </svg>\n",
              "      </button>\n",
              "      \n",
              "  <style>\n",
              "    .colab-df-container {\n",
              "      display:flex;\n",
              "      flex-wrap:wrap;\n",
              "      gap: 12px;\n",
              "    }\n",
              "\n",
              "    .colab-df-convert {\n",
              "      background-color: #E8F0FE;\n",
              "      border: none;\n",
              "      border-radius: 50%;\n",
              "      cursor: pointer;\n",
              "      display: none;\n",
              "      fill: #1967D2;\n",
              "      height: 32px;\n",
              "      padding: 0 0 0 0;\n",
              "      width: 32px;\n",
              "    }\n",
              "\n",
              "    .colab-df-convert:hover {\n",
              "      background-color: #E2EBFA;\n",
              "      box-shadow: 0px 1px 2px rgba(60, 64, 67, 0.3), 0px 1px 3px 1px rgba(60, 64, 67, 0.15);\n",
              "      fill: #174EA6;\n",
              "    }\n",
              "\n",
              "    [theme=dark] .colab-df-convert {\n",
              "      background-color: #3B4455;\n",
              "      fill: #D2E3FC;\n",
              "    }\n",
              "\n",
              "    [theme=dark] .colab-df-convert:hover {\n",
              "      background-color: #434B5C;\n",
              "      box-shadow: 0px 1px 3px 1px rgba(0, 0, 0, 0.15);\n",
              "      filter: drop-shadow(0px 1px 2px rgba(0, 0, 0, 0.3));\n",
              "      fill: #FFFFFF;\n",
              "    }\n",
              "  </style>\n",
              "\n",
              "      <script>\n",
              "        const buttonEl =\n",
              "          document.querySelector('#df-cafdbf0f-fffe-42e9-a522-fe0c2b1a159f button.colab-df-convert');\n",
              "        buttonEl.style.display =\n",
              "          google.colab.kernel.accessAllowed ? 'block' : 'none';\n",
              "\n",
              "        async function convertToInteractive(key) {\n",
              "          const element = document.querySelector('#df-cafdbf0f-fffe-42e9-a522-fe0c2b1a159f');\n",
              "          const dataTable =\n",
              "            await google.colab.kernel.invokeFunction('convertToInteractive',\n",
              "                                                     [key], {});\n",
              "          if (!dataTable) return;\n",
              "\n",
              "          const docLinkHtml = 'Like what you see? Visit the ' +\n",
              "            '<a target=\"_blank\" href=https://colab.research.google.com/notebooks/data_table.ipynb>data table notebook</a>'\n",
              "            + ' to learn more about interactive tables.';\n",
              "          element.innerHTML = '';\n",
              "          dataTable['output_type'] = 'display_data';\n",
              "          await google.colab.output.renderOutput(dataTable, element);\n",
              "          const docLink = document.createElement('div');\n",
              "          docLink.innerHTML = docLinkHtml;\n",
              "          element.appendChild(docLink);\n",
              "        }\n",
              "      </script>\n",
              "    </div>\n",
              "  </div>\n",
              "  "
            ]
          },
          "metadata": {},
          "execution_count": 16
        }
      ]
    },
    {
      "cell_type": "code",
      "source": [
        "plt.figure(figsize=(12,4))\n",
        "for i in range(0,len(numerical_columns)):\n",
        "    plt.subplot(1,len(numerical_columns),i+1)\n",
        "    sns.boxplot(y=diabetes_data[numerical_columns[i]])\n",
        "    plt.tight_layout()"
      ],
      "metadata": {
        "colab": {
          "base_uri": "https://localhost:8080/",
          "height": 297
        },
        "id": "9YxqsvzpaxUh",
        "outputId": "eea56049-3ab2-4cda-f16a-946ca2bdf202"
      },
      "execution_count": null,
      "outputs": [
        {
          "output_type": "display_data",
          "data": {
            "text/plain": [
              "<Figure size 864x288 with 8 Axes>"
            ],
            "image/png": "[encoded data removed]"
          },
          "metadata": {
            "needs_background": "light"
          }
        }
      ]
    },
    {
      "cell_type": "code",
      "source": [
        "for i in range(len(numerical_columns)):\n",
        "  Q1 = np.quantile(diabetes_data[numerical_columns[i]], .25)\n",
        "  Q3 = np.quantile(diabetes_data[numerical_columns[i]], .75)\n",
        "  IQR = Q3 - Q1\n",
        "  lower_bound = Q1 - 1.5 * IQR\n",
        "  upper_bound = Q3 + 1.5 * IQR\n",
        "  \n",
        "  #cek data outlier\n",
        "  outmax=diabetes_data.loc[diabetes_data[numerical_columns[i]] > upper_bound]\n",
        "  outmin=diabetes_data.loc[diabetes_data[numerical_columns[i]] < lower_bound]\n",
        "  if len(outmax)!=0:\n",
        "    for j in range(len(outmax.index)):\n",
        "      diabetes_data[numerical_columns[i]][outmax.index[j]] = upper_bound\n",
        "  if len(outmin)!=0:\n",
        "    for j in range(len(outmin.index)):\n",
        "      diabetes_data[numerical_columns[i]][outmin.index[j]] = lower_bound"
      ],
      "metadata": {
        "id": "6mqH4T_EOiL5"
      },
      "execution_count": null,
      "outputs": []
    },
    {
      "cell_type": "code",
      "source": [
        "plt.figure(figsize=(12,4))\n",
        "for i in range(0,len(numerical_columns)):\n",
        "    plt.subplot(1,len(numerical_columns),i+1)\n",
        "    sns.boxplot(y=diabetes_data[numerical_columns[i]])\n",
        "    plt.tight_layout()"
      ],
      "metadata": {
        "colab": {
          "base_uri": "https://localhost:8080/",
          "height": 297
        },
        "id": "PkJNyGdfOvfA",
        "outputId": "36a0c6ef-8211-4e8f-a565-60bcf7d93ed0"
      },
      "execution_count": null,
      "outputs": [
        {
          "output_type": "display_data",
          "data": {
            "text/plain": [
              "<Figure size 864x288 with 8 Axes>"
            ],
            "image/png": "[encoded data removed]"
          },
          "metadata": {
            "needs_background": "light"
          }
        }
      ]
    },
    {
      "cell_type": "code",
      "source": [
        "diabetes_data"
      ],
      "metadata": {
        "colab": {
          "base_uri": "https://localhost:8080/",
          "height": 424
        },
        "id": "SJWBnXIYXpep",
        "outputId": "dc8b0bcf-4607-4706-e95b-c106534af754"
      },
      "execution_count": null,
      "outputs": [
        {
          "output_type": "execute_result",
          "data": {
            "text/plain": [
              "     Pregnancies  Glucose  BloodPressure  SkinThickness  Insulin   BMI  \\\n",
              "0              6      148             72             35       80  33.6   \n",
              "1              1       85             66             29       80  26.6   \n",
              "2              8      183             64             21       80  23.3   \n",
              "3              1       89             66             23       94  28.1   \n",
              "4              0      137             40             35      168  43.1   \n",
              "..           ...      ...            ...            ...      ...   ...   \n",
              "763           10      101             76             48      180  32.9   \n",
              "764            2      122             70             27       80  36.8   \n",
              "765            5      121             72             23      112  26.2   \n",
              "766            1      126             60             21       80  30.1   \n",
              "767            1       93             70             31       80  30.4   \n",
              "\n",
              "     DiabetesPedigreeFunction  Age  Outcome  \n",
              "0                       0.627   50        1  \n",
              "1                       0.351   31        0  \n",
              "2                       0.672   32        1  \n",
              "3                       0.167   21        0  \n",
              "4                       1.200   33        1  \n",
              "..                        ...  ...      ...  \n",
              "763                     0.171   63        0  \n",
              "764                     0.340   27        0  \n",
              "765                     0.245   30        0  \n",
              "766                     0.349   47        1  \n",
              "767                     0.315   23        0  \n",
              "\n",
              "[768 rows x 9 columns]"
            ],
            "text/html": [
              "\n",
              "  <div id=\"df-6e068eda-0213-4ccb-91c4-64b2dc14ae37\">\n",
              "    <div class=\"colab-df-container\">\n",
              "      <div>\n",
              "<style scoped>\n",
              "    .dataframe tbody tr th:only-of-type {\n",
              "        vertical-align: middle;\n",
              "    }\n",
              "\n",
              "    .dataframe tbody tr th {\n",
              "        vertical-align: top;\n",
              "    }\n",
              "\n",
              "    .dataframe thead th {\n",
              "        text-align: right;\n",
              "    }\n",
              "</style>\n",
              "<table border=\"1\" class=\"dataframe\">\n",
              "  <thead>\n",
              "    <tr style=\"text-align: right;\">\n",
              "      <th></th>\n",
              "      <th>Pregnancies</th>\n",
              "      <th>Glucose</th>\n",
              "      <th>BloodPressure</th>\n",
              "      <th>SkinThickness</th>\n",
              "      <th>Insulin</th>\n",
              "      <th>BMI</th>\n",
              "      <th>DiabetesPedigreeFunction</th>\n",
              "      <th>Age</th>\n",
              "      <th>Outcome</th>\n",
              "    </tr>\n",
              "  </thead>\n",
              "  <tbody>\n",
              "    <tr>\n",
              "      <th>0</th>\n",
              "      <td>6</td>\n",
              "      <td>148</td>\n",
              "      <td>72</td>\n",
              "      <td>35</td>\n",
              "      <td>80</td>\n",
              "      <td>33.6</td>\n",
              "      <td>0.627</td>\n",
              "      <td>50</td>\n",
              "      <td>1</td>\n",
              "    </tr>\n",
              "    <tr>\n",
              "      <th>1</th>\n",
              "      <td>1</td>\n",
              "      <td>85</td>\n",
              "      <td>66</td>\n",
              "      <td>29</td>\n",
              "      <td>80</td>\n",
              "      <td>26.6</td>\n",
              "      <td>0.351</td>\n",
              "      <td>31</td>\n",
              "      <td>0</td>\n",
              "    </tr>\n",
              "    <tr>\n",
              "      <th>2</th>\n",
              "      <td>8</td>\n",
              "      <td>183</td>\n",
              "      <td>64</td>\n",
              "      <td>21</td>\n",
              "      <td>80</td>\n",
              "      <td>23.3</td>\n",
              "      <td>0.672</td>\n",
              "      <td>32</td>\n",
              "      <td>1</td>\n",
              "    </tr>\n",
              "    <tr>\n",
              "      <th>3</th>\n",
              "      <td>1</td>\n",
              "      <td>89</td>\n",
              "      <td>66</td>\n",
              "      <td>23</td>\n",
              "      <td>94</td>\n",
              "      <td>28.1</td>\n",
              "      <td>0.167</td>\n",
              "      <td>21</td>\n",
              "      <td>0</td>\n",
              "    </tr>\n",
              "    <tr>\n",
              "      <th>4</th>\n",
              "      <td>0</td>\n",
              "      <td>137</td>\n",
              "      <td>40</td>\n",
              "      <td>35</td>\n",
              "      <td>168</td>\n",
              "      <td>43.1</td>\n",
              "      <td>1.200</td>\n",
              "      <td>33</td>\n",
              "      <td>1</td>\n",
              "    </tr>\n",
              "    <tr>\n",
              "      <th>...</th>\n",
              "      <td>...</td>\n",
              "      <td>...</td>\n",
              "      <td>...</td>\n",
              "      <td>...</td>\n",
              "      <td>...</td>\n",
              "      <td>...</td>\n",
              "      <td>...</td>\n",
              "      <td>...</td>\n",
              "      <td>...</td>\n",
              "    </tr>\n",
              "    <tr>\n",
              "      <th>763</th>\n",
              "      <td>10</td>\n",
              "      <td>101</td>\n",
              "      <td>76</td>\n",
              "      <td>48</td>\n",
              "      <td>180</td>\n",
              "      <td>32.9</td>\n",
              "      <td>0.171</td>\n",
              "      <td>63</td>\n",
              "      <td>0</td>\n",
              "    </tr>\n",
              "    <tr>\n",
              "      <th>764</th>\n",
              "      <td>2</td>\n",
              "      <td>122</td>\n",
              "      <td>70</td>\n",
              "      <td>27</td>\n",
              "      <td>80</td>\n",
              "      <td>36.8</td>\n",
              "      <td>0.340</td>\n",
              "      <td>27</td>\n",
              "      <td>0</td>\n",
              "    </tr>\n",
              "    <tr>\n",
              "      <th>765</th>\n",
              "      <td>5</td>\n",
              "      <td>121</td>\n",
              "      <td>72</td>\n",
              "      <td>23</td>\n",
              "      <td>112</td>\n",
              "      <td>26.2</td>\n",
              "      <td>0.245</td>\n",
              "      <td>30</td>\n",
              "      <td>0</td>\n",
              "    </tr>\n",
              "    <tr>\n",
              "      <th>766</th>\n",
              "      <td>1</td>\n",
              "      <td>126</td>\n",
              "      <td>60</td>\n",
              "      <td>21</td>\n",
              "      <td>80</td>\n",
              "      <td>30.1</td>\n",
              "      <td>0.349</td>\n",
              "      <td>47</td>\n",
              "      <td>1</td>\n",
              "    </tr>\n",
              "    <tr>\n",
              "      <th>767</th>\n",
              "      <td>1</td>\n",
              "      <td>93</td>\n",
              "      <td>70</td>\n",
              "      <td>31</td>\n",
              "      <td>80</td>\n",
              "      <td>30.4</td>\n",
              "      <td>0.315</td>\n",
              "      <td>23</td>\n",
              "      <td>0</td>\n",
              "    </tr>\n",
              "  </tbody>\n",
              "</table>\n",
              "<p>768 rows × 9 columns</p>\n",
              "</div>\n",
              "      <button class=\"colab-df-convert\" onclick=\"convertToInteractive('df-6e068eda-0213-4ccb-91c4-64b2dc14ae37')\"\n",
              "              title=\"Convert this dataframe to an interactive table.\"\n",
              "              style=\"display:none;\">\n",
              "        \n",
              "  <svg xmlns=\"http://www.w3.org/2000/svg\" height=\"24px\"viewBox=\"0 0 24 24\"\n",
              "       width=\"24px\">\n",
              "    <path d=\"M0 0h24v24H0V0z\" fill=\"none\"/>\n",
              "    <path d=\"M18.56 5.44l.94 2.06.94-2.06 2.06-.94-2.06-.94-.94-2.06-.94 2.06-2.06.94zm-11 1L8.5 8.5l.94-2.06 2.06-.94-2.06-.94L8.5 2.5l-.94 2.06-2.06.94zm10 10l.94 2.06.94-2.06 2.06-.94-2.06-.94-.94-2.06-.94 2.06-2.06.94z\"/><path d=\"M17.41 7.96l-1.37-1.37c-.4-.4-.92-.59-1.43-.59-.52 0-1.04.2-1.43.59L10.3 9.45l-7.72 7.72c-.78.78-.78 2.05 0 2.83L4 21.41c.39.39.9.59 1.41.59.51 0 1.02-.2 1.41-.59l7.78-7.78 2.81-2.81c.8-.78.8-2.07 0-2.86zM5.41 20L4 18.59l7.72-7.72 1.47 1.35L5.41 20z\"/>\n",
              "  </svg>\n",
              "      </button>\n",
              "      \n",
              "  <style>\n",
              "    .colab-df-container {\n",
              "      display:flex;\n",
              "      flex-wrap:wrap;\n",
              "      gap: 12px;\n",
              "    }\n",
              "\n",
              "    .colab-df-convert {\n",
              "      background-color: #E8F0FE;\n",
              "      border: none;\n",
              "      border-radius: 50%;\n",
              "      cursor: pointer;\n",
              "      display: none;\n",
              "      fill: #1967D2;\n",
              "      height: 32px;\n",
              "      padding: 0 0 0 0;\n",
              "      width: 32px;\n",
              "    }\n",
              "\n",
              "    .colab-df-convert:hover {\n",
              "      background-color: #E2EBFA;\n",
              "      box-shadow: 0px 1px 2px rgba(60, 64, 67, 0.3), 0px 1px 3px 1px rgba(60, 64, 67, 0.15);\n",
              "      fill: #174EA6;\n",
              "    }\n",
              "\n",
              "    [theme=dark] .colab-df-convert {\n",
              "      background-color: #3B4455;\n",
              "      fill: #D2E3FC;\n",
              "    }\n",
              "\n",
              "    [theme=dark] .colab-df-convert:hover {\n",
              "      background-color: #434B5C;\n",
              "      box-shadow: 0px 1px 3px 1px rgba(0, 0, 0, 0.15);\n",
              "      filter: drop-shadow(0px 1px 2px rgba(0, 0, 0, 0.3));\n",
              "      fill: #FFFFFF;\n",
              "    }\n",
              "  </style>\n",
              "\n",
              "      <script>\n",
              "        const buttonEl =\n",
              "          document.querySelector('#df-6e068eda-0213-4ccb-91c4-64b2dc14ae37 button.colab-df-convert');\n",
              "        buttonEl.style.display =\n",
              "          google.colab.kernel.accessAllowed ? 'block' : 'none';\n",
              "\n",
              "        async function convertToInteractive(key) {\n",
              "          const element = document.querySelector('#df-6e068eda-0213-4ccb-91c4-64b2dc14ae37');\n",
              "          const dataTable =\n",
              "            await google.colab.kernel.invokeFunction('convertToInteractive',\n",
              "                                                     [key], {});\n",
              "          if (!dataTable) return;\n",
              "\n",
              "          const docLinkHtml = 'Like what you see? Visit the ' +\n",
              "            '<a target=\"_blank\" href=https://colab.research.google.com/notebooks/data_table.ipynb>data table notebook</a>'\n",
              "            + ' to learn more about interactive tables.';\n",
              "          element.innerHTML = '';\n",
              "          dataTable['output_type'] = 'display_data';\n",
              "          await google.colab.output.renderOutput(dataTable, element);\n",
              "          const docLink = document.createElement('div');\n",
              "          docLink.innerHTML = docLinkHtml;\n",
              "          element.appendChild(docLink);\n",
              "        }\n",
              "      </script>\n",
              "    </div>\n",
              "  </div>\n",
              "  "
            ]
          },
          "metadata": {},
          "execution_count": 21
        }
      ]
    },
    {
      "cell_type": "code",
      "source": [
        "diabetes_data.describe()"
      ],
      "metadata": {
        "colab": {
          "base_uri": "https://localhost:8080/",
          "height": 300
        },
        "id": "mtGtgTBLl16G",
        "outputId": "bfdac5ab-85a1-4333-d43d-0e27a0602c8d"
      },
      "execution_count": null,
      "outputs": [
        {
          "output_type": "execute_result",
          "data": {
            "text/plain": [
              "       Pregnancies     Glucose  BloodPressure  SkinThickness     Insulin  \\\n",
              "count   768.000000  768.000000     768.000000     768.000000  768.000000   \n",
              "mean      3.834635  121.682292      72.266927      26.589844  103.944010   \n",
              "std       3.336808   30.435999      11.707333       8.969585   46.629117   \n",
              "min       0.000000   44.000000      40.000000       7.000000   14.000000   \n",
              "25%       1.000000   99.750000      64.000000      21.000000   80.000000   \n",
              "50%       3.000000  117.000000      72.000000      23.000000   80.000000   \n",
              "75%       6.000000  140.250000      80.000000      32.000000  127.250000   \n",
              "max      13.000000  199.000000     104.000000      48.000000  198.000000   \n",
              "\n",
              "              BMI  DiabetesPedigreeFunction         Age     Outcome  \n",
              "count  768.000000                768.000000  768.000000  768.000000  \n",
              "mean    32.389063                  0.458914   33.194010    0.348958  \n",
              "std      6.667627                  0.285596   11.611715    0.476951  \n",
              "min     18.200000                  0.078000   21.000000    0.000000  \n",
              "25%     27.500000                  0.243750   24.000000    0.000000  \n",
              "50%     32.000000                  0.372500   29.000000    0.000000  \n",
              "75%     36.600000                  0.626250   41.000000    1.000000  \n",
              "max     50.250000                  1.200000   66.000000    1.000000  "
            ],
            "text/html": [
              "\n",
              "  <div id=\"df-d136f310-6ae9-43ef-b2fd-e4544a2bbb1a\">\n",
              "    <div class=\"colab-df-container\">\n",
              "      <div>\n",
              "<style scoped>\n",
              "    .dataframe tbody tr th:only-of-type {\n",
              "        vertical-align: middle;\n",
              "    }\n",
              "\n",
              "    .dataframe tbody tr th {\n",
              "        vertical-align: top;\n",
              "    }\n",
              "\n",
              "    .dataframe thead th {\n",
              "        text-align: right;\n",
              "    }\n",
              "</style>\n",
              "<table border=\"1\" class=\"dataframe\">\n",
              "  <thead>\n",
              "    <tr style=\"text-align: right;\">\n",
              "      <th></th>\n",
              "      <th>Pregnancies</th>\n",
              "      <th>Glucose</th>\n",
              "      <th>BloodPressure</th>\n",
              "      <th>SkinThickness</th>\n",
              "      <th>Insulin</th>\n",
              "      <th>BMI</th>\n",
              "      <th>DiabetesPedigreeFunction</th>\n",
              "      <th>Age</th>\n",
              "      <th>Outcome</th>\n",
              "    </tr>\n",
              "  </thead>\n",
              "  <tbody>\n",
              "    <tr>\n",
              "      <th>count</th>\n",
              "      <td>768.000000</td>\n",
              "      <td>768.000000</td>\n",
              "      <td>768.000000</td>\n",
              "      <td>768.000000</td>\n",
              "      <td>768.000000</td>\n",
              "      <td>768.000000</td>\n",
              "      <td>768.000000</td>\n",
              "      <td>768.000000</td>\n",
              "      <td>768.000000</td>\n",
              "    </tr>\n",
              "    <tr>\n",
              "      <th>mean</th>\n",
              "      <td>3.834635</td>\n",
              "      <td>121.682292</td>\n",
              "      <td>72.266927</td>\n",
              "      <td>26.589844</td>\n",
              "      <td>103.944010</td>\n",
              "      <td>32.389063</td>\n",
              "      <td>0.458914</td>\n",
              "      <td>33.194010</td>\n",
              "      <td>0.348958</td>\n",
              "    </tr>\n",
              "    <tr>\n",
              "      <th>std</th>\n",
              "      <td>3.336808</td>\n",
              "      <td>30.435999</td>\n",
              "      <td>11.707333</td>\n",
              "      <td>8.969585</td>\n",
              "      <td>46.629117</td>\n",
              "      <td>6.667627</td>\n",
              "      <td>0.285596</td>\n",
              "      <td>11.611715</td>\n",
              "      <td>0.476951</td>\n",
              "    </tr>\n",
              "    <tr>\n",
              "      <th>min</th>\n",
              "      <td>0.000000</td>\n",
              "      <td>44.000000</td>\n",
              "      <td>40.000000</td>\n",
              "      <td>7.000000</td>\n",
              "      <td>14.000000</td>\n",
              "      <td>18.200000</td>\n",
              "      <td>0.078000</td>\n",
              "      <td>21.000000</td>\n",
              "      <td>0.000000</td>\n",
              "    </tr>\n",
              "    <tr>\n",
              "      <th>25%</th>\n",
              "      <td>1.000000</td>\n",
              "      <td>99.750000</td>\n",
              "      <td>64.000000</td>\n",
              "      <td>21.000000</td>\n",
              "      <td>80.000000</td>\n",
              "      <td>27.500000</td>\n",
              "      <td>0.243750</td>\n",
              "      <td>24.000000</td>\n",
              "      <td>0.000000</td>\n",
              "    </tr>\n",
              "    <tr>\n",
              "      <th>50%</th>\n",
              "      <td>3.000000</td>\n",
              "      <td>117.000000</td>\n",
              "      <td>72.000000</td>\n",
              "      <td>23.000000</td>\n",
              "      <td>80.000000</td>\n",
              "      <td>32.000000</td>\n",
              "      <td>0.372500</td>\n",
              "      <td>29.000000</td>\n",
              "      <td>0.000000</td>\n",
              "    </tr>\n",
              "    <tr>\n",
              "      <th>75%</th>\n",
              "      <td>6.000000</td>\n",
              "      <td>140.250000</td>\n",
              "      <td>80.000000</td>\n",
              "      <td>32.000000</td>\n",
              "      <td>127.250000</td>\n",
              "      <td>36.600000</td>\n",
              "      <td>0.626250</td>\n",
              "      <td>41.000000</td>\n",
              "      <td>1.000000</td>\n",
              "    </tr>\n",
              "    <tr>\n",
              "      <th>max</th>\n",
              "      <td>13.000000</td>\n",
              "      <td>199.000000</td>\n",
              "      <td>104.000000</td>\n",
              "      <td>48.000000</td>\n",
              "      <td>198.000000</td>\n",
              "      <td>50.250000</td>\n",
              "      <td>1.200000</td>\n",
              "      <td>66.000000</td>\n",
              "      <td>1.000000</td>\n",
              "    </tr>\n",
              "  </tbody>\n",
              "</table>\n",
              "</div>\n",
              "      <button class=\"colab-df-convert\" onclick=\"convertToInteractive('df-d136f310-6ae9-43ef-b2fd-e4544a2bbb1a')\"\n",
              "              title=\"Convert this dataframe to an interactive table.\"\n",
              "              style=\"display:none;\">\n",
              "        \n",
              "  <svg xmlns=\"http://www.w3.org/2000/svg\" height=\"24px\"viewBox=\"0 0 24 24\"\n",
              "       width=\"24px\">\n",
              "    <path d=\"M0 0h24v24H0V0z\" fill=\"none\"/>\n",
              "    <path d=\"M18.56 5.44l.94 2.06.94-2.06 2.06-.94-2.06-.94-.94-2.06-.94 2.06-2.06.94zm-11 1L8.5 8.5l.94-2.06 2.06-.94-2.06-.94L8.5 2.5l-.94 2.06-2.06.94zm10 10l.94 2.06.94-2.06 2.06-.94-2.06-.94-.94-2.06-.94 2.06-2.06.94z\"/><path d=\"M17.41 7.96l-1.37-1.37c-.4-.4-.92-.59-1.43-.59-.52 0-1.04.2-1.43.59L10.3 9.45l-7.72 7.72c-.78.78-.78 2.05 0 2.83L4 21.41c.39.39.9.59 1.41.59.51 0 1.02-.2 1.41-.59l7.78-7.78 2.81-2.81c.8-.78.8-2.07 0-2.86zM5.41 20L4 18.59l7.72-7.72 1.47 1.35L5.41 20z\"/>\n",
              "  </svg>\n",
              "      </button>\n",
              "      \n",
              "  <style>\n",
              "    .colab-df-container {\n",
              "      display:flex;\n",
              "      flex-wrap:wrap;\n",
              "      gap: 12px;\n",
              "    }\n",
              "\n",
              "    .colab-df-convert {\n",
              "      background-color: #E8F0FE;\n",
              "      border: none;\n",
              "      border-radius: 50%;\n",
              "      cursor: pointer;\n",
              "      display: none;\n",
              "      fill: #1967D2;\n",
              "      height: 32px;\n",
              "      padding: 0 0 0 0;\n",
              "      width: 32px;\n",
              "    }\n",
              "\n",
              "    .colab-df-convert:hover {\n",
              "      background-color: #E2EBFA;\n",
              "      box-shadow: 0px 1px 2px rgba(60, 64, 67, 0.3), 0px 1px 3px 1px rgba(60, 64, 67, 0.15);\n",
              "      fill: #174EA6;\n",
              "    }\n",
              "\n",
              "    [theme=dark] .colab-df-convert {\n",
              "      background-color: #3B4455;\n",
              "      fill: #D2E3FC;\n",
              "    }\n",
              "\n",
              "    [theme=dark] .colab-df-convert:hover {\n",
              "      background-color: #434B5C;\n",
              "      box-shadow: 0px 1px 3px 1px rgba(0, 0, 0, 0.15);\n",
              "      filter: drop-shadow(0px 1px 2px rgba(0, 0, 0, 0.3));\n",
              "      fill: #FFFFFF;\n",
              "    }\n",
              "  </style>\n",
              "\n",
              "      <script>\n",
              "        const buttonEl =\n",
              "          document.querySelector('#df-d136f310-6ae9-43ef-b2fd-e4544a2bbb1a button.colab-df-convert');\n",
              "        buttonEl.style.display =\n",
              "          google.colab.kernel.accessAllowed ? 'block' : 'none';\n",
              "\n",
              "        async function convertToInteractive(key) {\n",
              "          const element = document.querySelector('#df-d136f310-6ae9-43ef-b2fd-e4544a2bbb1a');\n",
              "          const dataTable =\n",
              "            await google.colab.kernel.invokeFunction('convertToInteractive',\n",
              "                                                     [key], {});\n",
              "          if (!dataTable) return;\n",
              "\n",
              "          const docLinkHtml = 'Like what you see? Visit the ' +\n",
              "            '<a target=\"_blank\" href=https://colab.research.google.com/notebooks/data_table.ipynb>data table notebook</a>'\n",
              "            + ' to learn more about interactive tables.';\n",
              "          element.innerHTML = '';\n",
              "          dataTable['output_type'] = 'display_data';\n",
              "          await google.colab.output.renderOutput(dataTable, element);\n",
              "          const docLink = document.createElement('div');\n",
              "          docLink.innerHTML = docLinkHtml;\n",
              "          element.appendChild(docLink);\n",
              "        }\n",
              "      </script>\n",
              "    </div>\n",
              "  </div>\n",
              "  "
            ]
          },
          "metadata": {},
          "execution_count": 22
        }
      ]
    },
    {
      "cell_type": "markdown",
      "source": [
        "#Algoritma PSO"
      ],
      "metadata": {
        "id": "NqDn1xYefY3d"
      }
    },
    {
      "cell_type": "code",
      "source": [
        "import random\n",
        "import numpy as np\n",
        "from matplotlib import pyplot as plt\n",
        "from matplotlib import animation\n",
        "from scipy.spatial import distance as dist"
      ],
      "metadata": {
        "id": "ps26uJcSVSq9"
      },
      "execution_count": null,
      "outputs": []
    },
    {
      "cell_type": "markdown",
      "source": [
        "## Men-generate data latih PSO"
      ],
      "metadata": {
        "id": "EN1Yryr1prHO"
      }
    },
    {
      "cell_type": "code",
      "source": [
        "def datalatihPSO(dataset,num):\n",
        "  idx = random.sample(range(0,len(dataset)),num)\n",
        "  datalatih = []\n",
        "  for i in range(num):\n",
        "    datalatih.append(dataset.loc[idx[i]].values.tolist())\n",
        "  return datalatih"
      ],
      "metadata": {
        "id": "MpbNomuaphpC"
      },
      "execution_count": null,
      "outputs": []
    },
    {
      "cell_type": "markdown",
      "source": [
        "## Fitness Function"
      ],
      "metadata": {
        "id": "_Np6ib88puxP"
      }
    },
    {
      "cell_type": "code",
      "source": [
        "# Fitness function\n",
        "# data latih \n",
        "# banyak kelas: 2\n",
        "# banyak atribut: 6\n",
        "\n",
        "def fitness(particle,datalatihPSO):\n",
        "  cost = 0\n",
        "  yk = len(datalatihPSO)\n",
        "  dl = len(datalatihPSO[0])-1\n",
        "  for i in range(yk):\n",
        "    if dist.minkowski(datalatihPSO[i][0:dl],particle[0:dl], 2) <= dist.minkowski(datalatihPSO[i][0:dl],particle[dl:2*dl], 2):\n",
        "      if int(datalatihPSO[i][-1]) != 0:\n",
        "        cost = cost + 1\n",
        "    else:\n",
        "      if int(datalatihPSO[i][-1]) != 1:\n",
        "        cost = cost + 1\n",
        "  acc = (yk-cost)/yk\n",
        "  return acc"
      ],
      "metadata": {
        "id": "IeuHHCNCbnXm"
      },
      "execution_count": null,
      "outputs": []
    },
    {
      "cell_type": "markdown",
      "source": [
        "##Update Velocity (Kecepatan)"
      ],
      "metadata": {
        "id": "CsNJ_pTyfatG"
      }
    },
    {
      "cell_type": "code",
      "execution_count": null,
      "metadata": {
        "id": "CqTx_VdMHXA5"
      },
      "outputs": [],
      "source": [
        "def update_velocity(particle, velocity, pbest, gbest, w, c1, c2):\n",
        "  # Initialise new velocity array\n",
        "  num_particle = len(particle)\n",
        "  new_velocity = np.array([0.0 for i in range(num_particle)])\n",
        "  # Randomly generate r1, r2 and inertia weight from normal distribution\n",
        "  r1 = 0.5\n",
        "  r2 = 0.5\n",
        "  # Calculate new velocity\n",
        "  for i in range(num_particle):\n",
        "    new_velocity[i] = w*velocity[i] + c1*r1*(pbest[i]-particle[i])+c2*r2*(gbest[i]-particle[i])\n",
        "  return new_velocity"
      ]
    },
    {
      "cell_type": "markdown",
      "source": [
        "##Update Position (Posisi)"
      ],
      "metadata": {
        "id": "0Qtjv_UpffKu"
      }
    },
    {
      "cell_type": "code",
      "execution_count": null,
      "metadata": {
        "id": "DvEqe2UfHeqS"
      },
      "outputs": [],
      "source": [
        "def update_position(particle, velocity):\n",
        "  # Move particles by adding velocity\n",
        "  new_particle = particle + velocity\n",
        "  return new_particle"
      ]
    },
    {
      "cell_type": "markdown",
      "source": [
        "## Men-generate partikel"
      ],
      "metadata": {
        "id": "E4Y8EFjipy8-"
      }
    },
    {
      "cell_type": "code",
      "source": [
        "def get_particle(num_particle,dataset):\n",
        "  lastcol = dataset.columns[-1]\n",
        "  dataset = dataset.drop(lastcol, axis = 'columns')\n",
        "  part = []\n",
        "  for i in range(num_particle):\n",
        "    idx = random.sample(range(0,len(dataset)),2)\n",
        "    ptc = []\n",
        "    for j in range(2):\n",
        "      ptc = ptc + dataset.loc[idx[j]].values.tolist()\n",
        "    part.append(ptc)\n",
        "  return part"
      ],
      "metadata": {
        "id": "vjvJx659p1kQ"
      },
      "execution_count": null,
      "outputs": []
    },
    {
      "cell_type": "markdown",
      "source": [
        "## Algoritma Utama"
      ],
      "metadata": {
        "id": "_Mz3an4ffjq7"
      }
    },
    {
      "cell_type": "code",
      "execution_count": null,
      "metadata": {
        "id": "dOVs0kYBHmM4"
      },
      "outputs": [],
      "source": [
        "def PSO(num_part, dim, iter, dataset, num_tr, fitness_criterion, wmin, wmax, c1, c2):\n",
        "  # Initialisation\n",
        "  dlatih = datalatihPSO(dataset,num_tr)\n",
        "  # Population\n",
        "  particles = get_particle(num_part,dataset)\n",
        "  # Particle's best position\n",
        "  pbest_position = particles\n",
        "  # Fitness\n",
        "  pbest_fitness = [fitness(p,dlatih) for p in particles]\n",
        "  # Index of the best particle\n",
        "  gbest_index = np.argmax(pbest_fitness)\n",
        "  # Global best particle position\n",
        "  gbest_position = pbest_position[gbest_index]\n",
        "  # Velocity (starting from 0 speed)\n",
        "  velocity = [[0.0 for j in range(dim)] for i in range(num_part)]\n",
        "  \n",
        "  # Loop for the number of generation\n",
        "  for t in range(iter):\n",
        "    # Stop if the average fitness value reached a predefined success criterion\n",
        "    if np.average(pbest_fitness) >= fitness_criterion:\n",
        "      break\n",
        "    else:\n",
        "      w = wmax - ((wmax - wmin)/(iter))*t\n",
        "      for n in range(num_part):\n",
        "        # Update the velocity of each particle\n",
        "        velocity[n] = update_velocity(particles[n], velocity[n], pbest_position[n], gbest_position, w ,c1, c2)\n",
        "        # Move the particles to new position\n",
        "        particles[n] = update_position(particles[n], velocity[n])\n",
        "    # Calculate the fitness value\n",
        "    pbest_fitness = [fitness(p,dlatih) for p in particles]\n",
        "    # Find the index of the best particle\n",
        "    gbest_index = np.argmax(pbest_fitness)\n",
        "    # Update the position of the best particle\n",
        "    gbest_position = pbest_position[gbest_index]\n",
        "\n",
        "  # Print the results\n",
        "  return gbest_position.tolist(), max(pbest_fitness)"
      ]
    },
    {
      "cell_type": "markdown",
      "source": [
        "## Coba-coba"
      ],
      "metadata": {
        "id": "FbW3im7m5Vs0"
      }
    },
    {
      "cell_type": "code",
      "source": [
        "# PSO(num_part, dim, iter, dataset, num_tr, fitness_criterion, wmin, wmax, c1, c2)\n",
        "salin = diabetes_data.copy()\n",
        "a = PSO(20, 16, 100, salin, 20, 0.9, 0.5, 0.6, 1.5, 1.5)\n",
        "a"
      ],
      "metadata": {
        "colab": {
          "base_uri": "https://localhost:8080/"
        },
        "id": "LKySLTl4sHP4",
        "outputId": "07f6d1d5-64e7-4415-ccca-bf1dddc71aba"
      },
      "execution_count": null,
      "outputs": [
        {
          "output_type": "execute_result",
          "data": {
            "text/plain": [
              "([3.1323847103518574,\n",
              "  91.05297551019757,\n",
              "  34.670696744374204,\n",
              "  22.61995827163706,\n",
              "  87.12463457590853,\n",
              "  26.13213032053955,\n",
              "  0.8721764966496548,\n",
              "  25.254950728122427,\n",
              "  -5.711563829074178,\n",
              "  99.38094981501311,\n",
              "  75.02626393127167,\n",
              "  31.246659158287343,\n",
              "  122.439384629355,\n",
              "  19.360423158000156,\n",
              "  -0.11241314820837617,\n",
              "  35.87920801281211],\n",
              " 0.9)"
            ]
          },
          "metadata": {},
          "execution_count": 25
        }
      ]
    },
    {
      "cell_type": "markdown",
      "source": [
        "# Algoritma LVQ"
      ],
      "metadata": {
        "id": "qkmiDCEyKIpc"
      }
    },
    {
      "cell_type": "markdown",
      "source": [
        "## Pelatihan Klasifikasi dengan LVQ"
      ],
      "metadata": {
        "id": "7mTfFR4fk6by"
      }
    },
    {
      "cell_type": "code",
      "source": [
        "def LVQtr(dtratr, dtrlabel,itmax, lrate, declrate, minlrate, bwl):\n",
        "  it = 0\n",
        "  dtratr.reset_index(drop=True, inplace = True)\n",
        "  dtrlabel.reset_index(drop=True, inplace = True)\n",
        "  b0, b1 = bwl[0:int(len(bwl)/2)], bwl[int(len(bwl)/2):len(bwl)]\n",
        "  while it <= itmax and lrate > minlrate:\n",
        "    for i in range(len(dtratr)):\n",
        "      dtlist = dtratr.loc[i].values.tolist()\n",
        "      if dist.minkowski(dtlist,b0, 2) <= dist.minkowski(dtlist,b1, 2):\n",
        "        kls = 0\n",
        "        if kls == dtrlabel[i]:\n",
        "          for j in range(len(b0)):\n",
        "            b0[j] = b0[j] + lrate*(dtlist[j]-b0[j])\n",
        "        else:\n",
        "          for j in range(len(b0)):\n",
        "            b0[j] = b0[j] - lrate*(dtlist[j]-b0[j])\n",
        "      else:\n",
        "        kls = 1\n",
        "        if kls == dtrlabel[i]:\n",
        "          for j in range(len(b1)):\n",
        "            b1[j] = b1[j] + lrate*(dtlist[j]-b1[j])\n",
        "        else:\n",
        "          for j in range(len(b1)):\n",
        "            b1[j] = b1[j] - lrate*(dtlist[j]-b1[j])\n",
        "    lrate = lrate - declrate*lrate\n",
        "    it += 1\n",
        "  return b0, b1"
      ],
      "metadata": {
        "id": "SUXixF33k9pg"
      },
      "execution_count": null,
      "outputs": []
    },
    {
      "cell_type": "markdown",
      "source": [
        "## Pengujian Klasifikasi dengan LVQ"
      ],
      "metadata": {
        "id": "u9qxVAjWlASM"
      }
    },
    {
      "cell_type": "code",
      "source": [
        "def LVQts2(dtsatr, dtslabel,bts):\n",
        "  dtsatr.reset_index(drop=True, inplace = True)\n",
        "  dtslabel.reset_index(drop=True, inplace = True)\n",
        "  bobot0, bobot1 = bts[0], bts[1]\n",
        "  klspred = []\n",
        "  cost = 0\n",
        "  for i in range(len(dtsatr)):\n",
        "    dtslist = dtsatr.loc[i].values.tolist()\n",
        "    if dist.minkowski(dtslist,bobot0, 2) <= dist.minkowski(dtslist,bobot1, 2):\n",
        "      kls = 0\n",
        "    else:\n",
        "      kls = 1\n",
        "    klspred.append(kls)\n",
        "  return klspred"
      ],
      "metadata": {
        "id": "gxzb7blVaRUu"
      },
      "execution_count": null,
      "outputs": []
    },
    {
      "cell_type": "code",
      "source": [
        "def confmatrix(dtslabellist, pred):\n",
        "  banding = {'Benar': klsbenar, 'Prediksi': pred}\n",
        "  bandingdf = pd.DataFrame(banding)\n",
        "  confmix = pd.crosstab(bandingdf['Benar'], bandingdf['Prediksi'], rownames=['True'], colnames=['Pred'])\n",
        "  lst = confmix.values.tolist()\n",
        "  TN = lst[0][0]\n",
        "  FP = lst[0][1]\n",
        "  FN = lst[1][0]\n",
        "  TP = lst[1][1]\n",
        "  acc = (TN+TP)/(TN+FP+FN+TP)\n",
        "  pres = (TP)/(TP+FP)\n",
        "  rec = (TP)/(TP+FN)\n",
        "  return [acc, pres, rec]"
      ],
      "metadata": {
        "id": "R0HhCxUhptOP"
      },
      "execution_count": null,
      "outputs": []
    },
    {
      "cell_type": "markdown",
      "source": [
        "# 5-Cross Validation"
      ],
      "metadata": {
        "id": "gJYabkhqPqnh"
      }
    },
    {
      "cell_type": "code",
      "source": [
        "from sklearn.model_selection import train_test_split"
      ],
      "metadata": {
        "id": "DgOrISBeQRug"
      },
      "execution_count": null,
      "outputs": []
    },
    {
      "cell_type": "markdown",
      "source": [
        "## Random State = 101"
      ],
      "metadata": {
        "id": "ZygCkbyYP5Fc"
      }
    },
    {
      "cell_type": "markdown",
      "source": [
        "### Bobot Awal"
      ],
      "metadata": {
        "id": "Ms_KiqbFk3Bk"
      }
    },
    {
      "cell_type": "code",
      "source": [
        "bawal = []\n",
        "fness = []\n",
        "salin2 = diabetes_data.copy()\n",
        "\n",
        "for i in range(50):\n",
        "  a = PSO(20, 16, 100, salin2, 20, 0.8, 0.5, 0.6, 1.5, 1.5)\n",
        "  ind = 0\n",
        "  for j in range(len(a[0])):\n",
        "    if a[0][j] < 0:\n",
        "      ind = 1\n",
        "      break\n",
        "  if ind == 1:\n",
        "    continue\n",
        "  else:\n",
        "    bawal.append(a[0])\n",
        "    fness.append(a[1])"
      ],
      "metadata": {
        "id": "ieyEK37KirmH"
      },
      "execution_count": null,
      "outputs": []
    },
    {
      "cell_type": "markdown",
      "source": [
        "### Splitting data"
      ],
      "metadata": {
        "id": "7ttk_ytYuOYp"
      }
    },
    {
      "cell_type": "code",
      "source": [
        "X = diabetes_data.drop('Outcome', axis=1) # Independent Values\n",
        "Y = diabetes_data['Outcome'] # Targeted Values Selection"
      ],
      "metadata": {
        "id": "mg59M7rEuSEk"
      },
      "execution_count": null,
      "outputs": []
    },
    {
      "cell_type": "code",
      "source": [
        "X_train, X_test, Y_train, Y_test = train_test_split(X, Y, test_size=0.2, random_state=101)"
      ],
      "metadata": {
        "id": "iQdskV7Ouihv"
      },
      "execution_count": null,
      "outputs": []
    },
    {
      "cell_type": "markdown",
      "source": [
        "### LVQ"
      ],
      "metadata": {
        "id": "PAoKP2l7nEAx"
      }
    },
    {
      "cell_type": "code",
      "source": [
        "eval = []\n",
        "for i in range(len(bawal)):\n",
        "  xtr = X_train.copy()\n",
        "  ytr = Y_train.copy()\n",
        "  xts = X_test.copy()\n",
        "  yts = Y_test.copy()\n",
        "  bbt = LVQtr(xtr, ytr, 50, 0.1, 0.9, 10e-16, bawal[i])\n",
        "  evmod = LVQts2(xts, yts, bbt)\n",
        "  if (1 in evmod) == False or (0 in evmod) == False:\n",
        "    continue\n",
        "  else:\n",
        "    klsbenar = yts.values.tolist()\n",
        "    ev = confmatrix(klsbenar, evmod)\n",
        "    eval.append(ev)\n",
        "dframe = pd.DataFrame(eval, columns = ['Akurasi','Presisi','Recall'])\n",
        "dframe.loc[dframe.idxmax()[0]]"
      ],
      "metadata": {
        "colab": {
          "base_uri": "https://localhost:8080/"
        },
        "id": "fM_kX_adkmbz",
        "outputId": "09353fe6-f592-48a4-ef00-a21843b3e26e"
      },
      "execution_count": null,
      "outputs": [
        {
          "output_type": "execute_result",
          "data": {
            "text/plain": [
              "Akurasi    0.792208\n",
              "Presisi    0.743590\n",
              "Recall     0.568627\n",
              "Name: 2, dtype: float64"
            ]
          },
          "metadata": {},
          "execution_count": 54
        }
      ]
    },
    {
      "cell_type": "code",
      "source": [
        "eval2 = []\n",
        "for i in range(25):\n",
        "  xtr = X_train.copy()\n",
        "  ytr = Y_train.copy()\n",
        "  xts = X_test.copy()\n",
        "  yts = Y_test.copy()\n",
        "  idx = random.sample(range(0,len(salin2)),2)\n",
        "  botwl = []\n",
        "  for j in range(2):\n",
        "    botwl = botwl + salin2.loc[idx[j]].values.tolist()\n",
        "    botwl.pop(-1)\n",
        "  bbt = LVQtr(xtr, ytr, 50, 0.1, 0.9, 10e-16, botwl)\n",
        "  evmod = LVQts2(xts, yts, bbt)\n",
        "  if (1 in evmod) == False or (0 in evmod) == False:\n",
        "    continue\n",
        "  else:\n",
        "    klsbenar = yts.values.tolist()\n",
        "    ev = confmatrix(klsbenar, evmod)\n",
        "    eval2.append(ev)\n",
        "dframe2 = pd.DataFrame(eval2, columns = ['Akurasi','Presisi','Recall'])\n",
        "dframe2.loc[dframe2.idxmax()[0]]"
      ],
      "metadata": {
        "colab": {
          "base_uri": "https://localhost:8080/"
        },
        "id": "bELctGE66fV9",
        "outputId": "e0b719ef-6dde-42b3-9339-18d4da2d5d46"
      },
      "execution_count": null,
      "outputs": [
        {
          "output_type": "execute_result",
          "data": {
            "text/plain": [
              "Akurasi    0.785714\n",
              "Presisi    0.725000\n",
              "Recall     0.568627\n",
              "Name: 0, dtype: float64"
            ]
          },
          "metadata": {},
          "execution_count": 55
        }
      ]
    },
    {
      "cell_type": "markdown",
      "source": [
        "## Random State = 27"
      ],
      "metadata": {
        "id": "LOmDDtZzR790"
      }
    },
    {
      "cell_type": "markdown",
      "source": [
        "### Bobot Awal"
      ],
      "metadata": {
        "id": "NbcJaJHzR791"
      }
    },
    {
      "cell_type": "code",
      "source": [
        "bawal = []\n",
        "fness = []\n",
        "salin2 = diabetes_data.copy()\n",
        "\n",
        "for i in range(50):\n",
        "  a = PSO(20, 16, 100, salin2, 20, 0.8, 0.5, 0.6, 1.5, 1.5)\n",
        "  ind = 0\n",
        "  for j in range(len(a[0])):\n",
        "    if a[0][j] < 0:\n",
        "      ind = 1\n",
        "      break\n",
        "  if ind == 1:\n",
        "    continue\n",
        "  else:\n",
        "    bawal.append(a[0])\n",
        "    fness.append(a[1])"
      ],
      "metadata": {
        "id": "vlE0HhD7R791"
      },
      "execution_count": null,
      "outputs": []
    },
    {
      "cell_type": "markdown",
      "source": [
        "### Splitting data"
      ],
      "metadata": {
        "id": "x0-aqo7QR792"
      }
    },
    {
      "cell_type": "code",
      "source": [
        "X = diabetes_data.drop('Outcome', axis=1) # Independent Values\n",
        "Y = diabetes_data['Outcome'] # Targeted Values Selection"
      ],
      "metadata": {
        "id": "AAFAIbnxR793"
      },
      "execution_count": null,
      "outputs": []
    },
    {
      "cell_type": "code",
      "source": [
        "X_train, X_test, Y_train, Y_test = train_test_split(X, Y, test_size=0.2, random_state=27)"
      ],
      "metadata": {
        "id": "J_ztF35lR793"
      },
      "execution_count": null,
      "outputs": []
    },
    {
      "cell_type": "markdown",
      "source": [
        "### LVQ"
      ],
      "metadata": {
        "id": "_bUAALdvR794"
      }
    },
    {
      "cell_type": "code",
      "source": [
        "eval = []\n",
        "for i in range(len(bawal)):\n",
        "  xtr = X_train.copy()\n",
        "  ytr = Y_train.copy()\n",
        "  xts = X_test.copy()\n",
        "  yts = Y_test.copy()\n",
        "  bbt = LVQtr(xtr, ytr, 50, 0.1, 0.9, 10e-16, bawal[i])\n",
        "  evmod = LVQts2(xts, yts, bbt)\n",
        "  if (1 in evmod) == False or (0 in evmod) == False:\n",
        "    continue\n",
        "  else:\n",
        "    klsbenar = yts.values.tolist()\n",
        "    ev = confmatrix(klsbenar, evmod)\n",
        "    eval.append(ev)\n",
        "dframe = pd.DataFrame(eval, columns = ['Akurasi','Presisi','Recall'])\n",
        "dframe.loc[dframe.idxmax()[0]]"
      ],
      "metadata": {
        "colab": {
          "base_uri": "https://localhost:8080/"
        },
        "id": "WwoWxfUft1np",
        "outputId": "ef204cee-421f-43f9-a408-75ca65d0dfd7"
      },
      "execution_count": null,
      "outputs": [
        {
          "output_type": "execute_result",
          "data": {
            "text/plain": [
              "Akurasi    0.746753\n",
              "Presisi    0.608696\n",
              "Recall     0.571429\n",
              "Name: 3, dtype: float64"
            ]
          },
          "metadata": {},
          "execution_count": 63
        }
      ]
    },
    {
      "cell_type": "code",
      "source": [
        "eval2 = []\n",
        "for i in range(25):\n",
        "  xtr = X_train.copy()\n",
        "  ytr = Y_train.copy()\n",
        "  xts = X_test.copy()\n",
        "  yts = Y_test.copy()\n",
        "  idx = random.sample(range(0,len(salin2)),2)\n",
        "  botwl = []\n",
        "  for j in range(2):\n",
        "    botwl = botwl + salin2.loc[idx[j]].values.tolist()\n",
        "    botwl.pop(-1)\n",
        "  bbt = LVQtr(xtr, ytr, 50, 0.1, 0.9, 10e-16, botwl)\n",
        "  evmod = LVQts2(xts, yts, bbt)\n",
        "  if (1 in evmod) == False or (0 in evmod) == False:\n",
        "    continue\n",
        "  else:\n",
        "    klsbenar = yts.values.tolist()\n",
        "    ev = confmatrix(klsbenar, evmod)\n",
        "    eval2.append(ev)\n",
        "dframe2 = pd.DataFrame(eval2, columns = ['Akurasi','Presisi','Recall'])\n",
        "dframe2.loc[dframe2.idxmax()[0]]"
      ],
      "metadata": {
        "colab": {
          "base_uri": "https://localhost:8080/"
        },
        "id": "0n5UA0esBfKy",
        "outputId": "ad0193a6-caba-4b96-8a9b-64a6e066cbc9"
      },
      "execution_count": null,
      "outputs": [
        {
          "output_type": "execute_result",
          "data": {
            "text/plain": [
              "Akurasi    0.746753\n",
              "Presisi    0.608696\n",
              "Recall     0.571429\n",
              "Name: 3, dtype: float64"
            ]
          },
          "metadata": {},
          "execution_count": 64
        }
      ]
    },
    {
      "cell_type": "markdown",
      "source": [
        "## Random State = 56"
      ],
      "metadata": {
        "id": "AGFy4JjuTygW"
      }
    },
    {
      "cell_type": "markdown",
      "source": [
        "### Bobot Awal"
      ],
      "metadata": {
        "id": "KGlx655fTygW"
      }
    },
    {
      "cell_type": "code",
      "source": [
        "bawal = []\n",
        "fness = []\n",
        "salin2 = diabetes_data.copy()\n",
        "\n",
        "for i in range(50):\n",
        "  a = PSO(20, 16, 100, salin2, 20, 0.8, 0.5, 0.6, 1.5, 1.5)\n",
        "  ind = 0\n",
        "  for j in range(len(a[0])):\n",
        "    if a[0][j] < 0:\n",
        "      ind = 1\n",
        "      break\n",
        "  if ind == 1:\n",
        "    continue\n",
        "  else:\n",
        "    bawal.append(a[0])\n",
        "    fness.append(a[1])"
      ],
      "metadata": {
        "id": "hjxbKyf6TygX"
      },
      "execution_count": null,
      "outputs": []
    },
    {
      "cell_type": "markdown",
      "source": [
        "### Splitting data"
      ],
      "metadata": {
        "id": "4A551_s8TygY"
      }
    },
    {
      "cell_type": "code",
      "source": [
        "X = diabetes_data.drop('Outcome', axis=1) # Independent Values\n",
        "Y = diabetes_data['Outcome'] # Targeted Values Selection"
      ],
      "metadata": {
        "id": "cbPW3hC-TygY"
      },
      "execution_count": null,
      "outputs": []
    },
    {
      "cell_type": "code",
      "source": [
        "X_train, X_test, Y_train, Y_test = train_test_split(X, Y, test_size=0.2, random_state=56)"
      ],
      "metadata": {
        "id": "KQut2AZWTygY"
      },
      "execution_count": null,
      "outputs": []
    },
    {
      "cell_type": "markdown",
      "source": [
        "### LVQ"
      ],
      "metadata": {
        "id": "Lutx3GLLCTOh"
      }
    },
    {
      "cell_type": "code",
      "source": [
        "eval = []\n",
        "for i in range(len(bawal)):\n",
        "  xtr = X_train.copy()\n",
        "  ytr = Y_train.copy()\n",
        "  xts = X_test.copy()\n",
        "  yts = Y_test.copy()\n",
        "  bbt = LVQtr(xtr, ytr, 50, 0.1, 0.9, 10e-16, bawal[i])\n",
        "  evmod = LVQts2(xts, yts, bbt)\n",
        "  if (1 in evmod) == False or (0 in evmod) == False:\n",
        "    continue\n",
        "  else:\n",
        "    klsbenar = yts.values.tolist()\n",
        "    ev = confmatrix(klsbenar, evmod)\n",
        "    eval.append(ev)\n",
        "dframe = pd.DataFrame(eval, columns = ['Akurasi','Presisi','Recall'])\n",
        "dframe.loc[dframe.idxmax()[0]]"
      ],
      "metadata": {
        "colab": {
          "base_uri": "https://localhost:8080/"
        },
        "outputId": "7859e86e-6b65-4103-8d25-99233b68656e",
        "id": "2wbGsheqCTOi"
      },
      "execution_count": null,
      "outputs": [
        {
          "output_type": "execute_result",
          "data": {
            "text/plain": [
              "Akurasi    0.74026\n",
              "Presisi    0.50000\n",
              "Recall     0.57500\n",
              "Name: 0, dtype: float64"
            ]
          },
          "metadata": {},
          "execution_count": 72
        }
      ]
    },
    {
      "cell_type": "code",
      "source": [
        "eval2 = []\n",
        "for i in range(25):\n",
        "  xtr = X_train.copy()\n",
        "  ytr = Y_train.copy()\n",
        "  xts = X_test.copy()\n",
        "  yts = Y_test.copy()\n",
        "  idx = random.sample(range(0,len(salin2)),2)\n",
        "  botwl = []\n",
        "  for j in range(2):\n",
        "    botwl = botwl + salin2.loc[idx[j]].values.tolist()\n",
        "    botwl.pop(-1)\n",
        "  bbt = LVQtr(xtr, ytr, 50, 0.1, 0.9, 10e-16, botwl)\n",
        "  evmod = LVQts2(xts, yts, bbt)\n",
        "  if (1 in evmod) == False or (0 in evmod) == False:\n",
        "    continue\n",
        "  else:\n",
        "    klsbenar = yts.values.tolist()\n",
        "    ev = confmatrix(klsbenar, evmod)\n",
        "    eval2.append(ev)\n",
        "dframe2 = pd.DataFrame(eval2, columns = ['Akurasi','Presisi','Recall'])\n",
        "dframe2.loc[dframe2.idxmax()[0]]"
      ],
      "metadata": {
        "colab": {
          "base_uri": "https://localhost:8080/"
        },
        "outputId": "8eab3f37-81bd-4b21-c8b7-ca9efcbef339",
        "id": "jCyIxR66CTOi"
      },
      "execution_count": null,
      "outputs": [
        {
          "output_type": "execute_result",
          "data": {
            "text/plain": [
              "Akurasi    0.746753\n",
              "Presisi    0.510638\n",
              "Recall     0.600000\n",
              "Name: 3, dtype: float64"
            ]
          },
          "metadata": {},
          "execution_count": 73
        }
      ]
    },
    {
      "cell_type": "markdown",
      "source": [
        "## Random State = 72"
      ],
      "metadata": {
        "id": "0Mb86AiqT8xn"
      }
    },
    {
      "cell_type": "markdown",
      "source": [
        "### Bobot Awal"
      ],
      "metadata": {
        "id": "dCLoeUFPT8xn"
      }
    },
    {
      "cell_type": "code",
      "source": [
        "bawal = []\n",
        "fness = []\n",
        "salin2 = diabetes_data.copy()\n",
        "\n",
        "for i in range(50):\n",
        "  a = PSO(20, 16, 100, salin2, 20, 0.8, 0.5, 0.6, 1.5, 1.5)\n",
        "  ind = 0\n",
        "  for j in range(len(a[0])):\n",
        "    if a[0][j] < 0:\n",
        "      ind = 1\n",
        "      break\n",
        "  if ind == 1:\n",
        "    continue\n",
        "  else:\n",
        "    bawal.append(a[0])\n",
        "    fness.append(a[1])"
      ],
      "metadata": {
        "id": "Bl9IRtf9T8xn"
      },
      "execution_count": null,
      "outputs": []
    },
    {
      "cell_type": "markdown",
      "source": [
        "### Splitting data"
      ],
      "metadata": {
        "id": "xh0cJZ6XT8xp"
      }
    },
    {
      "cell_type": "code",
      "source": [
        "X = diabetes_data.drop('Outcome', axis=1) # Independent Values\n",
        "Y = diabetes_data['Outcome'] # Targeted Values Selection"
      ],
      "metadata": {
        "id": "KJ1lEwrfT8xp"
      },
      "execution_count": null,
      "outputs": []
    },
    {
      "cell_type": "code",
      "source": [
        "X_train, X_test, Y_train, Y_test = train_test_split(X, Y, test_size=0.2, random_state=72)"
      ],
      "metadata": {
        "id": "g5ftXgWvT8xp"
      },
      "execution_count": null,
      "outputs": []
    },
    {
      "cell_type": "markdown",
      "source": [
        "### LVQ"
      ],
      "metadata": {
        "id": "7lEbPQbpCyF6"
      }
    },
    {
      "cell_type": "code",
      "source": [
        "eval = []\n",
        "for i in range(len(bawal)):\n",
        "  xtr = X_train.copy()\n",
        "  ytr = Y_train.copy()\n",
        "  xts = X_test.copy()\n",
        "  yts = Y_test.copy()\n",
        "  bbt = LVQtr(xtr, ytr, 50, 0.1, 0.9, 10e-16, bawal[i])\n",
        "  evmod = LVQts2(xts, yts, bbt)\n",
        "  if (1 in evmod) == False or (0 in evmod) == False:\n",
        "    continue\n",
        "  else:\n",
        "    klsbenar = yts.values.tolist()\n",
        "    ev = confmatrix(klsbenar, evmod)\n",
        "    eval.append(ev)\n",
        "dframe = pd.DataFrame(eval, columns = ['Akurasi','Presisi','Recall'])\n",
        "dframe.loc[dframe.idxmax()[0]]"
      ],
      "metadata": {
        "colab": {
          "base_uri": "https://localhost:8080/"
        },
        "outputId": "7495643f-2344-46e5-c134-47caee282a82",
        "id": "AvbngyzkCyF7"
      },
      "execution_count": null,
      "outputs": [
        {
          "output_type": "execute_result",
          "data": {
            "text/plain": [
              "Akurasi    0.753247\n",
              "Presisi    0.729730\n",
              "Recall     0.490909\n",
              "Name: 2, dtype: float64"
            ]
          },
          "metadata": {},
          "execution_count": 81
        }
      ]
    },
    {
      "cell_type": "code",
      "source": [
        "eval2 = []\n",
        "for i in range(25):\n",
        "  xtr = X_train.copy()\n",
        "  ytr = Y_train.copy()\n",
        "  xts = X_test.copy()\n",
        "  yts = Y_test.copy()\n",
        "  idx = random.sample(range(0,len(salin2)),2)\n",
        "  botwl = []\n",
        "  for j in range(2):\n",
        "    botwl = botwl + salin2.loc[idx[j]].values.tolist()\n",
        "    botwl.pop(-1)\n",
        "  bbt = LVQtr(xtr, ytr, 50, 0.1, 0.9, 10e-16, botwl)\n",
        "  evmod = LVQts2(xts, yts, bbt)\n",
        "  if (1 in evmod) == False or (0 in evmod) == False:\n",
        "    continue\n",
        "  else:\n",
        "    klsbenar = yts.values.tolist()\n",
        "    ev = confmatrix(klsbenar, evmod)\n",
        "    eval2.append(ev)\n",
        "dframe2 = pd.DataFrame(eval2, columns = ['Akurasi','Presisi','Recall'])\n",
        "dframe2.loc[dframe2.idxmax()[0]]"
      ],
      "metadata": {
        "colab": {
          "base_uri": "https://localhost:8080/"
        },
        "outputId": "6c131d34-5a91-4eec-d9ee-5d1f3449546e",
        "id": "GrwFkHg3CyF8"
      },
      "execution_count": null,
      "outputs": [
        {
          "output_type": "execute_result",
          "data": {
            "text/plain": [
              "Akurasi    0.753247\n",
              "Presisi    0.729730\n",
              "Recall     0.490909\n",
              "Name: 3, dtype: float64"
            ]
          },
          "metadata": {},
          "execution_count": 82
        }
      ]
    },
    {
      "cell_type": "markdown",
      "source": [
        "## Random State = 7"
      ],
      "metadata": {
        "id": "7cC1wZssUj1j"
      }
    },
    {
      "cell_type": "markdown",
      "source": [
        "### Bobot Awal"
      ],
      "metadata": {
        "id": "b_4S3Z7tUj1k"
      }
    },
    {
      "cell_type": "code",
      "source": [
        "bawal = []\n",
        "fness = []\n",
        "salin2 = diabetes_data.copy()\n",
        "\n",
        "for i in range(50):\n",
        "  a = PSO(20, 16, 100, salin2, 20, 0.8, 0.5, 0.6, 1.5, 1.5)\n",
        "  ind = 0\n",
        "  for j in range(len(a[0])):\n",
        "    if a[0][j] < 0:\n",
        "      ind = 1\n",
        "      break\n",
        "  if ind == 1:\n",
        "    continue\n",
        "  else:\n",
        "    bawal.append(a[0])\n",
        "    fness.append(a[1])"
      ],
      "metadata": {
        "id": "r9v4N61BUj1k"
      },
      "execution_count": null,
      "outputs": []
    },
    {
      "cell_type": "markdown",
      "source": [
        "### Splitting data"
      ],
      "metadata": {
        "id": "7DfVt4BTUj1l"
      }
    },
    {
      "cell_type": "code",
      "source": [
        "X = diabetes_data.drop('Outcome', axis=1) # Independent Values\n",
        "Y = diabetes_data['Outcome'] # Targeted Values Selection"
      ],
      "metadata": {
        "id": "eQiaeH2ZUj1l"
      },
      "execution_count": null,
      "outputs": []
    },
    {
      "cell_type": "code",
      "source": [
        "X_train, X_test, Y_train, Y_test = train_test_split(X, Y, test_size=0.2, random_state=7)"
      ],
      "metadata": {
        "id": "npACa4zFUj1l"
      },
      "execution_count": null,
      "outputs": []
    },
    {
      "cell_type": "markdown",
      "source": [
        "### LVQ"
      ],
      "metadata": {
        "id": "kiGHge3TC7_q"
      }
    },
    {
      "cell_type": "code",
      "source": [
        "eval = []\n",
        "for i in range(len(bawal)):\n",
        "  xtr = X_train.copy()\n",
        "  ytr = Y_train.copy()\n",
        "  xts = X_test.copy()\n",
        "  yts = Y_test.copy()\n",
        "  bbt = LVQtr(xtr, ytr, 50, 0.1, 0.9, 10e-16, bawal[i])\n",
        "  evmod = LVQts2(xts, yts, bbt)\n",
        "  if (1 in evmod) == False or (0 in evmod) == False:\n",
        "    continue\n",
        "  else:\n",
        "    klsbenar = yts.values.tolist()\n",
        "    ev = confmatrix(klsbenar, evmod)\n",
        "    eval.append(ev)\n",
        "dframe = pd.DataFrame(eval, columns = ['Akurasi','Presisi','Recall'])\n",
        "dframe.loc[dframe.idxmax()[0]]"
      ],
      "metadata": {
        "colab": {
          "base_uri": "https://localhost:8080/"
        },
        "id": "Qku8LNsJC7_r",
        "outputId": "24ba887b-5599-4839-bb5a-0b7a2e9d5735"
      },
      "execution_count": null,
      "outputs": [
        {
          "output_type": "execute_result",
          "data": {
            "text/plain": [
              "Akurasi    0.727273\n",
              "Presisi    0.659574\n",
              "Recall     0.543860\n",
              "Name: 1, dtype: float64"
            ]
          },
          "metadata": {},
          "execution_count": 90
        }
      ]
    },
    {
      "cell_type": "code",
      "source": [
        "eval2 = []\n",
        "for i in range(25):\n",
        "  xtr = X_train.copy()\n",
        "  ytr = Y_train.copy()\n",
        "  xts = X_test.copy()\n",
        "  yts = Y_test.copy()\n",
        "  idx = random.sample(range(0,len(salin2)),2)\n",
        "  botwl = []\n",
        "  for j in range(2):\n",
        "    botwl = botwl + salin2.loc[idx[j]].values.tolist()\n",
        "    botwl.pop(-1)\n",
        "  bbt = LVQtr(xtr, ytr, 50, 0.1, 0.9, 10e-16, botwl)\n",
        "  evmod = LVQts2(xts, yts, bbt)\n",
        "  if (1 in evmod) == False or (0 in evmod) == False:\n",
        "    continue\n",
        "  else:\n",
        "    klsbenar = yts.values.tolist()\n",
        "    ev = confmatrix(klsbenar, evmod)\n",
        "    eval2.append(ev)\n",
        "dframe2 = pd.DataFrame(eval2, columns = ['Akurasi','Presisi','Recall'])\n",
        "dframe2.loc[dframe2.idxmax()[0]]"
      ],
      "metadata": {
        "colab": {
          "base_uri": "https://localhost:8080/"
        },
        "id": "5x0pbZnnC7_s",
        "outputId": "d9ebe95c-350d-403f-a16b-9245feeabf14"
      },
      "execution_count": null,
      "outputs": [
        {
          "output_type": "execute_result",
          "data": {
            "text/plain": [
              "Akurasi    0.753247\n",
              "Presisi    0.711111\n",
              "Recall     0.561404\n",
              "Name: 20, dtype: float64"
            ]
          },
          "metadata": {},
          "execution_count": 91
        }
      ]
    }
  ]
}