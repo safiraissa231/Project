{
  "nbformat": 4,
  "nbformat_minor": 0,
  "metadata": {
    "colab": {
      "provenance": []
    },
    "kernelspec": {
      "name": "python3",
      "display_name": "Python 3"
    },
    "language_info": {
      "name": "python"
    }
  },
  "cells": [
    {
      "cell_type": "markdown",
      "source": [
        "Poker Chips https://www.codechef.com/problems/WASHHAND\n",
        "\n",
        "Level: Peer"
      ],
      "metadata": {
        "id": "ETI-ex-kXHGF"
      }
    },
    {
      "cell_type": "markdown",
      "source": [
        "# **Corona in Karunanagar**\n",
        "\n",
        "Orang-orang di Karunanagar terinfeksi covid-19. Untuk memahami penyebaran penyakit dan membantu mengatasinya sedini mungkin, Chafrina ingin menganalisis situasi di kota. Oleh karena itu, ia melakukan hal berikut:\n",
        "*   Chafrina mewakili populasi Karunanagar sebagai string biner dengan panjang N yang berdiri dalam garis bernomor dari 1 hingga N dari kiri ke kanan, di mana orang yang terinfeksi direpresentasikan sebagai 1 dan orang yang tidak terinfeksi sebagai 0.\n",
        "*   Setiap hari, orang yang terinfeksi dalam string biner ini dapat menginfeksi orang yang berdekatan (kiri dan kanan langsung) yang tidak terinfeksi.\n",
        "*   Oleh karena itu, jika sebelum hari ke-1, populasinya 00100, maka pada akhir hari ke-1 menjadi 01110 dan pada akhir hari ke-2 menjadi 11111.\n",
        "\n",
        "Tetapi, orang-orang Karunanagar cerdas dan mereka tahu bahwa jika mereka melakukan isolasi mandiri sedini mungkin, mereka mengurangi kemungkinan penyebaran virus. Oleh karena itu pada hari ke-i, orang bernomor Pi mengisolasi diri dari orang bernomor Pi−1, sehingga tidak dapat saling menginfeksi. Ini berlanjut di kota selama D hari. Mengingat string biner populasi sebelum hari ke-1, Chafrina ingin menghitung jumlah total orang yang terinfeksi di Karunanagar pada akhir hari ke-D.\n",
        "\n",
        "---\n",
        "\n",
        "**Input**\n",
        "1. Baris pertama berisi T yang menunjukkan jumlah kasus uji.\n",
        "2. Baris pertama dari setiap kasus uji berisi satu bilangan bulat N yang menunjukkan panjang string biner (jumlah orang).\n",
        "3. Baris berikutnya berisi string biner dengan panjang N yang menunjukkan populasi sebelum hari pertama, dengan 1 untuk orang yang terinfeksi dan 0 untuk orang yang tidak terinfeksi.\n",
        "4. Baris berikutnya berisi satu bilangan bulat D yang menunjukkan jumlah hari orang mengisolasi diri.\n",
        "5. Baris berikutnya berisi P, yaitu list bilangan bulat sebanyak D yang menunjukkan bahwa pada awal hari ke-i, orang Pi mengisolasi dirinya dari orang bernomor Pi−1.\n",
        "\n",
        "\n",
        "**Output**\n",
        "* Output akan berupa satu bilangan bulat yang menunjukkan jumlah total orang yang terinfeksi setelah akhir hari ke-D.\n",
        "\n",
        "\n",
        "**Kendala**\n",
        "* 1 ≤ T ≤ 200\n",
        "* 1 ≤ N ≤ 10^4\n",
        "* 1 ≤ D ≤ N\n",
        "* 2 ≤ Pi ≤ N untuk 1 ≤ i ≤ D \n",
        "\n",
        "\n"
      ],
      "metadata": {
        "id": "xAGmu6NGZW-e"
      }
    },
    {
      "cell_type": "code",
      "execution_count": null,
      "metadata": {
        "colab": {
          "base_uri": "https://localhost:8080/"
        },
        "id": "P0KxwnYJRrKG",
        "outputId": "f64aa8c0-b656-463b-83fb-22910c0627e9"
      },
      "outputs": [
        {
          "output_type": "stream",
          "name": "stdout",
          "text": [
            "Jumlah percobaan yang ingin dilakukan:1\n",
            "Input jumlah orang yang ada:5\n",
            "Kemungkinan orang yang ada:00100\n",
            "Jumlah hari isolasi:2\n",
            "orang ke berapa yang isolasi tiap harinya:3 5\n",
            "2\n"
          ]
        }
      ],
      "source": [
        "t = int(input(\"Jumlah percobaan yang ingin dilakukan:\"))  #input jumlah testcase yang ingin dilakukan\n",
        "for i in range(t):                                        #looping for sepanjang range testcase yang diinput       \n",
        "    N = int(input(\"Input jumlah orang yang ada:\"))        #input jumlah orang yang ada\n",
        "    n = [-1] + list(map(int, list(input(\"Kemungkinan orang yang ada:\")))) #input kemungkinan orang yang ada, 1 terinfeksi, 0 berarti belum terinfeksi\n",
        "    D = int(input(\"Jumlah hari isolasi:\")) #input jumlah hari untuk isolasi (untuk memprediksi penyebaran)\n",
        "    d = list(map(int, input(\"orang ke berapa yang isolasi tiap harinya:\").split(' '))) #orang ke berapa yang isolasi tiap harinya\n",
        "    #input pada setiap sebelum indeks orang keberapa dilakukan isolasi tiap harinya\n",
        "    l = []                                      #buat list kosong bernama l\n",
        "    for i in range(1, N + 1):   #looping for sepanjang range dengan indeks minimal 1 hingga indeks maksimal N+1\n",
        "        if n[i] == 1:           #jika n berindeks [i]==1\n",
        "            l.append(i)         #tambahkan i ke list l\n",
        "    l.append(0)                 #tambahkan 0 ke list l\n",
        "    cnt = 0                     #state nilai cnt=0\n",
        "    m = set()                   #buat himpunan kosong bernama m\n",
        "    for i in d:                 #looping for sepanjang range d\n",
        "        m.add(i)                #tambahkan i pada himpunan m\n",
        "        while l[cnt] != 0:      #ketika list l berindeks [cnt]!=0\n",
        "            c = l[cnt]          #state nilai c=nilai elemen list l berindeks [cnt], state indeks elemen di n yang bernilai 1 sebagai c\n",
        "            if c + 1 <= N and c + 1 not in m and n[c + 1] == 0:   #jika c+1 <=N dan c+1 tidak terdapat pada himp.m dan nilai n berindeks [c+1]==0\n",
        "                n[c + 1] = 1                                      #state nilai n berindeks [c+1]=1\n",
        "                l.append(c + 1)                                   #tambahkan nilai c+1 ke list l\n",
        "            if c - 1 >= 1 and c not in m and n[c - 1] == 0:       #jika c-1>=1 dan c tidak terdapat pada himp.m dan nilai n berindeks [c-1] == 0\n",
        "                n[c - 1] = 1       ##state nilai n berindeks [c-1] == 1\n",
        "                l.append(c - 1)    #tambahkan nilai c-1 ke list l\n",
        "            cnt += 1               #perbaharui nilai cnt selalu +1 setiap iterasi\n",
        "        l.append(0)                #tambahkan nilai 0 ke list l\n",
        "        cnt += 1                   #perbaharui nilai cnt selalu +1 setiap iterasi\n",
        "    print(n.count(1))              #print jumlah orang yang telah ikut terinfeksi (semua elemen n yang bernilai 1)"
      ]
    }
  ]
}