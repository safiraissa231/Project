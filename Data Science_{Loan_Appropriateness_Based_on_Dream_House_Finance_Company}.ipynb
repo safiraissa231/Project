{
  "cells": [
    {
      "cell_type": "markdown",
      "metadata": {
        "id": "aA8v35aUTuyt"
      },
      "source": [
        "# Data Exploration dan Preprocessing"
      ]
    },
    {
      "cell_type": "code",
      "execution_count": null,
      "metadata": {
        "colab": {
          "base_uri": "https://localhost:8080/",
          "height": 522
        },
        "id": "SVFAQTDGHNqX",
        "outputId": "746bf608-0dec-41dd-d0ed-05f93b445531"
      },
      "outputs": [
        {
          "output_type": "execute_result",
          "data": {
            "text/plain": [
              "     Loan_ID  Gender Married Dependents     Education Self_Employed  \\\n",
              "0   LP001002    Male      No          0      Graduate            No   \n",
              "1   LP001003    Male     Yes          1      Graduate            No   \n",
              "2   LP001005    Male     Yes          0      Graduate           Yes   \n",
              "3   LP001006    Male     Yes          0  Not Graduate            No   \n",
              "4   LP001008    Male      No          0      Graduate            No   \n",
              "..       ...     ...     ...        ...           ...           ...   \n",
              "95  LP001326    Male      No          0      Graduate           NaN   \n",
              "96  LP001327  Female     Yes          0      Graduate            No   \n",
              "97  LP001333    Male     Yes          0      Graduate            No   \n",
              "98  LP001334    Male     Yes          0  Not Graduate            No   \n",
              "99  LP001343    Male     Yes          0      Graduate            No   \n",
              "\n",
              "    ApplicantIncome  CoapplicantIncome  LoanAmount  Loan_Amount_Term  \\\n",
              "0              5849                0.0         NaN             360.0   \n",
              "1              4583             1508.0       128.0             360.0   \n",
              "2              3000                0.0        66.0             360.0   \n",
              "3              2583             2358.0       120.0             360.0   \n",
              "4              6000                0.0       141.0             360.0   \n",
              "..              ...                ...         ...               ...   \n",
              "95             6782                0.0         NaN             360.0   \n",
              "96             2484             2302.0       137.0             360.0   \n",
              "97             1977              997.0        50.0             360.0   \n",
              "98             4188                0.0       115.0             180.0   \n",
              "99             1759             3541.0       131.0             360.0   \n",
              "\n",
              "    Credit_History Property_Area Loan_Status  \n",
              "0              1.0         Urban           Y  \n",
              "1              1.0         Rural           N  \n",
              "2              1.0         Urban           Y  \n",
              "3              1.0         Urban           Y  \n",
              "4              1.0         Urban           Y  \n",
              "..             ...           ...         ...  \n",
              "95             NaN         Urban           N  \n",
              "96             1.0     Semiurban           Y  \n",
              "97             1.0     Semiurban           Y  \n",
              "98             1.0     Semiurban           Y  \n",
              "99             1.0     Semiurban           Y  \n",
              "\n",
              "[100 rows x 13 columns]"
            ],
            "text/html": [
              "\n",
              "  <div id=\"df-749d1bac-daaa-4562-bdfe-438bfd6f50ab\">\n",
              "    <div class=\"colab-df-container\">\n",
              "      <div>\n",
              "<style scoped>\n",
              "    .dataframe tbody tr th:only-of-type {\n",
              "        vertical-align: middle;\n",
              "    }\n",
              "\n",
              "    .dataframe tbody tr th {\n",
              "        vertical-align: top;\n",
              "    }\n",
              "\n",
              "    .dataframe thead th {\n",
              "        text-align: right;\n",
              "    }\n",
              "</style>\n",
              "<table border=\"1\" class=\"dataframe\">\n",
              "  <thead>\n",
              "    <tr style=\"text-align: right;\">\n",
              "      <th></th>\n",
              "      <th>Loan_ID</th>\n",
              "      <th>Gender</th>\n",
              "      <th>Married</th>\n",
              "      <th>Dependents</th>\n",
              "      <th>Education</th>\n",
              "      <th>Self_Employed</th>\n",
              "      <th>ApplicantIncome</th>\n",
              "      <th>CoapplicantIncome</th>\n",
              "      <th>LoanAmount</th>\n",
              "      <th>Loan_Amount_Term</th>\n",
              "      <th>Credit_History</th>\n",
              "      <th>Property_Area</th>\n",
              "      <th>Loan_Status</th>\n",
              "    </tr>\n",
              "  </thead>\n",
              "  <tbody>\n",
              "    <tr>\n",
              "      <th>0</th>\n",
              "      <td>LP001002</td>\n",
              "      <td>Male</td>\n",
              "      <td>No</td>\n",
              "      <td>0</td>\n",
              "      <td>Graduate</td>\n",
              "      <td>No</td>\n",
              "      <td>5849</td>\n",
              "      <td>0.0</td>\n",
              "      <td>NaN</td>\n",
              "      <td>360.0</td>\n",
              "      <td>1.0</td>\n",
              "      <td>Urban</td>\n",
              "      <td>Y</td>\n",
              "    </tr>\n",
              "    <tr>\n",
              "      <th>1</th>\n",
              "      <td>LP001003</td>\n",
              "      <td>Male</td>\n",
              "      <td>Yes</td>\n",
              "      <td>1</td>\n",
              "      <td>Graduate</td>\n",
              "      <td>No</td>\n",
              "      <td>4583</td>\n",
              "      <td>1508.0</td>\n",
              "      <td>128.0</td>\n",
              "      <td>360.0</td>\n",
              "      <td>1.0</td>\n",
              "      <td>Rural</td>\n",
              "      <td>N</td>\n",
              "    </tr>\n",
              "    <tr>\n",
              "      <th>2</th>\n",
              "      <td>LP001005</td>\n",
              "      <td>Male</td>\n",
              "      <td>Yes</td>\n",
              "      <td>0</td>\n",
              "      <td>Graduate</td>\n",
              "      <td>Yes</td>\n",
              "      <td>3000</td>\n",
              "      <td>0.0</td>\n",
              "      <td>66.0</td>\n",
              "      <td>360.0</td>\n",
              "      <td>1.0</td>\n",
              "      <td>Urban</td>\n",
              "      <td>Y</td>\n",
              "    </tr>\n",
              "    <tr>\n",
              "      <th>3</th>\n",
              "      <td>LP001006</td>\n",
              "      <td>Male</td>\n",
              "      <td>Yes</td>\n",
              "      <td>0</td>\n",
              "      <td>Not Graduate</td>\n",
              "      <td>No</td>\n",
              "      <td>2583</td>\n",
              "      <td>2358.0</td>\n",
              "      <td>120.0</td>\n",
              "      <td>360.0</td>\n",
              "      <td>1.0</td>\n",
              "      <td>Urban</td>\n",
              "      <td>Y</td>\n",
              "    </tr>\n",
              "    <tr>\n",
              "      <th>4</th>\n",
              "      <td>LP001008</td>\n",
              "      <td>Male</td>\n",
              "      <td>No</td>\n",
              "      <td>0</td>\n",
              "      <td>Graduate</td>\n",
              "      <td>No</td>\n",
              "      <td>6000</td>\n",
              "      <td>0.0</td>\n",
              "      <td>141.0</td>\n",
              "      <td>360.0</td>\n",
              "      <td>1.0</td>\n",
              "      <td>Urban</td>\n",
              "      <td>Y</td>\n",
              "    </tr>\n",
              "    <tr>\n",
              "      <th>...</th>\n",
              "      <td>...</td>\n",
              "      <td>...</td>\n",
              "      <td>...</td>\n",
              "      <td>...</td>\n",
              "      <td>...</td>\n",
              "      <td>...</td>\n",
              "      <td>...</td>\n",
              "      <td>...</td>\n",
              "      <td>...</td>\n",
              "      <td>...</td>\n",
              "      <td>...</td>\n",
              "      <td>...</td>\n",
              "      <td>...</td>\n",
              "    </tr>\n",
              "    <tr>\n",
              "      <th>95</th>\n",
              "      <td>LP001326</td>\n",
              "      <td>Male</td>\n",
              "      <td>No</td>\n",
              "      <td>0</td>\n",
              "      <td>Graduate</td>\n",
              "      <td>NaN</td>\n",
              "      <td>6782</td>\n",
              "      <td>0.0</td>\n",
              "      <td>NaN</td>\n",
              "      <td>360.0</td>\n",
              "      <td>NaN</td>\n",
              "      <td>Urban</td>\n",
              "      <td>N</td>\n",
              "    </tr>\n",
              "    <tr>\n",
              "      <th>96</th>\n",
              "      <td>LP001327</td>\n",
              "      <td>Female</td>\n",
              "      <td>Yes</td>\n",
              "      <td>0</td>\n",
              "      <td>Graduate</td>\n",
              "      <td>No</td>\n",
              "      <td>2484</td>\n",
              "      <td>2302.0</td>\n",
              "      <td>137.0</td>\n",
              "      <td>360.0</td>\n",
              "      <td>1.0</td>\n",
              "      <td>Semiurban</td>\n",
              "      <td>Y</td>\n",
              "    </tr>\n",
              "    <tr>\n",
              "      <th>97</th>\n",
              "      <td>LP001333</td>\n",
              "      <td>Male</td>\n",
              "      <td>Yes</td>\n",
              "      <td>0</td>\n",
              "      <td>Graduate</td>\n",
              "      <td>No</td>\n",
              "      <td>1977</td>\n",
              "      <td>997.0</td>\n",
              "      <td>50.0</td>\n",
              "      <td>360.0</td>\n",
              "      <td>1.0</td>\n",
              "      <td>Semiurban</td>\n",
              "      <td>Y</td>\n",
              "    </tr>\n",
              "    <tr>\n",
              "      <th>98</th>\n",
              "      <td>LP001334</td>\n",
              "      <td>Male</td>\n",
              "      <td>Yes</td>\n",
              "      <td>0</td>\n",
              "      <td>Not Graduate</td>\n",
              "      <td>No</td>\n",
              "      <td>4188</td>\n",
              "      <td>0.0</td>\n",
              "      <td>115.0</td>\n",
              "      <td>180.0</td>\n",
              "      <td>1.0</td>\n",
              "      <td>Semiurban</td>\n",
              "      <td>Y</td>\n",
              "    </tr>\n",
              "    <tr>\n",
              "      <th>99</th>\n",
              "      <td>LP001343</td>\n",
              "      <td>Male</td>\n",
              "      <td>Yes</td>\n",
              "      <td>0</td>\n",
              "      <td>Graduate</td>\n",
              "      <td>No</td>\n",
              "      <td>1759</td>\n",
              "      <td>3541.0</td>\n",
              "      <td>131.0</td>\n",
              "      <td>360.0</td>\n",
              "      <td>1.0</td>\n",
              "      <td>Semiurban</td>\n",
              "      <td>Y</td>\n",
              "    </tr>\n",
              "  </tbody>\n",
              "</table>\n",
              "<p>100 rows × 13 columns</p>\n",
              "</div>\n",
              "      <button class=\"colab-df-convert\" onclick=\"convertToInteractive('df-749d1bac-daaa-4562-bdfe-438bfd6f50ab')\"\n",
              "              title=\"Convert this dataframe to an interactive table.\"\n",
              "              style=\"display:none;\">\n",
              "        \n",
              "  <svg xmlns=\"http://www.w3.org/2000/svg\" height=\"24px\"viewBox=\"0 0 24 24\"\n",
              "       width=\"24px\">\n",
              "    <path d=\"M0 0h24v24H0V0z\" fill=\"none\"/>\n",
              "    <path d=\"M18.56 5.44l.94 2.06.94-2.06 2.06-.94-2.06-.94-.94-2.06-.94 2.06-2.06.94zm-11 1L8.5 8.5l.94-2.06 2.06-.94-2.06-.94L8.5 2.5l-.94 2.06-2.06.94zm10 10l.94 2.06.94-2.06 2.06-.94-2.06-.94-.94-2.06-.94 2.06-2.06.94z\"/><path d=\"M17.41 7.96l-1.37-1.37c-.4-.4-.92-.59-1.43-.59-.52 0-1.04.2-1.43.59L10.3 9.45l-7.72 7.72c-.78.78-.78 2.05 0 2.83L4 21.41c.39.39.9.59 1.41.59.51 0 1.02-.2 1.41-.59l7.78-7.78 2.81-2.81c.8-.78.8-2.07 0-2.86zM5.41 20L4 18.59l7.72-7.72 1.47 1.35L5.41 20z\"/>\n",
              "  </svg>\n",
              "      </button>\n",
              "      \n",
              "  <style>\n",
              "    .colab-df-container {\n",
              "      display:flex;\n",
              "      flex-wrap:wrap;\n",
              "      gap: 12px;\n",
              "    }\n",
              "\n",
              "    .colab-df-convert {\n",
              "      background-color: #E8F0FE;\n",
              "      border: none;\n",
              "      border-radius: 50%;\n",
              "      cursor: pointer;\n",
              "      display: none;\n",
              "      fill: #1967D2;\n",
              "      height: 32px;\n",
              "      padding: 0 0 0 0;\n",
              "      width: 32px;\n",
              "    }\n",
              "\n",
              "    .colab-df-convert:hover {\n",
              "      background-color: #E2EBFA;\n",
              "      box-shadow: 0px 1px 2px rgba(60, 64, 67, 0.3), 0px 1px 3px 1px rgba(60, 64, 67, 0.15);\n",
              "      fill: #174EA6;\n",
              "    }\n",
              "\n",
              "    [theme=dark] .colab-df-convert {\n",
              "      background-color: #3B4455;\n",
              "      fill: #D2E3FC;\n",
              "    }\n",
              "\n",
              "    [theme=dark] .colab-df-convert:hover {\n",
              "      background-color: #434B5C;\n",
              "      box-shadow: 0px 1px 3px 1px rgba(0, 0, 0, 0.15);\n",
              "      filter: drop-shadow(0px 1px 2px rgba(0, 0, 0, 0.3));\n",
              "      fill: #FFFFFF;\n",
              "    }\n",
              "  </style>\n",
              "\n",
              "      <script>\n",
              "        const buttonEl =\n",
              "          document.querySelector('#df-749d1bac-daaa-4562-bdfe-438bfd6f50ab button.colab-df-convert');\n",
              "        buttonEl.style.display =\n",
              "          google.colab.kernel.accessAllowed ? 'block' : 'none';\n",
              "\n",
              "        async function convertToInteractive(key) {\n",
              "          const element = document.querySelector('#df-749d1bac-daaa-4562-bdfe-438bfd6f50ab');\n",
              "          const dataTable =\n",
              "            await google.colab.kernel.invokeFunction('convertToInteractive',\n",
              "                                                     [key], {});\n",
              "          if (!dataTable) return;\n",
              "\n",
              "          const docLinkHtml = 'Like what you see? Visit the ' +\n",
              "            '<a target=\"_blank\" href=https://colab.research.google.com/notebooks/data_table.ipynb>data table notebook</a>'\n",
              "            + ' to learn more about interactive tables.';\n",
              "          element.innerHTML = '';\n",
              "          dataTable['output_type'] = 'display_data';\n",
              "          await google.colab.output.renderOutput(dataTable, element);\n",
              "          const docLink = document.createElement('div');\n",
              "          docLink.innerHTML = docLinkHtml;\n",
              "          element.appendChild(docLink);\n",
              "        }\n",
              "      </script>\n",
              "    </div>\n",
              "  </div>\n",
              "  "
            ]
          },
          "metadata": {},
          "execution_count": 34
        }
      ],
      "source": [
        "import pandas as pd\n",
        "import pylab as pl\n",
        "import numpy as np\n",
        "import scipy.optimize as opt\n",
        "import seaborn as sns\n",
        "%matplotlib inline\n",
        "import matplotlib.pyplot as plt\n",
        "from sklearn.metrics import f1_score\n",
        "from sklearn.linear_model import LogisticRegression\n",
        "from sklearn.tree import DecisionTreeClassifier\n",
        "from sklearn.svm import SVC\n",
        "from sklearn.preprocessing import StandardScaler\n",
        "from sklearn.model_selection import cross_val_score\n",
        "from sklearn.model_selection import GridSearchCV\n",
        "from sklearn.model_selection import train_test_split\n",
        "from sklearn.metrics import accuracy_score\n",
        "from sklearn.metrics import classification_report\n",
        "from sklearn.linear_model import LogisticRegression\n",
        "import joblib\n",
        "import matplotlib.pyplot as plt \n",
        "import seaborn as sns \n",
        "\n",
        "%matplotlib inline\n",
        "\n",
        "import warnings\n",
        "warnings.filterwarnings('ignore')\n",
        "loan=pd.read_csv(r\"/content/loan.csv\")  #baca dataset loan.csv, state sbg dataframe loan\n",
        "loan.head(100)                          #output headline dataframe loan"
      ]
    },
    {
      "cell_type": "code",
      "execution_count": null,
      "metadata": {
        "colab": {
          "base_uri": "https://localhost:8080/"
        },
        "id": "24Atb_r9JLwf",
        "outputId": "b19a56f9-88bf-4612-d296-9ccd8f5351ae"
      },
      "outputs": [
        {
          "output_type": "stream",
          "name": "stdout",
          "text": [
            "<class 'pandas.core.frame.DataFrame'>\n",
            "RangeIndex: 614 entries, 0 to 613\n",
            "Data columns (total 13 columns):\n",
            " #   Column             Non-Null Count  Dtype  \n",
            "---  ------             --------------  -----  \n",
            " 0   Loan_ID            614 non-null    object \n",
            " 1   Gender             601 non-null    object \n",
            " 2   Married            611 non-null    object \n",
            " 3   Dependents         599 non-null    object \n",
            " 4   Education          614 non-null    object \n",
            " 5   Self_Employed      582 non-null    object \n",
            " 6   ApplicantIncome    614 non-null    int64  \n",
            " 7   CoapplicantIncome  614 non-null    float64\n",
            " 8   LoanAmount         592 non-null    float64\n",
            " 9   Loan_Amount_Term   600 non-null    float64\n",
            " 10  Credit_History     564 non-null    float64\n",
            " 11  Property_Area      614 non-null    object \n",
            " 12  Loan_Status        614 non-null    object \n",
            "dtypes: float64(4), int64(1), object(8)\n",
            "memory usage: 62.5+ KB\n"
          ]
        }
      ],
      "source": [
        "loan.info()"
      ]
    },
    {
      "cell_type": "code",
      "execution_count": null,
      "metadata": {
        "colab": {
          "base_uri": "https://localhost:8080/"
        },
        "id": "lPHE6KQYStTr",
        "outputId": "0a7272f1-58a7-44da-b522-7e469f52924c"
      },
      "outputs": [
        {
          "output_type": "stream",
          "name": "stdout",
          "text": [
            "Numeric features: Index(['ApplicantIncome', 'CoapplicantIncome', 'LoanAmount',\n",
            "       'Loan_Amount_Term', 'Credit_History'],\n",
            "      dtype='object')\n",
            "Categorical features: Index(['Loan_ID', 'Gender', 'Married', 'Dependents', 'Education',\n",
            "       'Self_Employed', 'Property_Area'],\n",
            "      dtype='object')\n"
          ]
        }
      ],
      "source": [
        "numeric_features = loan.select_dtypes(include = ['int64', 'float64']).columns\n",
        "categorical_features = loan.iloc[:, 0:12].select_dtypes(include = ['object']).columns\n",
        "\n",
        "print(\"Numeric features:\", numeric_features)\n",
        "print(\"Categorical features:\", categorical_features)"
      ]
    },
    {
      "cell_type": "code",
      "execution_count": null,
      "metadata": {
        "id": "yEtpYZlSbkEj"
      },
      "outputs": [],
      "source": [
        "categorical_columns = ['Gender', 'Married', 'Dependents', 'Education','Self_Employed', 'Property_Area']\n",
        "numerical_columns = ['ApplicantIncome', 'CoapplicantIncome', 'LoanAmount','Loan_Amount_Term', 'Credit_History']"
      ]
    },
    {
      "cell_type": "code",
      "execution_count": null,
      "metadata": {
        "colab": {
          "base_uri": "https://localhost:8080/"
        },
        "id": "x0TkmCQeW__Y",
        "outputId": "bcb1b6cc-e053-470d-f083-29e8e48e83f5"
      },
      "outputs": [
        {
          "output_type": "execute_result",
          "data": {
            "text/plain": [
              "Loan_ID               0\n",
              "Gender               13\n",
              "Married               3\n",
              "Dependents           15\n",
              "Education             0\n",
              "Self_Employed        32\n",
              "ApplicantIncome       0\n",
              "CoapplicantIncome     0\n",
              "LoanAmount           22\n",
              "Loan_Amount_Term     14\n",
              "Credit_History       50\n",
              "Property_Area         0\n",
              "Loan_Status           0\n",
              "dtype: int64"
            ]
          },
          "metadata": {},
          "execution_count": 38
        }
      ],
      "source": [
        "loan.isnull().sum()"
      ]
    },
    {
      "cell_type": "code",
      "source": [
        "loan.describe()"
      ],
      "metadata": {
        "colab": {
          "base_uri": "https://localhost:8080/",
          "height": 300
        },
        "id": "2LdU5lHgg_rV",
        "outputId": "205a876b-bea2-48ca-d07d-223cc51d51f0"
      },
      "execution_count": null,
      "outputs": [
        {
          "output_type": "execute_result",
          "data": {
            "text/plain": [
              "       ApplicantIncome  CoapplicantIncome  LoanAmount  Loan_Amount_Term  \\\n",
              "count       614.000000         614.000000  592.000000         600.00000   \n",
              "mean       5403.459283        1621.245798  146.412162         342.00000   \n",
              "std        6109.041673        2926.248369   85.587325          65.12041   \n",
              "min         150.000000           0.000000    9.000000          12.00000   \n",
              "25%        2877.500000           0.000000  100.000000         360.00000   \n",
              "50%        3812.500000        1188.500000  128.000000         360.00000   \n",
              "75%        5795.000000        2297.250000  168.000000         360.00000   \n",
              "max       81000.000000       41667.000000  700.000000         480.00000   \n",
              "\n",
              "       Credit_History  \n",
              "count      564.000000  \n",
              "mean         0.842199  \n",
              "std          0.364878  \n",
              "min          0.000000  \n",
              "25%          1.000000  \n",
              "50%          1.000000  \n",
              "75%          1.000000  \n",
              "max          1.000000  "
            ],
            "text/html": [
              "\n",
              "  <div id=\"df-6e1a7a57-cd1c-4069-9aa3-24dc7c216f9d\">\n",
              "    <div class=\"colab-df-container\">\n",
              "      <div>\n",
              "<style scoped>\n",
              "    .dataframe tbody tr th:only-of-type {\n",
              "        vertical-align: middle;\n",
              "    }\n",
              "\n",
              "    .dataframe tbody tr th {\n",
              "        vertical-align: top;\n",
              "    }\n",
              "\n",
              "    .dataframe thead th {\n",
              "        text-align: right;\n",
              "    }\n",
              "</style>\n",
              "<table border=\"1\" class=\"dataframe\">\n",
              "  <thead>\n",
              "    <tr style=\"text-align: right;\">\n",
              "      <th></th>\n",
              "      <th>ApplicantIncome</th>\n",
              "      <th>CoapplicantIncome</th>\n",
              "      <th>LoanAmount</th>\n",
              "      <th>Loan_Amount_Term</th>\n",
              "      <th>Credit_History</th>\n",
              "    </tr>\n",
              "  </thead>\n",
              "  <tbody>\n",
              "    <tr>\n",
              "      <th>count</th>\n",
              "      <td>614.000000</td>\n",
              "      <td>614.000000</td>\n",
              "      <td>592.000000</td>\n",
              "      <td>600.00000</td>\n",
              "      <td>564.000000</td>\n",
              "    </tr>\n",
              "    <tr>\n",
              "      <th>mean</th>\n",
              "      <td>5403.459283</td>\n",
              "      <td>1621.245798</td>\n",
              "      <td>146.412162</td>\n",
              "      <td>342.00000</td>\n",
              "      <td>0.842199</td>\n",
              "    </tr>\n",
              "    <tr>\n",
              "      <th>std</th>\n",
              "      <td>6109.041673</td>\n",
              "      <td>2926.248369</td>\n",
              "      <td>85.587325</td>\n",
              "      <td>65.12041</td>\n",
              "      <td>0.364878</td>\n",
              "    </tr>\n",
              "    <tr>\n",
              "      <th>min</th>\n",
              "      <td>150.000000</td>\n",
              "      <td>0.000000</td>\n",
              "      <td>9.000000</td>\n",
              "      <td>12.00000</td>\n",
              "      <td>0.000000</td>\n",
              "    </tr>\n",
              "    <tr>\n",
              "      <th>25%</th>\n",
              "      <td>2877.500000</td>\n",
              "      <td>0.000000</td>\n",
              "      <td>100.000000</td>\n",
              "      <td>360.00000</td>\n",
              "      <td>1.000000</td>\n",
              "    </tr>\n",
              "    <tr>\n",
              "      <th>50%</th>\n",
              "      <td>3812.500000</td>\n",
              "      <td>1188.500000</td>\n",
              "      <td>128.000000</td>\n",
              "      <td>360.00000</td>\n",
              "      <td>1.000000</td>\n",
              "    </tr>\n",
              "    <tr>\n",
              "      <th>75%</th>\n",
              "      <td>5795.000000</td>\n",
              "      <td>2297.250000</td>\n",
              "      <td>168.000000</td>\n",
              "      <td>360.00000</td>\n",
              "      <td>1.000000</td>\n",
              "    </tr>\n",
              "    <tr>\n",
              "      <th>max</th>\n",
              "      <td>81000.000000</td>\n",
              "      <td>41667.000000</td>\n",
              "      <td>700.000000</td>\n",
              "      <td>480.00000</td>\n",
              "      <td>1.000000</td>\n",
              "    </tr>\n",
              "  </tbody>\n",
              "</table>\n",
              "</div>\n",
              "      <button class=\"colab-df-convert\" onclick=\"convertToInteractive('df-6e1a7a57-cd1c-4069-9aa3-24dc7c216f9d')\"\n",
              "              title=\"Convert this dataframe to an interactive table.\"\n",
              "              style=\"display:none;\">\n",
              "        \n",
              "  <svg xmlns=\"http://www.w3.org/2000/svg\" height=\"24px\"viewBox=\"0 0 24 24\"\n",
              "       width=\"24px\">\n",
              "    <path d=\"M0 0h24v24H0V0z\" fill=\"none\"/>\n",
              "    <path d=\"M18.56 5.44l.94 2.06.94-2.06 2.06-.94-2.06-.94-.94-2.06-.94 2.06-2.06.94zm-11 1L8.5 8.5l.94-2.06 2.06-.94-2.06-.94L8.5 2.5l-.94 2.06-2.06.94zm10 10l.94 2.06.94-2.06 2.06-.94-2.06-.94-.94-2.06-.94 2.06-2.06.94z\"/><path d=\"M17.41 7.96l-1.37-1.37c-.4-.4-.92-.59-1.43-.59-.52 0-1.04.2-1.43.59L10.3 9.45l-7.72 7.72c-.78.78-.78 2.05 0 2.83L4 21.41c.39.39.9.59 1.41.59.51 0 1.02-.2 1.41-.59l7.78-7.78 2.81-2.81c.8-.78.8-2.07 0-2.86zM5.41 20L4 18.59l7.72-7.72 1.47 1.35L5.41 20z\"/>\n",
              "  </svg>\n",
              "      </button>\n",
              "      \n",
              "  <style>\n",
              "    .colab-df-container {\n",
              "      display:flex;\n",
              "      flex-wrap:wrap;\n",
              "      gap: 12px;\n",
              "    }\n",
              "\n",
              "    .colab-df-convert {\n",
              "      background-color: #E8F0FE;\n",
              "      border: none;\n",
              "      border-radius: 50%;\n",
              "      cursor: pointer;\n",
              "      display: none;\n",
              "      fill: #1967D2;\n",
              "      height: 32px;\n",
              "      padding: 0 0 0 0;\n",
              "      width: 32px;\n",
              "    }\n",
              "\n",
              "    .colab-df-convert:hover {\n",
              "      background-color: #E2EBFA;\n",
              "      box-shadow: 0px 1px 2px rgba(60, 64, 67, 0.3), 0px 1px 3px 1px rgba(60, 64, 67, 0.15);\n",
              "      fill: #174EA6;\n",
              "    }\n",
              "\n",
              "    [theme=dark] .colab-df-convert {\n",
              "      background-color: #3B4455;\n",
              "      fill: #D2E3FC;\n",
              "    }\n",
              "\n",
              "    [theme=dark] .colab-df-convert:hover {\n",
              "      background-color: #434B5C;\n",
              "      box-shadow: 0px 1px 3px 1px rgba(0, 0, 0, 0.15);\n",
              "      filter: drop-shadow(0px 1px 2px rgba(0, 0, 0, 0.3));\n",
              "      fill: #FFFFFF;\n",
              "    }\n",
              "  </style>\n",
              "\n",
              "      <script>\n",
              "        const buttonEl =\n",
              "          document.querySelector('#df-6e1a7a57-cd1c-4069-9aa3-24dc7c216f9d button.colab-df-convert');\n",
              "        buttonEl.style.display =\n",
              "          google.colab.kernel.accessAllowed ? 'block' : 'none';\n",
              "\n",
              "        async function convertToInteractive(key) {\n",
              "          const element = document.querySelector('#df-6e1a7a57-cd1c-4069-9aa3-24dc7c216f9d');\n",
              "          const dataTable =\n",
              "            await google.colab.kernel.invokeFunction('convertToInteractive',\n",
              "                                                     [key], {});\n",
              "          if (!dataTable) return;\n",
              "\n",
              "          const docLinkHtml = 'Like what you see? Visit the ' +\n",
              "            '<a target=\"_blank\" href=https://colab.research.google.com/notebooks/data_table.ipynb>data table notebook</a>'\n",
              "            + ' to learn more about interactive tables.';\n",
              "          element.innerHTML = '';\n",
              "          dataTable['output_type'] = 'display_data';\n",
              "          await google.colab.output.renderOutput(dataTable, element);\n",
              "          const docLink = document.createElement('div');\n",
              "          docLink.innerHTML = docLinkHtml;\n",
              "          element.appendChild(docLink);\n",
              "        }\n",
              "      </script>\n",
              "    </div>\n",
              "  </div>\n",
              "  "
            ]
          },
          "metadata": {},
          "execution_count": 39
        }
      ]
    },
    {
      "cell_type": "code",
      "execution_count": null,
      "metadata": {
        "id": "DuhkuFVYbWb9"
      },
      "outputs": [],
      "source": [
        "for col in categorical_columns :\n",
        "    loan[col].fillna(loan[col].mode()[0],inplace=True)\n",
        "for col in numerical_columns :\n",
        "    loan[col].fillna(loan[col].mean(),inplace=True)"
      ]
    },
    {
      "cell_type": "code",
      "execution_count": null,
      "metadata": {
        "colab": {
          "base_uri": "https://localhost:8080/"
        },
        "id": "5birriWwZU3Y",
        "outputId": "07e0cc7d-6848-499e-efa9-0cadb14b6b79"
      },
      "outputs": [
        {
          "output_type": "execute_result",
          "data": {
            "text/plain": [
              "Loan_ID              0\n",
              "Gender               0\n",
              "Married              0\n",
              "Dependents           0\n",
              "Education            0\n",
              "Self_Employed        0\n",
              "ApplicantIncome      0\n",
              "CoapplicantIncome    0\n",
              "LoanAmount           0\n",
              "Loan_Amount_Term     0\n",
              "Credit_History       0\n",
              "Property_Area        0\n",
              "Loan_Status          0\n",
              "dtype: int64"
            ]
          },
          "metadata": {},
          "execution_count": 41
        }
      ],
      "source": [
        "loan.isnull().sum()"
      ]
    },
    {
      "cell_type": "code",
      "execution_count": null,
      "metadata": {
        "colab": {
          "base_uri": "https://localhost:8080/",
          "height": 288
        },
        "id": "3eIptMNYc_Dq",
        "outputId": "475544d3-2721-44d5-b2cb-652444afe0ac"
      },
      "outputs": [
        {
          "output_type": "execute_result",
          "data": {
            "text/plain": [
              "    Loan_ID Gender Married Dependents     Education Self_Employed  \\\n",
              "0  LP001002   Male      No          0      Graduate            No   \n",
              "1  LP001003   Male     Yes          1      Graduate            No   \n",
              "2  LP001005   Male     Yes          0      Graduate           Yes   \n",
              "3  LP001006   Male     Yes          0  Not Graduate            No   \n",
              "4  LP001008   Male      No          0      Graduate            No   \n",
              "\n",
              "   ApplicantIncome  CoapplicantIncome  LoanAmount  Loan_Amount_Term  \\\n",
              "0             5849                0.0  146.412162             360.0   \n",
              "1             4583             1508.0  128.000000             360.0   \n",
              "2             3000                0.0   66.000000             360.0   \n",
              "3             2583             2358.0  120.000000             360.0   \n",
              "4             6000                0.0  141.000000             360.0   \n",
              "\n",
              "   Credit_History Property_Area Loan_Status  \n",
              "0             1.0         Urban           Y  \n",
              "1             1.0         Rural           N  \n",
              "2             1.0         Urban           Y  \n",
              "3             1.0         Urban           Y  \n",
              "4             1.0         Urban           Y  "
            ],
            "text/html": [
              "\n",
              "  <div id=\"df-12c086bf-3c97-452c-af5b-c5e88d036ec6\">\n",
              "    <div class=\"colab-df-container\">\n",
              "      <div>\n",
              "<style scoped>\n",
              "    .dataframe tbody tr th:only-of-type {\n",
              "        vertical-align: middle;\n",
              "    }\n",
              "\n",
              "    .dataframe tbody tr th {\n",
              "        vertical-align: top;\n",
              "    }\n",
              "\n",
              "    .dataframe thead th {\n",
              "        text-align: right;\n",
              "    }\n",
              "</style>\n",
              "<table border=\"1\" class=\"dataframe\">\n",
              "  <thead>\n",
              "    <tr style=\"text-align: right;\">\n",
              "      <th></th>\n",
              "      <th>Loan_ID</th>\n",
              "      <th>Gender</th>\n",
              "      <th>Married</th>\n",
              "      <th>Dependents</th>\n",
              "      <th>Education</th>\n",
              "      <th>Self_Employed</th>\n",
              "      <th>ApplicantIncome</th>\n",
              "      <th>CoapplicantIncome</th>\n",
              "      <th>LoanAmount</th>\n",
              "      <th>Loan_Amount_Term</th>\n",
              "      <th>Credit_History</th>\n",
              "      <th>Property_Area</th>\n",
              "      <th>Loan_Status</th>\n",
              "    </tr>\n",
              "  </thead>\n",
              "  <tbody>\n",
              "    <tr>\n",
              "      <th>0</th>\n",
              "      <td>LP001002</td>\n",
              "      <td>Male</td>\n",
              "      <td>No</td>\n",
              "      <td>0</td>\n",
              "      <td>Graduate</td>\n",
              "      <td>No</td>\n",
              "      <td>5849</td>\n",
              "      <td>0.0</td>\n",
              "      <td>146.412162</td>\n",
              "      <td>360.0</td>\n",
              "      <td>1.0</td>\n",
              "      <td>Urban</td>\n",
              "      <td>Y</td>\n",
              "    </tr>\n",
              "    <tr>\n",
              "      <th>1</th>\n",
              "      <td>LP001003</td>\n",
              "      <td>Male</td>\n",
              "      <td>Yes</td>\n",
              "      <td>1</td>\n",
              "      <td>Graduate</td>\n",
              "      <td>No</td>\n",
              "      <td>4583</td>\n",
              "      <td>1508.0</td>\n",
              "      <td>128.000000</td>\n",
              "      <td>360.0</td>\n",
              "      <td>1.0</td>\n",
              "      <td>Rural</td>\n",
              "      <td>N</td>\n",
              "    </tr>\n",
              "    <tr>\n",
              "      <th>2</th>\n",
              "      <td>LP001005</td>\n",
              "      <td>Male</td>\n",
              "      <td>Yes</td>\n",
              "      <td>0</td>\n",
              "      <td>Graduate</td>\n",
              "      <td>Yes</td>\n",
              "      <td>3000</td>\n",
              "      <td>0.0</td>\n",
              "      <td>66.000000</td>\n",
              "      <td>360.0</td>\n",
              "      <td>1.0</td>\n",
              "      <td>Urban</td>\n",
              "      <td>Y</td>\n",
              "    </tr>\n",
              "    <tr>\n",
              "      <th>3</th>\n",
              "      <td>LP001006</td>\n",
              "      <td>Male</td>\n",
              "      <td>Yes</td>\n",
              "      <td>0</td>\n",
              "      <td>Not Graduate</td>\n",
              "      <td>No</td>\n",
              "      <td>2583</td>\n",
              "      <td>2358.0</td>\n",
              "      <td>120.000000</td>\n",
              "      <td>360.0</td>\n",
              "      <td>1.0</td>\n",
              "      <td>Urban</td>\n",
              "      <td>Y</td>\n",
              "    </tr>\n",
              "    <tr>\n",
              "      <th>4</th>\n",
              "      <td>LP001008</td>\n",
              "      <td>Male</td>\n",
              "      <td>No</td>\n",
              "      <td>0</td>\n",
              "      <td>Graduate</td>\n",
              "      <td>No</td>\n",
              "      <td>6000</td>\n",
              "      <td>0.0</td>\n",
              "      <td>141.000000</td>\n",
              "      <td>360.0</td>\n",
              "      <td>1.0</td>\n",
              "      <td>Urban</td>\n",
              "      <td>Y</td>\n",
              "    </tr>\n",
              "  </tbody>\n",
              "</table>\n",
              "</div>\n",
              "      <button class=\"colab-df-convert\" onclick=\"convertToInteractive('df-12c086bf-3c97-452c-af5b-c5e88d036ec6')\"\n",
              "              title=\"Convert this dataframe to an interactive table.\"\n",
              "              style=\"display:none;\">\n",
              "        \n",
              "  <svg xmlns=\"http://www.w3.org/2000/svg\" height=\"24px\"viewBox=\"0 0 24 24\"\n",
              "       width=\"24px\">\n",
              "    <path d=\"M0 0h24v24H0V0z\" fill=\"none\"/>\n",
              "    <path d=\"M18.56 5.44l.94 2.06.94-2.06 2.06-.94-2.06-.94-.94-2.06-.94 2.06-2.06.94zm-11 1L8.5 8.5l.94-2.06 2.06-.94-2.06-.94L8.5 2.5l-.94 2.06-2.06.94zm10 10l.94 2.06.94-2.06 2.06-.94-2.06-.94-.94-2.06-.94 2.06-2.06.94z\"/><path d=\"M17.41 7.96l-1.37-1.37c-.4-.4-.92-.59-1.43-.59-.52 0-1.04.2-1.43.59L10.3 9.45l-7.72 7.72c-.78.78-.78 2.05 0 2.83L4 21.41c.39.39.9.59 1.41.59.51 0 1.02-.2 1.41-.59l7.78-7.78 2.81-2.81c.8-.78.8-2.07 0-2.86zM5.41 20L4 18.59l7.72-7.72 1.47 1.35L5.41 20z\"/>\n",
              "  </svg>\n",
              "      </button>\n",
              "      \n",
              "  <style>\n",
              "    .colab-df-container {\n",
              "      display:flex;\n",
              "      flex-wrap:wrap;\n",
              "      gap: 12px;\n",
              "    }\n",
              "\n",
              "    .colab-df-convert {\n",
              "      background-color: #E8F0FE;\n",
              "      border: none;\n",
              "      border-radius: 50%;\n",
              "      cursor: pointer;\n",
              "      display: none;\n",
              "      fill: #1967D2;\n",
              "      height: 32px;\n",
              "      padding: 0 0 0 0;\n",
              "      width: 32px;\n",
              "    }\n",
              "\n",
              "    .colab-df-convert:hover {\n",
              "      background-color: #E2EBFA;\n",
              "      box-shadow: 0px 1px 2px rgba(60, 64, 67, 0.3), 0px 1px 3px 1px rgba(60, 64, 67, 0.15);\n",
              "      fill: #174EA6;\n",
              "    }\n",
              "\n",
              "    [theme=dark] .colab-df-convert {\n",
              "      background-color: #3B4455;\n",
              "      fill: #D2E3FC;\n",
              "    }\n",
              "\n",
              "    [theme=dark] .colab-df-convert:hover {\n",
              "      background-color: #434B5C;\n",
              "      box-shadow: 0px 1px 3px 1px rgba(0, 0, 0, 0.15);\n",
              "      filter: drop-shadow(0px 1px 2px rgba(0, 0, 0, 0.3));\n",
              "      fill: #FFFFFF;\n",
              "    }\n",
              "  </style>\n",
              "\n",
              "      <script>\n",
              "        const buttonEl =\n",
              "          document.querySelector('#df-12c086bf-3c97-452c-af5b-c5e88d036ec6 button.colab-df-convert');\n",
              "        buttonEl.style.display =\n",
              "          google.colab.kernel.accessAllowed ? 'block' : 'none';\n",
              "\n",
              "        async function convertToInteractive(key) {\n",
              "          const element = document.querySelector('#df-12c086bf-3c97-452c-af5b-c5e88d036ec6');\n",
              "          const dataTable =\n",
              "            await google.colab.kernel.invokeFunction('convertToInteractive',\n",
              "                                                     [key], {});\n",
              "          if (!dataTable) return;\n",
              "\n",
              "          const docLinkHtml = 'Like what you see? Visit the ' +\n",
              "            '<a target=\"_blank\" href=https://colab.research.google.com/notebooks/data_table.ipynb>data table notebook</a>'\n",
              "            + ' to learn more about interactive tables.';\n",
              "          element.innerHTML = '';\n",
              "          dataTable['output_type'] = 'display_data';\n",
              "          await google.colab.output.renderOutput(dataTable, element);\n",
              "          const docLink = document.createElement('div');\n",
              "          docLink.innerHTML = docLinkHtml;\n",
              "          element.appendChild(docLink);\n",
              "        }\n",
              "      </script>\n",
              "    </div>\n",
              "  </div>\n",
              "  "
            ]
          },
          "metadata": {},
          "execution_count": 42
        }
      ],
      "source": [
        "loan.head()"
      ]
    },
    {
      "cell_type": "code",
      "execution_count": null,
      "metadata": {
        "colab": {
          "base_uri": "https://localhost:8080/",
          "height": 881
        },
        "id": "mOY_Z_aXfjwU",
        "outputId": "a4582d55-cb55-4c6a-cb78-5e99c954194b"
      },
      "outputs": [
        {
          "output_type": "display_data",
          "data": {
            "text/plain": [
              "<Figure size 864x1080 with 6 Axes>"
            ],
            "image/png": "[encoded data removed]"
          },
          "metadata": {
            "needs_background": "light"
          }
        }
      ],
      "source": [
        "fig,axes = plt.subplots(3,2,figsize=(12,15))\n",
        "for idx,cat_col in enumerate(categorical_columns):\n",
        "    row,col = idx//2,idx%2\n",
        "    sns.countplot(x=cat_col,data=loan,hue='Loan_Status',ax=axes[row,col])\n",
        "\n",
        "plt.subplots_adjust(hspace=1)"
      ]
    },
    {
      "cell_type": "code",
      "execution_count": null,
      "metadata": {
        "colab": {
          "base_uri": "https://localhost:8080/",
          "height": 878
        },
        "id": "vzO8hfHzf-eX",
        "outputId": "c71a926f-d341-4228-a50f-ac7904b267d9"
      },
      "outputs": [
        {
          "output_type": "display_data",
          "data": {
            "text/plain": [
              "<Figure size 864x1080 with 6 Axes>"
            ],
            "image/png": "[encoded data removed]"
          },
          "metadata": {
            "needs_background": "light"
          }
        }
      ],
      "source": [
        "fig,axes = plt.subplots(3,2,figsize=(12,15))\n",
        "for idx,cat_col in enumerate(numerical_columns):\n",
        "    row,col = idx//2,idx%2\n",
        "    sns.countplot(x=cat_col,data=loan,hue='Loan_Status',ax=axes[row,col])\n",
        "\n",
        "plt.subplots_adjust(hspace=1)"
      ]
    },
    {
      "cell_type": "code",
      "source": [
        "loancorr = loan.corr()\n",
        "loancorr"
      ],
      "metadata": {
        "colab": {
          "base_uri": "https://localhost:8080/",
          "height": 206
        },
        "id": "du0OxtFarZhA",
        "outputId": "8f62f06d-ceb7-4c7f-8599-18282a9623f4"
      },
      "execution_count": null,
      "outputs": [
        {
          "output_type": "execute_result",
          "data": {
            "text/plain": [
              "                   ApplicantIncome  CoapplicantIncome  LoanAmount  \\\n",
              "ApplicantIncome           1.000000          -0.116605    0.565620   \n",
              "CoapplicantIncome        -0.116605           1.000000    0.187828   \n",
              "LoanAmount                0.565620           0.187828    1.000000   \n",
              "Loan_Amount_Term         -0.045242          -0.059675    0.038801   \n",
              "Credit_History           -0.014477          -0.001665   -0.007738   \n",
              "\n",
              "                   Loan_Amount_Term  Credit_History  \n",
              "ApplicantIncome           -0.045242       -0.014477  \n",
              "CoapplicantIncome         -0.059675       -0.001665  \n",
              "LoanAmount                 0.038801       -0.007738  \n",
              "Loan_Amount_Term           1.000000        0.001395  \n",
              "Credit_History             0.001395        1.000000  "
            ],
            "text/html": [
              "\n",
              "  <div id=\"df-ecdca52b-23bb-409e-a776-ca5641bdce91\">\n",
              "    <div class=\"colab-df-container\">\n",
              "      <div>\n",
              "<style scoped>\n",
              "    .dataframe tbody tr th:only-of-type {\n",
              "        vertical-align: middle;\n",
              "    }\n",
              "\n",
              "    .dataframe tbody tr th {\n",
              "        vertical-align: top;\n",
              "    }\n",
              "\n",
              "    .dataframe thead th {\n",
              "        text-align: right;\n",
              "    }\n",
              "</style>\n",
              "<table border=\"1\" class=\"dataframe\">\n",
              "  <thead>\n",
              "    <tr style=\"text-align: right;\">\n",
              "      <th></th>\n",
              "      <th>ApplicantIncome</th>\n",
              "      <th>CoapplicantIncome</th>\n",
              "      <th>LoanAmount</th>\n",
              "      <th>Loan_Amount_Term</th>\n",
              "      <th>Credit_History</th>\n",
              "    </tr>\n",
              "  </thead>\n",
              "  <tbody>\n",
              "    <tr>\n",
              "      <th>ApplicantIncome</th>\n",
              "      <td>1.000000</td>\n",
              "      <td>-0.116605</td>\n",
              "      <td>0.565620</td>\n",
              "      <td>-0.045242</td>\n",
              "      <td>-0.014477</td>\n",
              "    </tr>\n",
              "    <tr>\n",
              "      <th>CoapplicantIncome</th>\n",
              "      <td>-0.116605</td>\n",
              "      <td>1.000000</td>\n",
              "      <td>0.187828</td>\n",
              "      <td>-0.059675</td>\n",
              "      <td>-0.001665</td>\n",
              "    </tr>\n",
              "    <tr>\n",
              "      <th>LoanAmount</th>\n",
              "      <td>0.565620</td>\n",
              "      <td>0.187828</td>\n",
              "      <td>1.000000</td>\n",
              "      <td>0.038801</td>\n",
              "      <td>-0.007738</td>\n",
              "    </tr>\n",
              "    <tr>\n",
              "      <th>Loan_Amount_Term</th>\n",
              "      <td>-0.045242</td>\n",
              "      <td>-0.059675</td>\n",
              "      <td>0.038801</td>\n",
              "      <td>1.000000</td>\n",
              "      <td>0.001395</td>\n",
              "    </tr>\n",
              "    <tr>\n",
              "      <th>Credit_History</th>\n",
              "      <td>-0.014477</td>\n",
              "      <td>-0.001665</td>\n",
              "      <td>-0.007738</td>\n",
              "      <td>0.001395</td>\n",
              "      <td>1.000000</td>\n",
              "    </tr>\n",
              "  </tbody>\n",
              "</table>\n",
              "</div>\n",
              "      <button class=\"colab-df-convert\" onclick=\"convertToInteractive('df-ecdca52b-23bb-409e-a776-ca5641bdce91')\"\n",
              "              title=\"Convert this dataframe to an interactive table.\"\n",
              "              style=\"display:none;\">\n",
              "        \n",
              "  <svg xmlns=\"http://www.w3.org/2000/svg\" height=\"24px\"viewBox=\"0 0 24 24\"\n",
              "       width=\"24px\">\n",
              "    <path d=\"M0 0h24v24H0V0z\" fill=\"none\"/>\n",
              "    <path d=\"M18.56 5.44l.94 2.06.94-2.06 2.06-.94-2.06-.94-.94-2.06-.94 2.06-2.06.94zm-11 1L8.5 8.5l.94-2.06 2.06-.94-2.06-.94L8.5 2.5l-.94 2.06-2.06.94zm10 10l.94 2.06.94-2.06 2.06-.94-2.06-.94-.94-2.06-.94 2.06-2.06.94z\"/><path d=\"M17.41 7.96l-1.37-1.37c-.4-.4-.92-.59-1.43-.59-.52 0-1.04.2-1.43.59L10.3 9.45l-7.72 7.72c-.78.78-.78 2.05 0 2.83L4 21.41c.39.39.9.59 1.41.59.51 0 1.02-.2 1.41-.59l7.78-7.78 2.81-2.81c.8-.78.8-2.07 0-2.86zM5.41 20L4 18.59l7.72-7.72 1.47 1.35L5.41 20z\"/>\n",
              "  </svg>\n",
              "      </button>\n",
              "      \n",
              "  <style>\n",
              "    .colab-df-container {\n",
              "      display:flex;\n",
              "      flex-wrap:wrap;\n",
              "      gap: 12px;\n",
              "    }\n",
              "\n",
              "    .colab-df-convert {\n",
              "      background-color: #E8F0FE;\n",
              "      border: none;\n",
              "      border-radius: 50%;\n",
              "      cursor: pointer;\n",
              "      display: none;\n",
              "      fill: #1967D2;\n",
              "      height: 32px;\n",
              "      padding: 0 0 0 0;\n",
              "      width: 32px;\n",
              "    }\n",
              "\n",
              "    .colab-df-convert:hover {\n",
              "      background-color: #E2EBFA;\n",
              "      box-shadow: 0px 1px 2px rgba(60, 64, 67, 0.3), 0px 1px 3px 1px rgba(60, 64, 67, 0.15);\n",
              "      fill: #174EA6;\n",
              "    }\n",
              "\n",
              "    [theme=dark] .colab-df-convert {\n",
              "      background-color: #3B4455;\n",
              "      fill: #D2E3FC;\n",
              "    }\n",
              "\n",
              "    [theme=dark] .colab-df-convert:hover {\n",
              "      background-color: #434B5C;\n",
              "      box-shadow: 0px 1px 3px 1px rgba(0, 0, 0, 0.15);\n",
              "      filter: drop-shadow(0px 1px 2px rgba(0, 0, 0, 0.3));\n",
              "      fill: #FFFFFF;\n",
              "    }\n",
              "  </style>\n",
              "\n",
              "      <script>\n",
              "        const buttonEl =\n",
              "          document.querySelector('#df-ecdca52b-23bb-409e-a776-ca5641bdce91 button.colab-df-convert');\n",
              "        buttonEl.style.display =\n",
              "          google.colab.kernel.accessAllowed ? 'block' : 'none';\n",
              "\n",
              "        async function convertToInteractive(key) {\n",
              "          const element = document.querySelector('#df-ecdca52b-23bb-409e-a776-ca5641bdce91');\n",
              "          const dataTable =\n",
              "            await google.colab.kernel.invokeFunction('convertToInteractive',\n",
              "                                                     [key], {});\n",
              "          if (!dataTable) return;\n",
              "\n",
              "          const docLinkHtml = 'Like what you see? Visit the ' +\n",
              "            '<a target=\"_blank\" href=https://colab.research.google.com/notebooks/data_table.ipynb>data table notebook</a>'\n",
              "            + ' to learn more about interactive tables.';\n",
              "          element.innerHTML = '';\n",
              "          dataTable['output_type'] = 'display_data';\n",
              "          await google.colab.output.renderOutput(dataTable, element);\n",
              "          const docLink = document.createElement('div');\n",
              "          docLink.innerHTML = docLinkHtml;\n",
              "          element.appendChild(docLink);\n",
              "        }\n",
              "      </script>\n",
              "    </div>\n",
              "  </div>\n",
              "  "
            ]
          },
          "metadata": {},
          "execution_count": 97
        }
      ]
    },
    {
      "cell_type": "code",
      "source": [
        "mask = np.zeros_like(loancorr)\n",
        "mask[np.triu_indices_from(mask)] = True\n",
        "with sns.axes_style(\"whitegrid\"):\n",
        "    f, ax = plt.subplots(figsize=(9, 7))\n",
        "    ax = sns.heatmap(loancorr, mask=mask, vmax=1, vmin=-1, square=True, center=0)"
      ],
      "metadata": {
        "colab": {
          "base_uri": "https://localhost:8080/",
          "height": 519
        },
        "id": "BrEmdi18rhAF",
        "outputId": "40520978-f674-4553-f859-ef0c1ebe0b61"
      },
      "execution_count": null,
      "outputs": [
        {
          "output_type": "display_data",
          "data": {
            "text/plain": [
              "<Figure size 648x504 with 2 Axes>"
            ],
            "image/png": "[encoded data removed]"
          },
          "metadata": {}
        }
      ]
    },
    {
      "cell_type": "code",
      "execution_count": null,
      "metadata": {
        "colab": {
          "base_uri": "https://localhost:8080/",
          "height": 288
        },
        "id": "UEeWwv6Vcjv1",
        "outputId": "11730d9c-1196-493c-e282-f18662556432"
      },
      "outputs": [
        {
          "output_type": "execute_result",
          "data": {
            "text/plain": [
              "    Loan_ID Gender Married Dependents     Education Self_Employed  \\\n",
              "0  LP001002   Male      No          0      Graduate            No   \n",
              "1  LP001003   Male     Yes          1      Graduate            No   \n",
              "2  LP001005   Male     Yes          0      Graduate           Yes   \n",
              "3  LP001006   Male     Yes          0  Not Graduate            No   \n",
              "4  LP001008   Male      No          0      Graduate            No   \n",
              "\n",
              "   ApplicantIncome  CoapplicantIncome  LoanAmount  Loan_Amount_Term  \\\n",
              "0             5849                0.0  146.412162             360.0   \n",
              "1             4583             1508.0  128.000000             360.0   \n",
              "2             3000                0.0   66.000000             360.0   \n",
              "3             2583             2358.0  120.000000             360.0   \n",
              "4             6000                0.0  141.000000             360.0   \n",
              "\n",
              "   Credit_History Property_Area Loan_Status  \n",
              "0             1.0         Urban           Y  \n",
              "1             1.0         Rural           N  \n",
              "2             1.0         Urban           Y  \n",
              "3             1.0         Urban           Y  \n",
              "4             1.0         Urban           Y  "
            ],
            "text/html": [
              "\n",
              "  <div id=\"df-eb06709d-dee8-4daa-9f9b-5ea753dd8381\">\n",
              "    <div class=\"colab-df-container\">\n",
              "      <div>\n",
              "<style scoped>\n",
              "    .dataframe tbody tr th:only-of-type {\n",
              "        vertical-align: middle;\n",
              "    }\n",
              "\n",
              "    .dataframe tbody tr th {\n",
              "        vertical-align: top;\n",
              "    }\n",
              "\n",
              "    .dataframe thead th {\n",
              "        text-align: right;\n",
              "    }\n",
              "</style>\n",
              "<table border=\"1\" class=\"dataframe\">\n",
              "  <thead>\n",
              "    <tr style=\"text-align: right;\">\n",
              "      <th></th>\n",
              "      <th>Loan_ID</th>\n",
              "      <th>Gender</th>\n",
              "      <th>Married</th>\n",
              "      <th>Dependents</th>\n",
              "      <th>Education</th>\n",
              "      <th>Self_Employed</th>\n",
              "      <th>ApplicantIncome</th>\n",
              "      <th>CoapplicantIncome</th>\n",
              "      <th>LoanAmount</th>\n",
              "      <th>Loan_Amount_Term</th>\n",
              "      <th>Credit_History</th>\n",
              "      <th>Property_Area</th>\n",
              "      <th>Loan_Status</th>\n",
              "    </tr>\n",
              "  </thead>\n",
              "  <tbody>\n",
              "    <tr>\n",
              "      <th>0</th>\n",
              "      <td>LP001002</td>\n",
              "      <td>Male</td>\n",
              "      <td>No</td>\n",
              "      <td>0</td>\n",
              "      <td>Graduate</td>\n",
              "      <td>No</td>\n",
              "      <td>5849</td>\n",
              "      <td>0.0</td>\n",
              "      <td>146.412162</td>\n",
              "      <td>360.0</td>\n",
              "      <td>1.0</td>\n",
              "      <td>Urban</td>\n",
              "      <td>Y</td>\n",
              "    </tr>\n",
              "    <tr>\n",
              "      <th>1</th>\n",
              "      <td>LP001003</td>\n",
              "      <td>Male</td>\n",
              "      <td>Yes</td>\n",
              "      <td>1</td>\n",
              "      <td>Graduate</td>\n",
              "      <td>No</td>\n",
              "      <td>4583</td>\n",
              "      <td>1508.0</td>\n",
              "      <td>128.000000</td>\n",
              "      <td>360.0</td>\n",
              "      <td>1.0</td>\n",
              "      <td>Rural</td>\n",
              "      <td>N</td>\n",
              "    </tr>\n",
              "    <tr>\n",
              "      <th>2</th>\n",
              "      <td>LP001005</td>\n",
              "      <td>Male</td>\n",
              "      <td>Yes</td>\n",
              "      <td>0</td>\n",
              "      <td>Graduate</td>\n",
              "      <td>Yes</td>\n",
              "      <td>3000</td>\n",
              "      <td>0.0</td>\n",
              "      <td>66.000000</td>\n",
              "      <td>360.0</td>\n",
              "      <td>1.0</td>\n",
              "      <td>Urban</td>\n",
              "      <td>Y</td>\n",
              "    </tr>\n",
              "    <tr>\n",
              "      <th>3</th>\n",
              "      <td>LP001006</td>\n",
              "      <td>Male</td>\n",
              "      <td>Yes</td>\n",
              "      <td>0</td>\n",
              "      <td>Not Graduate</td>\n",
              "      <td>No</td>\n",
              "      <td>2583</td>\n",
              "      <td>2358.0</td>\n",
              "      <td>120.000000</td>\n",
              "      <td>360.0</td>\n",
              "      <td>1.0</td>\n",
              "      <td>Urban</td>\n",
              "      <td>Y</td>\n",
              "    </tr>\n",
              "    <tr>\n",
              "      <th>4</th>\n",
              "      <td>LP001008</td>\n",
              "      <td>Male</td>\n",
              "      <td>No</td>\n",
              "      <td>0</td>\n",
              "      <td>Graduate</td>\n",
              "      <td>No</td>\n",
              "      <td>6000</td>\n",
              "      <td>0.0</td>\n",
              "      <td>141.000000</td>\n",
              "      <td>360.0</td>\n",
              "      <td>1.0</td>\n",
              "      <td>Urban</td>\n",
              "      <td>Y</td>\n",
              "    </tr>\n",
              "  </tbody>\n",
              "</table>\n",
              "</div>\n",
              "      <button class=\"colab-df-convert\" onclick=\"convertToInteractive('df-eb06709d-dee8-4daa-9f9b-5ea753dd8381')\"\n",
              "              title=\"Convert this dataframe to an interactive table.\"\n",
              "              style=\"display:none;\">\n",
              "        \n",
              "  <svg xmlns=\"http://www.w3.org/2000/svg\" height=\"24px\"viewBox=\"0 0 24 24\"\n",
              "       width=\"24px\">\n",
              "    <path d=\"M0 0h24v24H0V0z\" fill=\"none\"/>\n",
              "    <path d=\"M18.56 5.44l.94 2.06.94-2.06 2.06-.94-2.06-.94-.94-2.06-.94 2.06-2.06.94zm-11 1L8.5 8.5l.94-2.06 2.06-.94-2.06-.94L8.5 2.5l-.94 2.06-2.06.94zm10 10l.94 2.06.94-2.06 2.06-.94-2.06-.94-.94-2.06-.94 2.06-2.06.94z\"/><path d=\"M17.41 7.96l-1.37-1.37c-.4-.4-.92-.59-1.43-.59-.52 0-1.04.2-1.43.59L10.3 9.45l-7.72 7.72c-.78.78-.78 2.05 0 2.83L4 21.41c.39.39.9.59 1.41.59.51 0 1.02-.2 1.41-.59l7.78-7.78 2.81-2.81c.8-.78.8-2.07 0-2.86zM5.41 20L4 18.59l7.72-7.72 1.47 1.35L5.41 20z\"/>\n",
              "  </svg>\n",
              "      </button>\n",
              "      \n",
              "  <style>\n",
              "    .colab-df-container {\n",
              "      display:flex;\n",
              "      flex-wrap:wrap;\n",
              "      gap: 12px;\n",
              "    }\n",
              "\n",
              "    .colab-df-convert {\n",
              "      background-color: #E8F0FE;\n",
              "      border: none;\n",
              "      border-radius: 50%;\n",
              "      cursor: pointer;\n",
              "      display: none;\n",
              "      fill: #1967D2;\n",
              "      height: 32px;\n",
              "      padding: 0 0 0 0;\n",
              "      width: 32px;\n",
              "    }\n",
              "\n",
              "    .colab-df-convert:hover {\n",
              "      background-color: #E2EBFA;\n",
              "      box-shadow: 0px 1px 2px rgba(60, 64, 67, 0.3), 0px 1px 3px 1px rgba(60, 64, 67, 0.15);\n",
              "      fill: #174EA6;\n",
              "    }\n",
              "\n",
              "    [theme=dark] .colab-df-convert {\n",
              "      background-color: #3B4455;\n",
              "      fill: #D2E3FC;\n",
              "    }\n",
              "\n",
              "    [theme=dark] .colab-df-convert:hover {\n",
              "      background-color: #434B5C;\n",
              "      box-shadow: 0px 1px 3px 1px rgba(0, 0, 0, 0.15);\n",
              "      filter: drop-shadow(0px 1px 2px rgba(0, 0, 0, 0.3));\n",
              "      fill: #FFFFFF;\n",
              "    }\n",
              "  </style>\n",
              "\n",
              "      <script>\n",
              "        const buttonEl =\n",
              "          document.querySelector('#df-eb06709d-dee8-4daa-9f9b-5ea753dd8381 button.colab-df-convert');\n",
              "        buttonEl.style.display =\n",
              "          google.colab.kernel.accessAllowed ? 'block' : 'none';\n",
              "\n",
              "        async function convertToInteractive(key) {\n",
              "          const element = document.querySelector('#df-eb06709d-dee8-4daa-9f9b-5ea753dd8381');\n",
              "          const dataTable =\n",
              "            await google.colab.kernel.invokeFunction('convertToInteractive',\n",
              "                                                     [key], {});\n",
              "          if (!dataTable) return;\n",
              "\n",
              "          const docLinkHtml = 'Like what you see? Visit the ' +\n",
              "            '<a target=\"_blank\" href=https://colab.research.google.com/notebooks/data_table.ipynb>data table notebook</a>'\n",
              "            + ' to learn more about interactive tables.';\n",
              "          element.innerHTML = '';\n",
              "          dataTable['output_type'] = 'display_data';\n",
              "          await google.colab.output.renderOutput(dataTable, element);\n",
              "          const docLink = document.createElement('div');\n",
              "          docLink.innerHTML = docLinkHtml;\n",
              "          element.appendChild(docLink);\n",
              "        }\n",
              "      </script>\n",
              "    </div>\n",
              "  </div>\n",
              "  "
            ]
          },
          "metadata": {},
          "execution_count": 45
        }
      ],
      "source": [
        "loan.head()"
      ]
    },
    {
      "cell_type": "code",
      "execution_count": null,
      "metadata": {
        "id": "WB-Gj_Wie7Bx",
        "colab": {
          "base_uri": "https://localhost:8080/"
        },
        "outputId": "ce775c16-b4a4-42c0-87ea-6562b72b841e"
      },
      "outputs": [
        {
          "output_type": "execute_result",
          "data": {
            "text/plain": [
              "array([['Male', 'No', '0', ..., 146.41216216216216, 360.0, 1.0],\n",
              "       ['Male', 'Yes', '1', ..., 128.0, 360.0, 1.0],\n",
              "       ['Male', 'Yes', '0', ..., 66.0, 360.0, 1.0],\n",
              "       ...,\n",
              "       ['Male', 'Yes', '1', ..., 253.0, 360.0, 1.0],\n",
              "       ['Male', 'Yes', '2', ..., 187.0, 360.0, 1.0],\n",
              "       ['Female', 'No', '0', ..., 133.0, 360.0, 0.0]], dtype=object)"
            ]
          },
          "metadata": {},
          "execution_count": 107
        }
      ],
      "source": [
        "x=loan.iloc[:,np.r_[1:6,8:11]].values\n",
        "y=loan.iloc[:,12].values\n",
        "x"
      ]
    },
    {
      "cell_type": "code",
      "execution_count": null,
      "metadata": {
        "colab": {
          "base_uri": "https://localhost:8080/"
        },
        "id": "XvGmAGQ6DI--",
        "outputId": "dac3d3a9-b2d0-4ddc-ce50-0e7da0d5e7a2"
      },
      "outputs": [
        {
          "output_type": "execute_result",
          "data": {
            "text/plain": [
              "(614,)"
            ]
          },
          "metadata": {},
          "execution_count": 47
        }
      ],
      "source": [
        "x.shape\n",
        "y.shape"
      ]
    },
    {
      "cell_type": "code",
      "execution_count": null,
      "metadata": {
        "id": "7gOmjkPykTq6"
      },
      "outputs": [],
      "source": [
        "from sklearn .model_selection import train_test_split\n",
        "x_train,x_test,y_train,y_test=train_test_split(x,y,test_size=0.2)"
      ]
    },
    {
      "cell_type": "code",
      "execution_count": null,
      "metadata": {
        "id": "KhCNasKTkXVL"
      },
      "outputs": [],
      "source": [
        "from sklearn.preprocessing import LabelEncoder\n",
        "LabelEncoder_X=LabelEncoder()"
      ]
    },
    {
      "cell_type": "code",
      "execution_count": null,
      "metadata": {
        "id": "11d-WEQhkayU"
      },
      "outputs": [],
      "source": [
        "for i in range(0,5):\n",
        "    x_train[:,i]=LabelEncoder_X.fit_transform(x_train[:,i])\n",
        "x_train[:,7]=LabelEncoder_X.fit_transform(x_train[:,7])"
      ]
    },
    {
      "cell_type": "code",
      "execution_count": null,
      "metadata": {
        "colab": {
          "base_uri": "https://localhost:8080/"
        },
        "id": "e526x3PNklUt",
        "outputId": "558a423c-d330-4ac8-c889-162cf3707092"
      },
      "outputs": [
        {
          "output_type": "execute_result",
          "data": {
            "text/plain": [
              "(491, 8)"
            ]
          },
          "metadata": {},
          "execution_count": 51
        }
      ],
      "source": [
        "x_train.shape"
      ]
    },
    {
      "cell_type": "code",
      "execution_count": null,
      "metadata": {
        "id": "ExWitXxqkoRB"
      },
      "outputs": [],
      "source": [
        "labelEncoder_Y=LabelEncoder()\n",
        "y_train=labelEncoder_Y.fit_transform(y_train)"
      ]
    },
    {
      "cell_type": "code",
      "execution_count": null,
      "metadata": {
        "colab": {
          "base_uri": "https://localhost:8080/"
        },
        "id": "1f1ArK9BkqYq",
        "outputId": "508fb274-609e-4c4b-e883-9deac8e78464"
      },
      "outputs": [
        {
          "output_type": "execute_result",
          "data": {
            "text/plain": [
              "(491,)"
            ]
          },
          "metadata": {},
          "execution_count": 53
        }
      ],
      "source": [
        "y_train.shape"
      ]
    },
    {
      "cell_type": "code",
      "execution_count": null,
      "metadata": {
        "colab": {
          "base_uri": "https://localhost:8080/"
        },
        "id": "pb1L_a-Fkv8I",
        "outputId": "9bd9b347-9b09-40e7-efbd-5724f15fa644"
      },
      "outputs": [
        {
          "output_type": "execute_result",
          "data": {
            "text/plain": [
              "(123, 8)"
            ]
          },
          "metadata": {},
          "execution_count": 54
        }
      ],
      "source": [
        "for i in range(0,5):\n",
        "    x_test[:,i]=LabelEncoder_X.fit_transform(x_test[:,i])\n",
        "x_test[:,7]=LabelEncoder_X.fit_transform(x_test[:,7])\n",
        "x_test.shape"
      ]
    },
    {
      "cell_type": "code",
      "execution_count": null,
      "metadata": {
        "colab": {
          "base_uri": "https://localhost:8080/"
        },
        "id": "pwrUi1E1ky9r",
        "outputId": "be97a31c-3602-44af-e0dd-712d4c40f20f"
      },
      "outputs": [
        {
          "output_type": "execute_result",
          "data": {
            "text/plain": [
              "(123,)"
            ]
          },
          "metadata": {},
          "execution_count": 55
        }
      ],
      "source": [
        "y_test=labelEncoder_Y.fit_transform(y_test)\n",
        "y_test.shape"
      ]
    },
    {
      "cell_type": "code",
      "execution_count": null,
      "metadata": {
        "id": "zrtzZPHtk1_-"
      },
      "outputs": [],
      "source": [
        "from sklearn.preprocessing import StandardScaler\n",
        "\n",
        "ss=StandardScaler()\n",
        "x_train=ss.fit_transform(x_train)\n",
        "x_test=ss.fit_transform(x_test)"
      ]
    },
    {
      "cell_type": "markdown",
      "source": [
        "# Pemodelan Klasifikasi Biasa"
      ],
      "metadata": {
        "id": "bbNv7iK_SPzr"
      }
    },
    {
      "cell_type": "code",
      "execution_count": null,
      "metadata": {
        "id": "r0YLV9iFlCMy"
      },
      "outputs": [],
      "source": [
        "logreg = LogisticRegression()             \n",
        "svmc = SVC()                              \n",
        "decisiontree = DecisionTreeClassifier()   "
      ]
    },
    {
      "cell_type": "code",
      "execution_count": null,
      "metadata": {
        "colab": {
          "base_uri": "https://localhost:8080/"
        },
        "id": "i66-RGqilDj3",
        "outputId": "fc19e932-fa01-414d-ae9a-7e93c99c58fc"
      },
      "outputs": [
        {
          "output_type": "stream",
          "name": "stdout",
          "text": [
            "0.8474097737315818\n",
            "0.7804157593854332\n",
            "0.859973328624889\n"
          ]
        }
      ],
      "source": [
        "#cek cross value score dari data yang memiliki korelasi paling tinggi\n",
        "print(cross_val_score(logreg, x_train, y_train, cv=5, scoring='f1').sum()/5)\n",
        "print(cross_val_score(decisiontree, x_train, y_train, cv=5, scoring='f1').sum()/5)\n",
        "print(cross_val_score(svmc, x_train, y_train, cv=5, scoring='f1').sum()/5)"
      ]
    },
    {
      "cell_type": "code",
      "execution_count": null,
      "metadata": {
        "colab": {
          "base_uri": "https://localhost:8080/"
        },
        "id": "9Nk_QDyVlLuh",
        "outputId": "fcccfd1d-3910-4f26-c7fd-f2f954ed0160"
      },
      "outputs": [
        {
          "output_type": "stream",
          "name": "stdout",
          "text": [
            "{'C': 0.01} 0.8661305577475519\n",
            "{'criterion': 'gini', 'max_depth': 3} 0.8505399952160515\n",
            "{'C': 0.5, 'kernel': 'rbf'} 0.8607030469625698\n"
          ]
        }
      ],
      "source": [
        "logreg_par= {'C':[0.01,0.05,0.1,0.5,0.7,1,5,10,50,100]}   \n",
        "decisiontree_par = {'criterion':['gini', 'entropy'],      \n",
        "                  'max_depth':[3,4,5,6]}                  \n",
        "svmc_par = {'C':[0.01,0.05,0.1,0.7,0.5,1,5,10,50,100],    \n",
        "             'kernel':['poly','rbf']}                     \n",
        "\n",
        "for model, params in zip([logreg, decisiontree, svmc], [logreg_par, decisiontree_par, svmc_par]):\n",
        "  gridsearch = GridSearchCV(model, params, cv=5, scoring='f1')     \n",
        "  gridsearch.fit(x_train, y_train)                                 \n",
        "  print(gridsearch.best_params_, gridsearch.cv_results_['mean_test_score'].max()) "
      ]
    },
    {
      "cell_type": "markdown",
      "metadata": {
        "id": "v2iREUPKlZ9p"
      },
      "source": [
        "a. Evaluasi Model Logistik Regression"
      ]
    },
    {
      "cell_type": "code",
      "execution_count": null,
      "metadata": {
        "colab": {
          "base_uri": "https://localhost:8080/"
        },
        "id": "EIMOqPiblWC9",
        "outputId": "245bf8ce-6c3c-4c2a-c29f-f5a1b5b8bb54"
      },
      "outputs": [
        {
          "output_type": "execute_result",
          "data": {
            "text/plain": [
              "0.8455284552845529"
            ]
          },
          "metadata": {},
          "execution_count": 60
        }
      ],
      "source": [
        "logreg = LogisticRegression(C=0.01) \n",
        "logreg.fit(x_train, y_train)        \n",
        "yhat = logreg.predict(x_test)       \n",
        "accuracy_score(y_test, yhat)        "
      ]
    },
    {
      "cell_type": "code",
      "execution_count": null,
      "metadata": {
        "colab": {
          "base_uri": "https://localhost:8080/"
        },
        "id": "jL0Vue94lhP2",
        "outputId": "764d49b4-7b5e-427a-c163-423efb4b57cc"
      },
      "outputs": [
        {
          "output_type": "execute_result",
          "data": {
            "text/plain": [
              "0.9045226130653267"
            ]
          },
          "metadata": {},
          "execution_count": 61
        }
      ],
      "source": [
        "f1_score(y_test, yhat) "
      ]
    },
    {
      "cell_type": "code",
      "execution_count": null,
      "metadata": {
        "colab": {
          "base_uri": "https://localhost:8080/"
        },
        "id": "wBUb9T3MljFo",
        "outputId": "9b3e375e-aa35-48b6-faaf-6fe618167fd3"
      },
      "outputs": [
        {
          "output_type": "stream",
          "name": "stdout",
          "text": [
            "              precision    recall  f1-score   support\n",
            "\n",
            "           0       0.93      0.44      0.60        32\n",
            "           1       0.83      0.99      0.90        91\n",
            "\n",
            "    accuracy                           0.85       123\n",
            "   macro avg       0.88      0.71      0.75       123\n",
            "weighted avg       0.86      0.85      0.82       123\n",
            "\n"
          ]
        }
      ],
      "source": [
        "print (classification_report(y_test, yhat)) "
      ]
    },
    {
      "cell_type": "markdown",
      "metadata": {
        "id": "uZLGE6LQlmjw"
      },
      "source": [
        "b. Evaluasi Model Decision Tree"
      ]
    },
    {
      "cell_type": "code",
      "execution_count": null,
      "metadata": {
        "id": "7ABfe5JalmAJ"
      },
      "outputs": [],
      "source": [
        "loantree = DecisionTreeClassifier(criterion='gini',max_depth=3)   \n",
        "loantree.fit(x_train, y_train)                   \n",
        "predTree = loantree.predict(x_test)                                                      "
      ]
    },
    {
      "cell_type": "code",
      "execution_count": null,
      "metadata": {
        "colab": {
          "base_uri": "https://localhost:8080/"
        },
        "id": "sXNRrMgGl74D",
        "outputId": "ee7768bd-7bea-4273-efab-c1776e30671e"
      },
      "outputs": [
        {
          "output_type": "execute_result",
          "data": {
            "text/plain": [
              "0.8455284552845529"
            ]
          },
          "metadata": {},
          "execution_count": 64
        }
      ],
      "source": [
        "accuracy_score(y_test, predTree)  "
      ]
    },
    {
      "cell_type": "code",
      "execution_count": null,
      "metadata": {
        "colab": {
          "base_uri": "https://localhost:8080/"
        },
        "id": "XXoXI-hAl-w0",
        "outputId": "71bf63b1-ab60-4f9c-d5f7-0563c31395f5"
      },
      "outputs": [
        {
          "output_type": "execute_result",
          "data": {
            "text/plain": [
              "0.9045226130653267"
            ]
          },
          "metadata": {},
          "execution_count": 65
        }
      ],
      "source": [
        "f1_score(y_test, predTree)  "
      ]
    },
    {
      "cell_type": "code",
      "execution_count": null,
      "metadata": {
        "colab": {
          "base_uri": "https://localhost:8080/"
        },
        "id": "Cs0aSa4TmZKY",
        "outputId": "e9675b04-5b88-4b8a-dbf3-6c968c615672"
      },
      "outputs": [
        {
          "output_type": "stream",
          "name": "stdout",
          "text": [
            "              precision    recall  f1-score   support\n",
            "\n",
            "           0       0.93      0.44      0.60        32\n",
            "           1       0.83      0.99      0.90        91\n",
            "\n",
            "    accuracy                           0.85       123\n",
            "   macro avg       0.88      0.71      0.75       123\n",
            "weighted avg       0.86      0.85      0.82       123\n",
            "\n"
          ]
        }
      ],
      "source": [
        "print (classification_report(y_test, predTree)) "
      ]
    },
    {
      "cell_type": "markdown",
      "metadata": {
        "id": "dcLYE_2KmfQD"
      },
      "source": [
        "c. Evaluasi Model SVM"
      ]
    },
    {
      "cell_type": "code",
      "execution_count": null,
      "metadata": {
        "id": "DI_pAhqcmX5Z"
      },
      "outputs": [],
      "source": [
        "svmc = SVC(C=0.5, kernel='rbf')   "
      ]
    },
    {
      "cell_type": "code",
      "execution_count": null,
      "metadata": {
        "colab": {
          "base_uri": "https://localhost:8080/"
        },
        "id": "gaitUM7kmXIf",
        "outputId": "59e73bbb-67f8-440b-d754-20fff53c3955"
      },
      "outputs": [
        {
          "output_type": "execute_result",
          "data": {
            "text/plain": [
              "SVC(C=0.5)"
            ]
          },
          "metadata": {},
          "execution_count": 109
        }
      ],
      "source": [
        "svmc.fit(x_train, y_train)        "
      ]
    },
    {
      "cell_type": "code",
      "execution_count": null,
      "metadata": {
        "id": "aCDP5X3fmo9l"
      },
      "outputs": [],
      "source": [
        "Ypredict = svmc.predict(x_test)                          "
      ]
    },
    {
      "cell_type": "code",
      "execution_count": null,
      "metadata": {
        "colab": {
          "base_uri": "https://localhost:8080/"
        },
        "id": "zonIEdQzmq0M",
        "outputId": "9edc7a04-c80c-4648-8654-33b88d8d851f"
      },
      "outputs": [
        {
          "output_type": "execute_result",
          "data": {
            "text/plain": [
              "0.8536585365853658"
            ]
          },
          "metadata": {},
          "execution_count": 111
        }
      ],
      "source": [
        "accuracy_score(y_test, Ypredict)  "
      ]
    },
    {
      "cell_type": "code",
      "execution_count": null,
      "metadata": {
        "colab": {
          "base_uri": "https://localhost:8080/"
        },
        "id": "vSAnuDZkmuvR",
        "outputId": "a42b745f-254e-4b7b-9baf-a6350261e2be"
      },
      "outputs": [
        {
          "output_type": "execute_result",
          "data": {
            "text/plain": [
              "0.9099999999999999"
            ]
          },
          "metadata": {},
          "execution_count": 112
        }
      ],
      "source": [
        "f1_score(y_test, Ypredict)       "
      ]
    },
    {
      "cell_type": "code",
      "execution_count": null,
      "metadata": {
        "colab": {
          "base_uri": "https://localhost:8080/"
        },
        "id": "Z1SPsXgPmyV1",
        "outputId": "801818fb-c859-4fda-9752-ec6e00912674"
      },
      "outputs": [
        {
          "output_type": "stream",
          "name": "stdout",
          "text": [
            "              precision    recall  f1-score   support\n",
            "\n",
            "           0       1.00      0.44      0.61        32\n",
            "           1       0.83      1.00      0.91        91\n",
            "\n",
            "    accuracy                           0.85       123\n",
            "   macro avg       0.92      0.72      0.76       123\n",
            "weighted avg       0.88      0.85      0.83       123\n",
            "\n"
          ]
        }
      ],
      "source": [
        "print (classification_report(y_test, Ypredict)) "
      ]
    },
    {
      "cell_type": "markdown",
      "source": [
        "#Tuning Hyperparameter Neural Networks"
      ],
      "metadata": {
        "id": "hwJemR9c5izr"
      }
    },
    {
      "cell_type": "code",
      "source": [
        "import numpy as np\n",
        "import keras\n",
        "import tensorflow as tf\n",
        "!pip install -q -U keras-tuner\n",
        "\n",
        "import keras_tuner as kt"
      ],
      "metadata": {
        "id": "lzVPU4d35nvD",
        "colab": {
          "base_uri": "https://localhost:8080/"
        },
        "outputId": "a026a7e3-8a82-4600-d9be-f50b17e9e433"
      },
      "execution_count": null,
      "outputs": [
        {
          "output_type": "stream",
          "name": "stdout",
          "text": [
            "\u001b[?25l\r\u001b[K     |██▌                             | 10 kB 23.0 MB/s eta 0:00:01\r\u001b[K     |█████                           | 20 kB 29.0 MB/s eta 0:00:01\r\u001b[K     |███████▍                        | 30 kB 26.0 MB/s eta 0:00:01\r\u001b[K     |█████████▉                      | 40 kB 16.8 MB/s eta 0:00:01\r\u001b[K     |████████████▎                   | 51 kB 9.3 MB/s eta 0:00:01\r\u001b[K     |██████████████▊                 | 61 kB 10.8 MB/s eta 0:00:01\r\u001b[K     |█████████████████▏              | 71 kB 10.4 MB/s eta 0:00:01\r\u001b[K     |███████████████████▋            | 81 kB 9.9 MB/s eta 0:00:01\r\u001b[K     |██████████████████████          | 92 kB 11.0 MB/s eta 0:00:01\r\u001b[K     |████████████████████████▌       | 102 kB 9.4 MB/s eta 0:00:01\r\u001b[K     |███████████████████████████     | 112 kB 9.4 MB/s eta 0:00:01\r\u001b[K     |█████████████████████████████▍  | 122 kB 9.4 MB/s eta 0:00:01\r\u001b[K     |███████████████████████████████▉| 133 kB 9.4 MB/s eta 0:00:01\r\u001b[K     |████████████████████████████████| 133 kB 9.4 MB/s \n",
            "\u001b[?25h"
          ]
        }
      ]
    },
    {
      "cell_type": "code",
      "source": [
        "x_valid, x_train= x_train[:18],x_train[18:]\n",
        "y_valid, y_train= y_train[:18],y_train[18:]"
      ],
      "metadata": {
        "id": "3Ns3kgUB1pC8"
      },
      "execution_count": null,
      "outputs": []
    },
    {
      "cell_type": "code",
      "source": [
        "def build_model(hp):\n",
        "  model=keras.models.Sequential()\n",
        "  model.add(Dense(8, input_dim=8, activation=\"relu\"))\n",
        "\n",
        "  hp_layers=hp.Choice('layer',[2,3])\n",
        "  hp_neurons=hp.Int('neuron', min_value=10,max_value=30,step=10)\n",
        "\n",
        "  for layers in range(hp_layers):\n",
        "    model.add(Dense(hp_neurons, activation=\"relu\"))\n",
        "  model.add(Dense(2,activation=\"sigmoid\"))\n",
        "\n",
        "  optimizer=tf.keras.optimizers.Adam()\n",
        "  model.compile(loss= \"mse\",\n",
        "              optimizer='adam',\n",
        "              metrics=['binary_accuracy'])\n",
        "  \n",
        "  return model"
      ],
      "metadata": {
        "id": "kXzmadnJ1uRS"
      },
      "execution_count": null,
      "outputs": []
    },
    {
      "cell_type": "code",
      "source": [
        "from keras.layers import Dense\n",
        "tuner = kt.RandomSearch(\n",
        "    build_model,\n",
        "    objective=\"binary_accuracy\",\n",
        "    max_trials=5,\n",
        "    overwrite=True,\n",
        "    directory=\"test_search\",\n",
        "    project_name=\"test_project\"\n",
        ")\n",
        "tuner.search(\n",
        "    x_train, y_train, epochs=100,\n",
        "    validation_data=(x_valid, y_valid),\n",
        "    callbacks=[tf.keras.callbacks.EarlyStopping(patience=10)]\n",
        ")"
      ],
      "metadata": {
        "colab": {
          "base_uri": "https://localhost:8080/"
        },
        "id": "TxWecB6t3SkY",
        "outputId": "d1db6c74-f910-48af-b7c2-4ad9b19825c4"
      },
      "execution_count": null,
      "outputs": [
        {
          "output_type": "stream",
          "name": "stdout",
          "text": [
            "Trial 5 Complete [00h 00m 03s]\n",
            "binary_accuracy: 0.7843551635742188\n",
            "\n",
            "Best binary_accuracy So Far: 0.8224101662635803\n",
            "Total elapsed time: 00h 00m 14s\n",
            "INFO:tensorflow:Oracle triggered exit\n"
          ]
        }
      ]
    },
    {
      "cell_type": "code",
      "source": [
        "best_hps=tuner.get_best_hyperparameters()[0]\n",
        "\n",
        "print('best number of layers:',best_hps.get('layer'))\n",
        "print('best number of neurons:',best_hps.get('neuron'))"
      ],
      "metadata": {
        "colab": {
          "base_uri": "https://localhost:8080/"
        },
        "id": "wYTQIJuy3pNp",
        "outputId": "d832a796-49af-4edc-bba6-5ef248a70947"
      },
      "execution_count": null,
      "outputs": [
        {
          "output_type": "stream",
          "name": "stdout",
          "text": [
            "best number of layers: 3\n",
            "best number of neurons: 20\n"
          ]
        }
      ]
    },
    {
      "cell_type": "markdown",
      "source": [
        "#Tuning Model Neural Networks dengan Hyperparameter yang Sudah di Tuning"
      ],
      "metadata": {
        "id": "0Y31mCtw7pK8"
      }
    },
    {
      "cell_type": "code",
      "source": [
        "from keras.models import Sequential\n",
        "from keras.layers import Dense\n",
        "model = Sequential()\n",
        "model.add(Dense(8, input_dim=8, activation=\"relu\"))\n",
        "model.add(Dense(20, activation=\"relu\"))\n",
        "model.add(Dense(20, activation=\"relu\"))\n",
        "model.add(Dense(20, activation=\"relu\"))\n",
        "model.add(Dense(2, activation=\"sigmoid\"))"
      ],
      "metadata": {
        "id": "5y_KbCcD9co1"
      },
      "execution_count": null,
      "outputs": []
    },
    {
      "cell_type": "code",
      "source": [
        "model.summary()"
      ],
      "metadata": {
        "colab": {
          "base_uri": "https://localhost:8080/"
        },
        "id": "5gbeVPKB9wmm",
        "outputId": "b2531319-fc62-4bd8-f49b-6dfafe289a20"
      },
      "execution_count": null,
      "outputs": [
        {
          "output_type": "stream",
          "name": "stdout",
          "text": [
            "Model: \"sequential_2\"\n",
            "_________________________________________________________________\n",
            " Layer (type)                Output Shape              Param #   \n",
            "=================================================================\n",
            " dense_9 (Dense)             (None, 8)                 72        \n",
            "                                                                 \n",
            " dense_10 (Dense)            (None, 20)                180       \n",
            "                                                                 \n",
            " dense_11 (Dense)            (None, 20)                420       \n",
            "                                                                 \n",
            " dense_12 (Dense)            (None, 20)                420       \n",
            "                                                                 \n",
            " dense_13 (Dense)            (None, 2)                 42        \n",
            "                                                                 \n",
            "=================================================================\n",
            "Total params: 1,134\n",
            "Trainable params: 1,134\n",
            "Non-trainable params: 0\n",
            "_________________________________________________________________\n"
          ]
        }
      ]
    },
    {
      "cell_type": "code",
      "source": [
        "from sklearn.datasets import make_circles\n",
        "from keras.models import Sequential\n",
        "from keras.layers import Dense\n",
        "from matplotlib import pyplot\n",
        "model.compile(loss= \"mse\",\n",
        "              optimizer='adam',\n",
        "              metrics=['binary_accuracy'])\n",
        "#fit model\n",
        "history=model.fit(x_train, y_train, epochs=100,\n",
        "                  validation_data=(x_valid,y_valid))"
      ],
      "metadata": {
        "colab": {
          "base_uri": "https://localhost:8080/"
        },
        "id": "SSDDeCUG-DF6",
        "outputId": "cbbd36fd-7f07-4a4c-b07b-01865d709bbd"
      },
      "execution_count": null,
      "outputs": [
        {
          "output_type": "stream",
          "name": "stdout",
          "text": [
            "Epoch 1/100\n",
            "15/15 [==============================] - 1s 14ms/step - loss: 0.2380 - binary_accuracy: 0.6839 - val_loss: 0.2403 - val_binary_accuracy: 0.6667\n",
            "Epoch 2/100\n",
            "15/15 [==============================] - 0s 3ms/step - loss: 0.2260 - binary_accuracy: 0.7072 - val_loss: 0.2328 - val_binary_accuracy: 0.6667\n",
            "Epoch 3/100\n",
            "15/15 [==============================] - 0s 4ms/step - loss: 0.2145 - binary_accuracy: 0.6987 - val_loss: 0.2258 - val_binary_accuracy: 0.6667\n",
            "Epoch 4/100\n",
            "15/15 [==============================] - 0s 3ms/step - loss: 0.2020 - binary_accuracy: 0.7114 - val_loss: 0.2205 - val_binary_accuracy: 0.6667\n",
            "Epoch 5/100\n",
            "15/15 [==============================] - 0s 4ms/step - loss: 0.1916 - binary_accuracy: 0.7252 - val_loss: 0.2196 - val_binary_accuracy: 0.6944\n",
            "Epoch 6/100\n",
            "15/15 [==============================] - 0s 3ms/step - loss: 0.1829 - binary_accuracy: 0.7526 - val_loss: 0.2176 - val_binary_accuracy: 0.7222\n",
            "Epoch 7/100\n",
            "15/15 [==============================] - 0s 3ms/step - loss: 0.1755 - binary_accuracy: 0.7791 - val_loss: 0.2181 - val_binary_accuracy: 0.7222\n",
            "Epoch 8/100\n",
            "15/15 [==============================] - 0s 3ms/step - loss: 0.1690 - binary_accuracy: 0.7907 - val_loss: 0.2170 - val_binary_accuracy: 0.7222\n",
            "Epoch 9/100\n",
            "15/15 [==============================] - 0s 3ms/step - loss: 0.1637 - binary_accuracy: 0.7896 - val_loss: 0.2199 - val_binary_accuracy: 0.7222\n",
            "Epoch 10/100\n",
            "15/15 [==============================] - 0s 3ms/step - loss: 0.1601 - binary_accuracy: 0.7928 - val_loss: 0.2189 - val_binary_accuracy: 0.7222\n",
            "Epoch 11/100\n",
            "15/15 [==============================] - 0s 3ms/step - loss: 0.1579 - binary_accuracy: 0.7949 - val_loss: 0.2219 - val_binary_accuracy: 0.7222\n",
            "Epoch 12/100\n",
            "15/15 [==============================] - 0s 3ms/step - loss: 0.1565 - binary_accuracy: 0.7939 - val_loss: 0.2192 - val_binary_accuracy: 0.7222\n",
            "Epoch 13/100\n",
            "15/15 [==============================] - 0s 3ms/step - loss: 0.1548 - binary_accuracy: 0.7981 - val_loss: 0.2215 - val_binary_accuracy: 0.7222\n",
            "Epoch 14/100\n",
            "15/15 [==============================] - 0s 3ms/step - loss: 0.1538 - binary_accuracy: 0.8002 - val_loss: 0.2222 - val_binary_accuracy: 0.7222\n",
            "Epoch 15/100\n",
            "15/15 [==============================] - 0s 3ms/step - loss: 0.1523 - binary_accuracy: 0.8023 - val_loss: 0.2196 - val_binary_accuracy: 0.7222\n",
            "Epoch 16/100\n",
            "15/15 [==============================] - 0s 3ms/step - loss: 0.1516 - binary_accuracy: 0.8034 - val_loss: 0.2196 - val_binary_accuracy: 0.7222\n",
            "Epoch 17/100\n",
            "15/15 [==============================] - 0s 3ms/step - loss: 0.1509 - binary_accuracy: 0.8044 - val_loss: 0.2182 - val_binary_accuracy: 0.7222\n",
            "Epoch 18/100\n",
            "15/15 [==============================] - 0s 3ms/step - loss: 0.1499 - binary_accuracy: 0.8066 - val_loss: 0.2204 - val_binary_accuracy: 0.7222\n",
            "Epoch 19/100\n",
            "15/15 [==============================] - 0s 3ms/step - loss: 0.1494 - binary_accuracy: 0.8066 - val_loss: 0.2209 - val_binary_accuracy: 0.7222\n",
            "Epoch 20/100\n",
            "15/15 [==============================] - 0s 3ms/step - loss: 0.1484 - binary_accuracy: 0.8076 - val_loss: 0.2206 - val_binary_accuracy: 0.7222\n",
            "Epoch 21/100\n",
            "15/15 [==============================] - 0s 3ms/step - loss: 0.1480 - binary_accuracy: 0.8076 - val_loss: 0.2188 - val_binary_accuracy: 0.7222\n",
            "Epoch 22/100\n",
            "15/15 [==============================] - 0s 3ms/step - loss: 0.1474 - binary_accuracy: 0.8087 - val_loss: 0.2191 - val_binary_accuracy: 0.7222\n",
            "Epoch 23/100\n",
            "15/15 [==============================] - 0s 3ms/step - loss: 0.1472 - binary_accuracy: 0.8087 - val_loss: 0.2196 - val_binary_accuracy: 0.7222\n",
            "Epoch 24/100\n",
            "15/15 [==============================] - 0s 3ms/step - loss: 0.1460 - binary_accuracy: 0.8097 - val_loss: 0.2222 - val_binary_accuracy: 0.7222\n",
            "Epoch 25/100\n",
            "15/15 [==============================] - 0s 3ms/step - loss: 0.1460 - binary_accuracy: 0.8097 - val_loss: 0.2218 - val_binary_accuracy: 0.7222\n",
            "Epoch 26/100\n",
            "15/15 [==============================] - 0s 3ms/step - loss: 0.1459 - binary_accuracy: 0.8087 - val_loss: 0.2197 - val_binary_accuracy: 0.7222\n",
            "Epoch 27/100\n",
            "15/15 [==============================] - 0s 3ms/step - loss: 0.1450 - binary_accuracy: 0.8108 - val_loss: 0.2230 - val_binary_accuracy: 0.7222\n",
            "Epoch 28/100\n",
            "15/15 [==============================] - 0s 3ms/step - loss: 0.1441 - binary_accuracy: 0.8108 - val_loss: 0.2203 - val_binary_accuracy: 0.7222\n",
            "Epoch 29/100\n",
            "15/15 [==============================] - 0s 3ms/step - loss: 0.1440 - binary_accuracy: 0.8076 - val_loss: 0.2208 - val_binary_accuracy: 0.7222\n",
            "Epoch 30/100\n",
            "15/15 [==============================] - 0s 3ms/step - loss: 0.1436 - binary_accuracy: 0.8087 - val_loss: 0.2207 - val_binary_accuracy: 0.7222\n",
            "Epoch 31/100\n",
            "15/15 [==============================] - 0s 3ms/step - loss: 0.1431 - binary_accuracy: 0.8097 - val_loss: 0.2230 - val_binary_accuracy: 0.7222\n",
            "Epoch 32/100\n",
            "15/15 [==============================] - 0s 3ms/step - loss: 0.1424 - binary_accuracy: 0.8097 - val_loss: 0.2230 - val_binary_accuracy: 0.7222\n",
            "Epoch 33/100\n",
            "15/15 [==============================] - 0s 3ms/step - loss: 0.1424 - binary_accuracy: 0.8097 - val_loss: 0.2212 - val_binary_accuracy: 0.7222\n",
            "Epoch 34/100\n",
            "15/15 [==============================] - 0s 3ms/step - loss: 0.1419 - binary_accuracy: 0.8087 - val_loss: 0.2197 - val_binary_accuracy: 0.7222\n",
            "Epoch 35/100\n",
            "15/15 [==============================] - 0s 3ms/step - loss: 0.1410 - binary_accuracy: 0.8097 - val_loss: 0.2219 - val_binary_accuracy: 0.7222\n",
            "Epoch 36/100\n",
            "15/15 [==============================] - 0s 3ms/step - loss: 0.1409 - binary_accuracy: 0.8097 - val_loss: 0.2218 - val_binary_accuracy: 0.7222\n",
            "Epoch 37/100\n",
            "15/15 [==============================] - 0s 3ms/step - loss: 0.1403 - binary_accuracy: 0.8118 - val_loss: 0.2235 - val_binary_accuracy: 0.7222\n",
            "Epoch 38/100\n",
            "15/15 [==============================] - 0s 3ms/step - loss: 0.1405 - binary_accuracy: 0.8140 - val_loss: 0.2208 - val_binary_accuracy: 0.7222\n",
            "Epoch 39/100\n",
            "15/15 [==============================] - 0s 3ms/step - loss: 0.1396 - binary_accuracy: 0.8150 - val_loss: 0.2240 - val_binary_accuracy: 0.7222\n",
            "Epoch 40/100\n",
            "15/15 [==============================] - 0s 3ms/step - loss: 0.1393 - binary_accuracy: 0.8171 - val_loss: 0.2226 - val_binary_accuracy: 0.7222\n",
            "Epoch 41/100\n",
            "15/15 [==============================] - 0s 3ms/step - loss: 0.1387 - binary_accuracy: 0.8214 - val_loss: 0.2249 - val_binary_accuracy: 0.7222\n",
            "Epoch 42/100\n",
            "15/15 [==============================] - 0s 3ms/step - loss: 0.1385 - binary_accuracy: 0.8224 - val_loss: 0.2238 - val_binary_accuracy: 0.7222\n",
            "Epoch 43/100\n",
            "15/15 [==============================] - 0s 3ms/step - loss: 0.1385 - binary_accuracy: 0.8266 - val_loss: 0.2212 - val_binary_accuracy: 0.7222\n",
            "Epoch 44/100\n",
            "15/15 [==============================] - 0s 3ms/step - loss: 0.1373 - binary_accuracy: 0.8245 - val_loss: 0.2245 - val_binary_accuracy: 0.7222\n",
            "Epoch 45/100\n",
            "15/15 [==============================] - 0s 4ms/step - loss: 0.1369 - binary_accuracy: 0.8245 - val_loss: 0.2234 - val_binary_accuracy: 0.7222\n",
            "Epoch 46/100\n",
            "15/15 [==============================] - 0s 3ms/step - loss: 0.1370 - binary_accuracy: 0.8266 - val_loss: 0.2265 - val_binary_accuracy: 0.7222\n",
            "Epoch 47/100\n",
            "15/15 [==============================] - 0s 3ms/step - loss: 0.1364 - binary_accuracy: 0.8277 - val_loss: 0.2226 - val_binary_accuracy: 0.7222\n",
            "Epoch 48/100\n",
            "15/15 [==============================] - 0s 3ms/step - loss: 0.1368 - binary_accuracy: 0.8298 - val_loss: 0.2281 - val_binary_accuracy: 0.7222\n",
            "Epoch 49/100\n",
            "15/15 [==============================] - 0s 3ms/step - loss: 0.1360 - binary_accuracy: 0.8319 - val_loss: 0.2255 - val_binary_accuracy: 0.7222\n",
            "Epoch 50/100\n",
            "15/15 [==============================] - 0s 3ms/step - loss: 0.1356 - binary_accuracy: 0.8288 - val_loss: 0.2268 - val_binary_accuracy: 0.7222\n",
            "Epoch 51/100\n",
            "15/15 [==============================] - 0s 4ms/step - loss: 0.1351 - binary_accuracy: 0.8319 - val_loss: 0.2245 - val_binary_accuracy: 0.7222\n",
            "Epoch 52/100\n",
            "15/15 [==============================] - 0s 3ms/step - loss: 0.1349 - binary_accuracy: 0.8309 - val_loss: 0.2264 - val_binary_accuracy: 0.7222\n",
            "Epoch 53/100\n",
            "15/15 [==============================] - 0s 3ms/step - loss: 0.1342 - binary_accuracy: 0.8298 - val_loss: 0.2251 - val_binary_accuracy: 0.7222\n",
            "Epoch 54/100\n",
            "15/15 [==============================] - 0s 4ms/step - loss: 0.1340 - binary_accuracy: 0.8298 - val_loss: 0.2248 - val_binary_accuracy: 0.7222\n",
            "Epoch 55/100\n",
            "15/15 [==============================] - 0s 3ms/step - loss: 0.1337 - binary_accuracy: 0.8330 - val_loss: 0.2247 - val_binary_accuracy: 0.7222\n",
            "Epoch 56/100\n",
            "15/15 [==============================] - 0s 3ms/step - loss: 0.1337 - binary_accuracy: 0.8340 - val_loss: 0.2275 - val_binary_accuracy: 0.7222\n",
            "Epoch 57/100\n",
            "15/15 [==============================] - 0s 3ms/step - loss: 0.1341 - binary_accuracy: 0.8298 - val_loss: 0.2237 - val_binary_accuracy: 0.7222\n",
            "Epoch 58/100\n",
            "15/15 [==============================] - 0s 4ms/step - loss: 0.1338 - binary_accuracy: 0.8330 - val_loss: 0.2261 - val_binary_accuracy: 0.7222\n",
            "Epoch 59/100\n",
            "15/15 [==============================] - 0s 3ms/step - loss: 0.1324 - binary_accuracy: 0.8330 - val_loss: 0.2229 - val_binary_accuracy: 0.7222\n",
            "Epoch 60/100\n",
            "15/15 [==============================] - 0s 3ms/step - loss: 0.1323 - binary_accuracy: 0.8309 - val_loss: 0.2221 - val_binary_accuracy: 0.7222\n",
            "Epoch 61/100\n",
            "15/15 [==============================] - 0s 3ms/step - loss: 0.1321 - binary_accuracy: 0.8340 - val_loss: 0.2259 - val_binary_accuracy: 0.7222\n",
            "Epoch 62/100\n",
            "15/15 [==============================] - 0s 3ms/step - loss: 0.1315 - binary_accuracy: 0.8340 - val_loss: 0.2261 - val_binary_accuracy: 0.7222\n",
            "Epoch 63/100\n",
            "15/15 [==============================] - 0s 3ms/step - loss: 0.1315 - binary_accuracy: 0.8340 - val_loss: 0.2272 - val_binary_accuracy: 0.7222\n",
            "Epoch 64/100\n",
            "15/15 [==============================] - 0s 3ms/step - loss: 0.1312 - binary_accuracy: 0.8340 - val_loss: 0.2248 - val_binary_accuracy: 0.7222\n",
            "Epoch 65/100\n",
            "15/15 [==============================] - 0s 3ms/step - loss: 0.1313 - binary_accuracy: 0.8351 - val_loss: 0.2234 - val_binary_accuracy: 0.7222\n",
            "Epoch 66/100\n",
            "15/15 [==============================] - 0s 3ms/step - loss: 0.1311 - binary_accuracy: 0.8351 - val_loss: 0.2264 - val_binary_accuracy: 0.7222\n",
            "Epoch 67/100\n",
            "15/15 [==============================] - 0s 3ms/step - loss: 0.1320 - binary_accuracy: 0.8330 - val_loss: 0.2297 - val_binary_accuracy: 0.7222\n",
            "Epoch 68/100\n",
            "15/15 [==============================] - 0s 3ms/step - loss: 0.1308 - binary_accuracy: 0.8393 - val_loss: 0.2253 - val_binary_accuracy: 0.7222\n",
            "Epoch 69/100\n",
            "15/15 [==============================] - 0s 3ms/step - loss: 0.1299 - binary_accuracy: 0.8362 - val_loss: 0.2307 - val_binary_accuracy: 0.7222\n",
            "Epoch 70/100\n",
            "15/15 [==============================] - 0s 3ms/step - loss: 0.1301 - binary_accuracy: 0.8362 - val_loss: 0.2268 - val_binary_accuracy: 0.7222\n",
            "Epoch 71/100\n",
            "15/15 [==============================] - 0s 3ms/step - loss: 0.1299 - binary_accuracy: 0.8372 - val_loss: 0.2249 - val_binary_accuracy: 0.7222\n",
            "Epoch 72/100\n",
            "15/15 [==============================] - 0s 4ms/step - loss: 0.1297 - binary_accuracy: 0.8351 - val_loss: 0.2275 - val_binary_accuracy: 0.7222\n",
            "Epoch 73/100\n",
            "15/15 [==============================] - 0s 3ms/step - loss: 0.1293 - binary_accuracy: 0.8383 - val_loss: 0.2255 - val_binary_accuracy: 0.7222\n",
            "Epoch 74/100\n",
            "15/15 [==============================] - 0s 3ms/step - loss: 0.1288 - binary_accuracy: 0.8425 - val_loss: 0.2268 - val_binary_accuracy: 0.7222\n",
            "Epoch 75/100\n",
            "15/15 [==============================] - 0s 3ms/step - loss: 0.1283 - binary_accuracy: 0.8393 - val_loss: 0.2239 - val_binary_accuracy: 0.7222\n",
            "Epoch 76/100\n",
            "15/15 [==============================] - 0s 3ms/step - loss: 0.1289 - binary_accuracy: 0.8351 - val_loss: 0.2257 - val_binary_accuracy: 0.7222\n",
            "Epoch 77/100\n",
            "15/15 [==============================] - 0s 3ms/step - loss: 0.1287 - binary_accuracy: 0.8372 - val_loss: 0.2298 - val_binary_accuracy: 0.7222\n",
            "Epoch 78/100\n",
            "15/15 [==============================] - 0s 3ms/step - loss: 0.1281 - binary_accuracy: 0.8425 - val_loss: 0.2273 - val_binary_accuracy: 0.7222\n",
            "Epoch 79/100\n",
            "15/15 [==============================] - 0s 3ms/step - loss: 0.1278 - binary_accuracy: 0.8393 - val_loss: 0.2250 - val_binary_accuracy: 0.7222\n",
            "Epoch 80/100\n",
            "15/15 [==============================] - 0s 4ms/step - loss: 0.1276 - binary_accuracy: 0.8414 - val_loss: 0.2256 - val_binary_accuracy: 0.7222\n",
            "Epoch 81/100\n",
            "15/15 [==============================] - 0s 4ms/step - loss: 0.1281 - binary_accuracy: 0.8404 - val_loss: 0.2323 - val_binary_accuracy: 0.7222\n",
            "Epoch 82/100\n",
            "15/15 [==============================] - 0s 4ms/step - loss: 0.1266 - binary_accuracy: 0.8436 - val_loss: 0.2299 - val_binary_accuracy: 0.7222\n",
            "Epoch 83/100\n",
            "15/15 [==============================] - 0s 4ms/step - loss: 0.1273 - binary_accuracy: 0.8446 - val_loss: 0.2240 - val_binary_accuracy: 0.7222\n",
            "Epoch 84/100\n",
            "15/15 [==============================] - 0s 3ms/step - loss: 0.1276 - binary_accuracy: 0.8362 - val_loss: 0.2333 - val_binary_accuracy: 0.7222\n",
            "Epoch 85/100\n",
            "15/15 [==============================] - 0s 4ms/step - loss: 0.1266 - binary_accuracy: 0.8446 - val_loss: 0.2302 - val_binary_accuracy: 0.7222\n",
            "Epoch 86/100\n",
            "15/15 [==============================] - 0s 4ms/step - loss: 0.1270 - binary_accuracy: 0.8436 - val_loss: 0.2293 - val_binary_accuracy: 0.7222\n",
            "Epoch 87/100\n",
            "15/15 [==============================] - 0s 4ms/step - loss: 0.1260 - binary_accuracy: 0.8404 - val_loss: 0.2288 - val_binary_accuracy: 0.7222\n",
            "Epoch 88/100\n",
            "15/15 [==============================] - 0s 4ms/step - loss: 0.1255 - binary_accuracy: 0.8446 - val_loss: 0.2335 - val_binary_accuracy: 0.7222\n",
            "Epoch 89/100\n",
            "15/15 [==============================] - 0s 3ms/step - loss: 0.1263 - binary_accuracy: 0.8362 - val_loss: 0.2330 - val_binary_accuracy: 0.7222\n",
            "Epoch 90/100\n",
            "15/15 [==============================] - 0s 3ms/step - loss: 0.1261 - binary_accuracy: 0.8393 - val_loss: 0.2312 - val_binary_accuracy: 0.7222\n",
            "Epoch 91/100\n",
            "15/15 [==============================] - 0s 4ms/step - loss: 0.1247 - binary_accuracy: 0.8446 - val_loss: 0.2369 - val_binary_accuracy: 0.7222\n",
            "Epoch 92/100\n",
            "15/15 [==============================] - 0s 3ms/step - loss: 0.1247 - binary_accuracy: 0.8457 - val_loss: 0.2325 - val_binary_accuracy: 0.7222\n",
            "Epoch 93/100\n",
            "15/15 [==============================] - 0s 3ms/step - loss: 0.1248 - binary_accuracy: 0.8457 - val_loss: 0.2284 - val_binary_accuracy: 0.7222\n",
            "Epoch 94/100\n",
            "15/15 [==============================] - 0s 3ms/step - loss: 0.1243 - binary_accuracy: 0.8436 - val_loss: 0.2322 - val_binary_accuracy: 0.7222\n",
            "Epoch 95/100\n",
            "15/15 [==============================] - 0s 3ms/step - loss: 0.1248 - binary_accuracy: 0.8425 - val_loss: 0.2305 - val_binary_accuracy: 0.7222\n",
            "Epoch 96/100\n",
            "15/15 [==============================] - 0s 4ms/step - loss: 0.1239 - binary_accuracy: 0.8436 - val_loss: 0.2325 - val_binary_accuracy: 0.7222\n",
            "Epoch 97/100\n",
            "15/15 [==============================] - 0s 4ms/step - loss: 0.1245 - binary_accuracy: 0.8414 - val_loss: 0.2377 - val_binary_accuracy: 0.7222\n",
            "Epoch 98/100\n",
            "15/15 [==============================] - 0s 3ms/step - loss: 0.1232 - binary_accuracy: 0.8467 - val_loss: 0.2291 - val_binary_accuracy: 0.7222\n",
            "Epoch 99/100\n",
            "15/15 [==============================] - 0s 3ms/step - loss: 0.1234 - binary_accuracy: 0.8414 - val_loss: 0.2287 - val_binary_accuracy: 0.7222\n",
            "Epoch 100/100\n",
            "15/15 [==============================] - 0s 3ms/step - loss: 0.1228 - binary_accuracy: 0.8436 - val_loss: 0.2370 - val_binary_accuracy: 0.7222\n"
          ]
        }
      ]
    },
    {
      "cell_type": "code",
      "source": [
        "model.evaluate(x_train,y_train)"
      ],
      "metadata": {
        "colab": {
          "base_uri": "https://localhost:8080/"
        },
        "id": "KDMt9y5twO4F",
        "outputId": "d15b38d4-9717-4a43-d6c4-8522bf5c92ac"
      },
      "execution_count": null,
      "outputs": [
        {
          "output_type": "stream",
          "name": "stdout",
          "text": [
            "15/15 [==============================] - 0s 1ms/step - loss: 0.1215 - binary_accuracy: 0.8467\n"
          ]
        },
        {
          "output_type": "execute_result",
          "data": {
            "text/plain": [
              "[0.12151633203029633, 0.8467230200767517]"
            ]
          },
          "metadata": {},
          "execution_count": 84
        }
      ]
    },
    {
      "cell_type": "code",
      "source": [
        "model.evaluate(x_test,y_test)"
      ],
      "metadata": {
        "colab": {
          "base_uri": "https://localhost:8080/"
        },
        "id": "exM5ChbM7Dj3",
        "outputId": "18048bb2-bc6a-43d3-dc1b-52a1b6ddeb2c"
      },
      "execution_count": null,
      "outputs": [
        {
          "output_type": "stream",
          "name": "stdout",
          "text": [
            "4/4 [==============================] - 0s 3ms/step - loss: 0.1418 - binary_accuracy: 0.8049\n"
          ]
        },
        {
          "output_type": "execute_result",
          "data": {
            "text/plain": [
              "[0.14182114601135254, 0.8048780560493469]"
            ]
          },
          "metadata": {},
          "execution_count": 85
        }
      ]
    },
    {
      "cell_type": "code",
      "source": [
        "yprob=model.predict(x_test)\n",
        "yprob"
      ],
      "metadata": {
        "colab": {
          "base_uri": "https://localhost:8080/"
        },
        "id": "2EQSjB__7xYS",
        "outputId": "f07d52f2-083f-4c94-9d50-b511fa4eb481"
      },
      "execution_count": null,
      "outputs": [
        {
          "output_type": "execute_result",
          "data": {
            "text/plain": [
              "array([[7.9102963e-01, 7.9238331e-01],\n",
              "       [2.5060773e-04, 1.0599494e-03],\n",
              "       [8.5059226e-01, 8.4935224e-01],\n",
              "       [8.5093749e-01, 8.5176122e-01],\n",
              "       [7.8823394e-01, 8.0673927e-01],\n",
              "       [8.8657832e-01, 8.8825029e-01],\n",
              "       [1.2739557e-01, 1.5406778e-01],\n",
              "       [8.8899845e-01, 8.7542963e-01],\n",
              "       [4.4911534e-02, 6.5026879e-02],\n",
              "       [8.9896142e-01, 8.9533359e-01],\n",
              "       [7.8995252e-01, 7.9575408e-01],\n",
              "       [9.1072130e-01, 8.9039135e-01],\n",
              "       [4.6438041e-01, 4.4675595e-01],\n",
              "       [8.5446060e-01, 8.5589194e-01],\n",
              "       [8.0594647e-01, 8.1119096e-01],\n",
              "       [8.5936594e-01, 8.4946656e-01],\n",
              "       [9.1017878e-01, 9.0913284e-01],\n",
              "       [5.2344799e-04, 1.6833842e-03],\n",
              "       [7.3288393e-01, 7.3067886e-01],\n",
              "       [9.0894377e-01, 9.1088665e-01],\n",
              "       [8.1809449e-01, 8.1855506e-01],\n",
              "       [8.8908517e-01, 8.7531078e-01],\n",
              "       [8.6239541e-01, 8.6549556e-01],\n",
              "       [9.0767670e-01, 8.9217043e-01],\n",
              "       [7.9466093e-01, 7.9556102e-01],\n",
              "       [8.9933294e-01, 9.0670848e-01],\n",
              "       [8.4866989e-01, 8.5245681e-01],\n",
              "       [6.8755919e-01, 6.8462551e-01],\n",
              "       [4.9536064e-01, 4.7242725e-01],\n",
              "       [3.9423642e-01, 3.7302533e-01],\n",
              "       [8.5457426e-01, 8.6725092e-01],\n",
              "       [8.5183066e-01, 8.5312688e-01],\n",
              "       [1.0450095e-02, 2.2691458e-02],\n",
              "       [6.4914441e-01, 6.7248708e-01],\n",
              "       [8.1591296e-01, 8.3359873e-01],\n",
              "       [8.2357138e-02, 1.0265574e-01],\n",
              "       [8.4049684e-01, 8.4516287e-01],\n",
              "       [8.8765514e-01, 8.7619650e-01],\n",
              "       [9.4617975e-01, 9.4295472e-01],\n",
              "       [8.4874982e-01, 8.4041876e-01],\n",
              "       [4.3887475e-01, 4.3807983e-01],\n",
              "       [2.6854873e-04, 9.5716119e-04],\n",
              "       [8.3271933e-01, 8.1220055e-01],\n",
              "       [9.9503028e-05, 7.4073672e-04],\n",
              "       [8.4717345e-01, 8.5143375e-01],\n",
              "       [2.2902489e-03, 6.6926479e-03],\n",
              "       [6.8755919e-01, 6.8462551e-01],\n",
              "       [8.0720735e-01, 8.0202401e-01],\n",
              "       [8.9490896e-01, 8.8637561e-01],\n",
              "       [7.6152968e-01, 7.7592599e-01],\n",
              "       [9.0747970e-01, 8.9501441e-01],\n",
              "       [6.6781044e-04, 3.8070679e-03],\n",
              "       [8.9284283e-01, 8.8989282e-01],\n",
              "       [4.3986416e-01, 5.0185227e-01],\n",
              "       [8.8696599e-01, 8.9550692e-01],\n",
              "       [8.9487123e-01, 8.8592148e-01],\n",
              "       [1.6887516e-02, 3.5514623e-02],\n",
              "       [5.2192765e-01, 4.9743176e-01],\n",
              "       [8.0071437e-01, 7.9950720e-01],\n",
              "       [8.5523033e-01, 8.6016703e-01],\n",
              "       [6.6405016e-01, 6.4201421e-01],\n",
              "       [2.0604664e-01, 2.2910225e-01],\n",
              "       [9.7977418e-01, 9.7960591e-01],\n",
              "       [7.8123122e-01, 7.8254044e-01],\n",
              "       [3.7497282e-04, 1.3530254e-03],\n",
              "       [9.4495207e-01, 9.3722439e-01],\n",
              "       [8.7351847e-01, 8.7161243e-01],\n",
              "       [9.1013026e-01, 9.1421318e-01],\n",
              "       [8.0966556e-01, 8.1493270e-01],\n",
              "       [4.2703998e-01, 4.1577229e-01],\n",
              "       [9.1634142e-01, 8.9681149e-01],\n",
              "       [3.5958022e-01, 3.3720404e-01],\n",
              "       [8.5547870e-01, 8.6597538e-01],\n",
              "       [9.6578026e-01, 9.6430880e-01],\n",
              "       [8.5825539e-01, 8.7138188e-01],\n",
              "       [8.0455005e-01, 8.0553818e-01],\n",
              "       [9.0891016e-01, 8.9144093e-01],\n",
              "       [8.5482347e-01, 8.6155617e-01],\n",
              "       [2.0147589e-01, 3.0422541e-01],\n",
              "       [8.6040074e-01, 8.6425483e-01],\n",
              "       [7.4509847e-01, 7.6108694e-01],\n",
              "       [9.4704318e-01, 9.4986874e-01],\n",
              "       [5.6834918e-01, 5.6337178e-01],\n",
              "       [8.5398543e-01, 8.5497689e-01],\n",
              "       [8.0870903e-01, 8.1405926e-01],\n",
              "       [8.8920927e-01, 8.9298236e-01],\n",
              "       [3.6242604e-03, 8.6807907e-03],\n",
              "       [8.0273736e-01, 7.8494930e-01],\n",
              "       [6.9640839e-01, 7.1225846e-01],\n",
              "       [7.9952347e-01, 8.0403107e-01],\n",
              "       [7.9972756e-01, 7.9929304e-01],\n",
              "       [8.4934759e-01, 8.5347700e-01],\n",
              "       [8.4607697e-01, 8.5040343e-01],\n",
              "       [8.5069633e-01, 8.3651435e-01],\n",
              "       [2.1293646e-01, 2.2179002e-01],\n",
              "       [2.7218461e-04, 1.5388131e-03],\n",
              "       [6.6400868e-01, 6.7462009e-01],\n",
              "       [4.2925864e-01, 4.0814182e-01],\n",
              "       [9.6988380e-03, 1.7849982e-02],\n",
              "       [3.7742513e-01, 3.8681623e-01],\n",
              "       [8.9618146e-01, 8.9557099e-01],\n",
              "       [8.9509290e-01, 9.0036631e-01],\n",
              "       [7.9332685e-01, 7.6176798e-01],\n",
              "       [1.6034842e-03, 2.6681423e-03],\n",
              "       [8.4172004e-01, 8.2958412e-01],\n",
              "       [6.6726810e-01, 6.4171249e-01],\n",
              "       [8.2741922e-01, 8.1396818e-01],\n",
              "       [4.3985248e-04, 2.2226572e-03],\n",
              "       [3.1216991e-01, 3.2397133e-01],\n",
              "       [7.4904835e-01, 7.6485711e-01],\n",
              "       [6.7824125e-04, 3.8825572e-03],\n",
              "       [7.1626443e-01, 7.2978026e-01],\n",
              "       [7.5676668e-01, 7.7589512e-01],\n",
              "       [8.5675693e-01, 8.6044538e-01],\n",
              "       [7.7993679e-01, 7.8516662e-01],\n",
              "       [3.8998264e-01, 3.7721238e-01],\n",
              "       [7.8677475e-01, 7.9001641e-01],\n",
              "       [8.1014252e-01, 8.1536824e-01],\n",
              "       [8.4934759e-01, 8.5347700e-01],\n",
              "       [6.8570852e-01, 6.9617075e-01],\n",
              "       [8.7431598e-01, 8.7738943e-01],\n",
              "       [6.7351431e-01, 7.0745313e-01],\n",
              "       [5.7387149e-01, 5.6898433e-01]], dtype=float32)"
            ]
          },
          "metadata": {},
          "execution_count": 86
        }
      ]
    },
    {
      "cell_type": "code",
      "source": [
        "yp=np.array([np.argmax(i) for i in yprob])\n",
        "print(yp)"
      ],
      "metadata": {
        "colab": {
          "base_uri": "https://localhost:8080/"
        },
        "id": "UwGOMFAXytaY",
        "outputId": "989a44b0-20e6-41bd-f5b0-1e27a1f42f11"
      },
      "execution_count": null,
      "outputs": [
        {
          "output_type": "stream",
          "name": "stdout",
          "text": [
            "[1 1 0 1 1 1 1 0 1 0 1 0 0 1 1 0 0 1 0 1 1 0 1 0 1 1 1 0 0 0 1 1 1 1 1 1 1\n",
            " 0 0 0 0 1 0 1 1 1 0 0 0 1 0 1 0 1 1 0 1 0 0 1 0 1 0 1 1 0 0 1 1 0 0 0 1 0\n",
            " 1 1 0 1 1 1 1 1 0 1 1 1 1 0 1 1 0 1 1 0 1 1 1 0 1 1 0 1 0 1 0 0 0 1 1 1 1\n",
            " 1 1 1 1 0 1 1 1 1 1 1 0]\n"
          ]
        }
      ]
    },
    {
      "cell_type": "code",
      "source": [
        "print(np.array(loan)[yp])"
      ],
      "metadata": {
        "colab": {
          "base_uri": "https://localhost:8080/"
        },
        "id": "EWQbEe_h78d_",
        "outputId": "379dea0f-51ba-4c40-fa37-957ae0748304"
      },
      "execution_count": null,
      "outputs": [
        {
          "output_type": "stream",
          "name": "stdout",
          "text": [
            "[['LP001003' 'Male' 'Yes' ... 1.0 'Rural' 'N']\n",
            " ['LP001003' 'Male' 'Yes' ... 1.0 'Rural' 'N']\n",
            " ['LP001002' 'Male' 'No' ... 1.0 'Urban' 'Y']\n",
            " ...\n",
            " ['LP001003' 'Male' 'Yes' ... 1.0 'Rural' 'N']\n",
            " ['LP001003' 'Male' 'Yes' ... 1.0 'Rural' 'N']\n",
            " ['LP001002' 'Male' 'No' ... 1.0 'Urban' 'Y']]\n"
          ]
        }
      ]
    },
    {
      "cell_type": "markdown",
      "source": [
        "#Tuning Model Neural Networks dengan Hyperparameter Neural Networks Berdasarkan Heaten [3]"
      ],
      "metadata": {
        "id": "Oz3yr-S0Br5f"
      }
    },
    {
      "cell_type": "code",
      "source": [
        "from keras.models import Sequential\n",
        "from keras.layers import Dense\n",
        "model = Sequential()\n",
        "model.add(Dense(8, input_dim=8, activation=\"relu\"))\n",
        "model.add(Dense(7, activation=\"relu\"))\n",
        "model.add(Dense(2, activation=\"sigmoid\"))"
      ],
      "metadata": {
        "id": "aTJBMOmBB_r8"
      },
      "execution_count": null,
      "outputs": []
    },
    {
      "cell_type": "code",
      "source": [
        "model.summary()"
      ],
      "metadata": {
        "colab": {
          "base_uri": "https://localhost:8080/"
        },
        "id": "UXMIlOhyCRHP",
        "outputId": "c7769626-c1a9-42bf-a266-1a4f978f3554"
      },
      "execution_count": null,
      "outputs": [
        {
          "output_type": "stream",
          "name": "stdout",
          "text": [
            "Model: \"sequential_3\"\n",
            "_________________________________________________________________\n",
            " Layer (type)                Output Shape              Param #   \n",
            "=================================================================\n",
            " dense_14 (Dense)            (None, 8)                 72        \n",
            "                                                                 \n",
            " dense_15 (Dense)            (None, 7)                 63        \n",
            "                                                                 \n",
            " dense_16 (Dense)            (None, 2)                 16        \n",
            "                                                                 \n",
            "=================================================================\n",
            "Total params: 151\n",
            "Trainable params: 151\n",
            "Non-trainable params: 0\n",
            "_________________________________________________________________\n"
          ]
        }
      ]
    },
    {
      "cell_type": "code",
      "source": [
        "from sklearn.datasets import make_circles\n",
        "from keras.models import Sequential\n",
        "from keras.layers import Dense\n",
        "from matplotlib import pyplot\n",
        "model.compile(loss= \"mse\",\n",
        "              optimizer='adam',\n",
        "              metrics=['binary_accuracy'])\n",
        "#fit model\n",
        "history=model.fit(x_train, y_train, epochs=100,\n",
        "                  validation_data=(x_valid,y_valid))"
      ],
      "metadata": {
        "colab": {
          "base_uri": "https://localhost:8080/"
        },
        "id": "3oP70bm7CUzH",
        "outputId": "e559b76c-b16e-4201-c53c-517073226d11"
      },
      "execution_count": null,
      "outputs": [
        {
          "output_type": "stream",
          "name": "stdout",
          "text": [
            "Epoch 1/100\n",
            "15/15 [==============================] - 1s 11ms/step - loss: 0.2652 - binary_accuracy: 0.4419 - val_loss: 0.2528 - val_binary_accuracy: 0.5000\n",
            "Epoch 2/100\n",
            "15/15 [==============================] - 0s 3ms/step - loss: 0.2585 - binary_accuracy: 0.4873 - val_loss: 0.2489 - val_binary_accuracy: 0.5556\n",
            "Epoch 3/100\n",
            "15/15 [==============================] - 0s 4ms/step - loss: 0.2535 - binary_accuracy: 0.5581 - val_loss: 0.2464 - val_binary_accuracy: 0.6111\n",
            "Epoch 4/100\n",
            "15/15 [==============================] - 0s 3ms/step - loss: 0.2501 - binary_accuracy: 0.5782 - val_loss: 0.2453 - val_binary_accuracy: 0.6389\n",
            "Epoch 5/100\n",
            "15/15 [==============================] - 0s 3ms/step - loss: 0.2473 - binary_accuracy: 0.6068 - val_loss: 0.2442 - val_binary_accuracy: 0.5833\n",
            "Epoch 6/100\n",
            "15/15 [==============================] - 0s 3ms/step - loss: 0.2454 - binary_accuracy: 0.6290 - val_loss: 0.2433 - val_binary_accuracy: 0.5833\n",
            "Epoch 7/100\n",
            "15/15 [==============================] - 0s 3ms/step - loss: 0.2437 - binary_accuracy: 0.6300 - val_loss: 0.2423 - val_binary_accuracy: 0.5556\n",
            "Epoch 8/100\n",
            "15/15 [==============================] - 0s 3ms/step - loss: 0.2423 - binary_accuracy: 0.6490 - val_loss: 0.2413 - val_binary_accuracy: 0.6389\n",
            "Epoch 9/100\n",
            "15/15 [==============================] - 0s 3ms/step - loss: 0.2409 - binary_accuracy: 0.6596 - val_loss: 0.2404 - val_binary_accuracy: 0.6944\n",
            "Epoch 10/100\n",
            "15/15 [==============================] - 0s 3ms/step - loss: 0.2396 - binary_accuracy: 0.6628 - val_loss: 0.2397 - val_binary_accuracy: 0.6944\n",
            "Epoch 11/100\n",
            "15/15 [==============================] - 0s 3ms/step - loss: 0.2384 - binary_accuracy: 0.6638 - val_loss: 0.2390 - val_binary_accuracy: 0.6944\n",
            "Epoch 12/100\n",
            "15/15 [==============================] - 0s 3ms/step - loss: 0.2372 - binary_accuracy: 0.6691 - val_loss: 0.2386 - val_binary_accuracy: 0.6944\n",
            "Epoch 13/100\n",
            "15/15 [==============================] - 0s 3ms/step - loss: 0.2359 - binary_accuracy: 0.6681 - val_loss: 0.2385 - val_binary_accuracy: 0.6944\n",
            "Epoch 14/100\n",
            "15/15 [==============================] - 0s 3ms/step - loss: 0.2344 - binary_accuracy: 0.6691 - val_loss: 0.2384 - val_binary_accuracy: 0.7222\n",
            "Epoch 15/100\n",
            "15/15 [==============================] - 0s 3ms/step - loss: 0.2327 - binary_accuracy: 0.6681 - val_loss: 0.2375 - val_binary_accuracy: 0.6944\n",
            "Epoch 16/100\n",
            "15/15 [==============================] - 0s 3ms/step - loss: 0.2308 - binary_accuracy: 0.6702 - val_loss: 0.2358 - val_binary_accuracy: 0.6667\n",
            "Epoch 17/100\n",
            "15/15 [==============================] - 0s 3ms/step - loss: 0.2278 - binary_accuracy: 0.6712 - val_loss: 0.2330 - val_binary_accuracy: 0.6667\n",
            "Epoch 18/100\n",
            "15/15 [==============================] - 0s 3ms/step - loss: 0.2239 - binary_accuracy: 0.6776 - val_loss: 0.2308 - val_binary_accuracy: 0.6667\n",
            "Epoch 19/100\n",
            "15/15 [==============================] - 0s 3ms/step - loss: 0.2194 - binary_accuracy: 0.6818 - val_loss: 0.2299 - val_binary_accuracy: 0.6667\n",
            "Epoch 20/100\n",
            "15/15 [==============================] - 0s 3ms/step - loss: 0.2160 - binary_accuracy: 0.6871 - val_loss: 0.2295 - val_binary_accuracy: 0.6667\n",
            "Epoch 21/100\n",
            "15/15 [==============================] - 0s 3ms/step - loss: 0.2124 - binary_accuracy: 0.6882 - val_loss: 0.2281 - val_binary_accuracy: 0.6667\n",
            "Epoch 22/100\n",
            "15/15 [==============================] - 0s 3ms/step - loss: 0.2089 - binary_accuracy: 0.6882 - val_loss: 0.2259 - val_binary_accuracy: 0.6944\n",
            "Epoch 23/100\n",
            "15/15 [==============================] - 0s 4ms/step - loss: 0.2059 - binary_accuracy: 0.6882 - val_loss: 0.2229 - val_binary_accuracy: 0.6944\n",
            "Epoch 24/100\n",
            "15/15 [==============================] - 0s 3ms/step - loss: 0.2031 - binary_accuracy: 0.6871 - val_loss: 0.2211 - val_binary_accuracy: 0.6944\n",
            "Epoch 25/100\n",
            "15/15 [==============================] - 0s 3ms/step - loss: 0.2010 - binary_accuracy: 0.6903 - val_loss: 0.2199 - val_binary_accuracy: 0.6944\n",
            "Epoch 26/100\n",
            "15/15 [==============================] - 0s 3ms/step - loss: 0.1990 - binary_accuracy: 0.6892 - val_loss: 0.2192 - val_binary_accuracy: 0.6944\n",
            "Epoch 27/100\n",
            "15/15 [==============================] - 0s 3ms/step - loss: 0.1972 - binary_accuracy: 0.6882 - val_loss: 0.2187 - val_binary_accuracy: 0.6944\n",
            "Epoch 28/100\n",
            "15/15 [==============================] - 0s 3ms/step - loss: 0.1959 - binary_accuracy: 0.6892 - val_loss: 0.2187 - val_binary_accuracy: 0.6944\n",
            "Epoch 29/100\n",
            "15/15 [==============================] - 0s 3ms/step - loss: 0.1946 - binary_accuracy: 0.6913 - val_loss: 0.2186 - val_binary_accuracy: 0.6944\n",
            "Epoch 30/100\n",
            "15/15 [==============================] - 0s 3ms/step - loss: 0.1933 - binary_accuracy: 0.6945 - val_loss: 0.2181 - val_binary_accuracy: 0.6944\n",
            "Epoch 31/100\n",
            "15/15 [==============================] - 0s 3ms/step - loss: 0.1919 - binary_accuracy: 0.6998 - val_loss: 0.2184 - val_binary_accuracy: 0.6944\n",
            "Epoch 32/100\n",
            "15/15 [==============================] - 0s 3ms/step - loss: 0.1907 - binary_accuracy: 0.7061 - val_loss: 0.2189 - val_binary_accuracy: 0.6944\n",
            "Epoch 33/100\n",
            "15/15 [==============================] - 0s 3ms/step - loss: 0.1893 - binary_accuracy: 0.7156 - val_loss: 0.2188 - val_binary_accuracy: 0.6944\n",
            "Epoch 34/100\n",
            "15/15 [==============================] - 0s 3ms/step - loss: 0.1878 - binary_accuracy: 0.7230 - val_loss: 0.2188 - val_binary_accuracy: 0.6944\n",
            "Epoch 35/100\n",
            "15/15 [==============================] - 0s 3ms/step - loss: 0.1861 - binary_accuracy: 0.7336 - val_loss: 0.2190 - val_binary_accuracy: 0.6944\n",
            "Epoch 36/100\n",
            "15/15 [==============================] - 0s 3ms/step - loss: 0.1842 - binary_accuracy: 0.7357 - val_loss: 0.2193 - val_binary_accuracy: 0.6944\n",
            "Epoch 37/100\n",
            "15/15 [==============================] - 0s 3ms/step - loss: 0.1819 - binary_accuracy: 0.7452 - val_loss: 0.2193 - val_binary_accuracy: 0.6944\n",
            "Epoch 38/100\n",
            "15/15 [==============================] - 0s 3ms/step - loss: 0.1795 - binary_accuracy: 0.7632 - val_loss: 0.2191 - val_binary_accuracy: 0.7222\n",
            "Epoch 39/100\n",
            "15/15 [==============================] - 0s 3ms/step - loss: 0.1774 - binary_accuracy: 0.7664 - val_loss: 0.2196 - val_binary_accuracy: 0.6944\n",
            "Epoch 40/100\n",
            "15/15 [==============================] - 0s 4ms/step - loss: 0.1749 - binary_accuracy: 0.7717 - val_loss: 0.2196 - val_binary_accuracy: 0.6944\n",
            "Epoch 41/100\n",
            "15/15 [==============================] - 0s 3ms/step - loss: 0.1724 - binary_accuracy: 0.7738 - val_loss: 0.2191 - val_binary_accuracy: 0.6944\n",
            "Epoch 42/100\n",
            "15/15 [==============================] - 0s 3ms/step - loss: 0.1704 - binary_accuracy: 0.7770 - val_loss: 0.2194 - val_binary_accuracy: 0.6944\n",
            "Epoch 43/100\n",
            "15/15 [==============================] - 0s 3ms/step - loss: 0.1686 - binary_accuracy: 0.7812 - val_loss: 0.2190 - val_binary_accuracy: 0.6944\n",
            "Epoch 44/100\n",
            "15/15 [==============================] - 0s 3ms/step - loss: 0.1669 - binary_accuracy: 0.7844 - val_loss: 0.2191 - val_binary_accuracy: 0.7222\n",
            "Epoch 45/100\n",
            "15/15 [==============================] - 0s 4ms/step - loss: 0.1652 - binary_accuracy: 0.7886 - val_loss: 0.2188 - val_binary_accuracy: 0.7222\n",
            "Epoch 46/100\n",
            "15/15 [==============================] - 0s 3ms/step - loss: 0.1639 - binary_accuracy: 0.7907 - val_loss: 0.2184 - val_binary_accuracy: 0.7222\n",
            "Epoch 47/100\n",
            "15/15 [==============================] - 0s 3ms/step - loss: 0.1629 - binary_accuracy: 0.7939 - val_loss: 0.2187 - val_binary_accuracy: 0.7222\n",
            "Epoch 48/100\n",
            "15/15 [==============================] - 0s 3ms/step - loss: 0.1618 - binary_accuracy: 0.7939 - val_loss: 0.2182 - val_binary_accuracy: 0.7222\n",
            "Epoch 49/100\n",
            "15/15 [==============================] - 0s 3ms/step - loss: 0.1609 - binary_accuracy: 0.7918 - val_loss: 0.2184 - val_binary_accuracy: 0.7222\n",
            "Epoch 50/100\n",
            "15/15 [==============================] - 0s 3ms/step - loss: 0.1600 - binary_accuracy: 0.7939 - val_loss: 0.2178 - val_binary_accuracy: 0.7222\n",
            "Epoch 51/100\n",
            "15/15 [==============================] - 0s 3ms/step - loss: 0.1593 - binary_accuracy: 0.7939 - val_loss: 0.2176 - val_binary_accuracy: 0.7222\n",
            "Epoch 52/100\n",
            "15/15 [==============================] - 0s 3ms/step - loss: 0.1585 - binary_accuracy: 0.7949 - val_loss: 0.2167 - val_binary_accuracy: 0.7222\n",
            "Epoch 53/100\n",
            "15/15 [==============================] - 0s 3ms/step - loss: 0.1579 - binary_accuracy: 0.7949 - val_loss: 0.2157 - val_binary_accuracy: 0.7222\n",
            "Epoch 54/100\n",
            "15/15 [==============================] - 0s 3ms/step - loss: 0.1574 - binary_accuracy: 0.7949 - val_loss: 0.2159 - val_binary_accuracy: 0.7222\n",
            "Epoch 55/100\n",
            "15/15 [==============================] - 0s 3ms/step - loss: 0.1567 - binary_accuracy: 0.7928 - val_loss: 0.2153 - val_binary_accuracy: 0.7222\n",
            "Epoch 56/100\n",
            "15/15 [==============================] - 0s 3ms/step - loss: 0.1563 - binary_accuracy: 0.7939 - val_loss: 0.2153 - val_binary_accuracy: 0.7222\n",
            "Epoch 57/100\n",
            "15/15 [==============================] - 0s 3ms/step - loss: 0.1558 - binary_accuracy: 0.7939 - val_loss: 0.2154 - val_binary_accuracy: 0.7222\n",
            "Epoch 58/100\n",
            "15/15 [==============================] - 0s 3ms/step - loss: 0.1555 - binary_accuracy: 0.7949 - val_loss: 0.2151 - val_binary_accuracy: 0.7222\n",
            "Epoch 59/100\n",
            "15/15 [==============================] - 0s 4ms/step - loss: 0.1550 - binary_accuracy: 0.7960 - val_loss: 0.2148 - val_binary_accuracy: 0.7222\n",
            "Epoch 60/100\n",
            "15/15 [==============================] - 0s 3ms/step - loss: 0.1546 - binary_accuracy: 0.7949 - val_loss: 0.2148 - val_binary_accuracy: 0.7222\n",
            "Epoch 61/100\n",
            "15/15 [==============================] - 0s 3ms/step - loss: 0.1544 - binary_accuracy: 0.7949 - val_loss: 0.2145 - val_binary_accuracy: 0.7222\n",
            "Epoch 62/100\n",
            "15/15 [==============================] - 0s 3ms/step - loss: 0.1540 - binary_accuracy: 0.7970 - val_loss: 0.2148 - val_binary_accuracy: 0.7222\n",
            "Epoch 63/100\n",
            "15/15 [==============================] - 0s 3ms/step - loss: 0.1537 - binary_accuracy: 0.7970 - val_loss: 0.2147 - val_binary_accuracy: 0.7222\n",
            "Epoch 64/100\n",
            "15/15 [==============================] - 0s 3ms/step - loss: 0.1533 - binary_accuracy: 0.7981 - val_loss: 0.2150 - val_binary_accuracy: 0.7222\n",
            "Epoch 65/100\n",
            "15/15 [==============================] - 0s 3ms/step - loss: 0.1531 - binary_accuracy: 0.7960 - val_loss: 0.2147 - val_binary_accuracy: 0.7222\n",
            "Epoch 66/100\n",
            "15/15 [==============================] - 0s 3ms/step - loss: 0.1527 - binary_accuracy: 0.7970 - val_loss: 0.2149 - val_binary_accuracy: 0.7222\n",
            "Epoch 67/100\n",
            "15/15 [==============================] - 0s 3ms/step - loss: 0.1525 - binary_accuracy: 0.7970 - val_loss: 0.2142 - val_binary_accuracy: 0.7222\n",
            "Epoch 68/100\n",
            "15/15 [==============================] - 0s 3ms/step - loss: 0.1522 - binary_accuracy: 0.7949 - val_loss: 0.2146 - val_binary_accuracy: 0.7222\n",
            "Epoch 69/100\n",
            "15/15 [==============================] - 0s 3ms/step - loss: 0.1517 - binary_accuracy: 0.7981 - val_loss: 0.2145 - val_binary_accuracy: 0.7222\n",
            "Epoch 70/100\n",
            "15/15 [==============================] - 0s 3ms/step - loss: 0.1514 - binary_accuracy: 0.7981 - val_loss: 0.2143 - val_binary_accuracy: 0.7222\n",
            "Epoch 71/100\n",
            "15/15 [==============================] - 0s 3ms/step - loss: 0.1511 - binary_accuracy: 0.7960 - val_loss: 0.2144 - val_binary_accuracy: 0.7222\n",
            "Epoch 72/100\n",
            "15/15 [==============================] - 0s 3ms/step - loss: 0.1506 - binary_accuracy: 0.7970 - val_loss: 0.2145 - val_binary_accuracy: 0.7222\n",
            "Epoch 73/100\n",
            "15/15 [==============================] - 0s 3ms/step - loss: 0.1504 - binary_accuracy: 0.7981 - val_loss: 0.2149 - val_binary_accuracy: 0.7222\n",
            "Epoch 74/100\n",
            "15/15 [==============================] - 0s 4ms/step - loss: 0.1500 - binary_accuracy: 0.7992 - val_loss: 0.2152 - val_binary_accuracy: 0.7222\n",
            "Epoch 75/100\n",
            "15/15 [==============================] - 0s 3ms/step - loss: 0.1497 - binary_accuracy: 0.7992 - val_loss: 0.2152 - val_binary_accuracy: 0.7222\n",
            "Epoch 76/100\n",
            "15/15 [==============================] - 0s 3ms/step - loss: 0.1495 - binary_accuracy: 0.7992 - val_loss: 0.2153 - val_binary_accuracy: 0.7222\n",
            "Epoch 77/100\n",
            "15/15 [==============================] - 0s 3ms/step - loss: 0.1494 - binary_accuracy: 0.7992 - val_loss: 0.2154 - val_binary_accuracy: 0.7222\n",
            "Epoch 78/100\n",
            "15/15 [==============================] - 0s 3ms/step - loss: 0.1491 - binary_accuracy: 0.7992 - val_loss: 0.2154 - val_binary_accuracy: 0.7222\n",
            "Epoch 79/100\n",
            "15/15 [==============================] - 0s 3ms/step - loss: 0.1490 - binary_accuracy: 0.8013 - val_loss: 0.2155 - val_binary_accuracy: 0.7222\n",
            "Epoch 80/100\n",
            "15/15 [==============================] - 0s 3ms/step - loss: 0.1487 - binary_accuracy: 0.8002 - val_loss: 0.2156 - val_binary_accuracy: 0.7222\n",
            "Epoch 81/100\n",
            "15/15 [==============================] - 0s 3ms/step - loss: 0.1488 - binary_accuracy: 0.8013 - val_loss: 0.2161 - val_binary_accuracy: 0.7222\n",
            "Epoch 82/100\n",
            "15/15 [==============================] - 0s 3ms/step - loss: 0.1483 - binary_accuracy: 0.8023 - val_loss: 0.2157 - val_binary_accuracy: 0.7222\n",
            "Epoch 83/100\n",
            "15/15 [==============================] - 0s 3ms/step - loss: 0.1482 - binary_accuracy: 0.8034 - val_loss: 0.2161 - val_binary_accuracy: 0.7222\n",
            "Epoch 84/100\n",
            "15/15 [==============================] - 0s 3ms/step - loss: 0.1480 - binary_accuracy: 0.8034 - val_loss: 0.2162 - val_binary_accuracy: 0.7222\n",
            "Epoch 85/100\n",
            "15/15 [==============================] - 0s 3ms/step - loss: 0.1478 - binary_accuracy: 0.8066 - val_loss: 0.2160 - val_binary_accuracy: 0.7222\n",
            "Epoch 86/100\n",
            "15/15 [==============================] - 0s 3ms/step - loss: 0.1477 - binary_accuracy: 0.8076 - val_loss: 0.2165 - val_binary_accuracy: 0.7222\n",
            "Epoch 87/100\n",
            "15/15 [==============================] - 0s 3ms/step - loss: 0.1478 - binary_accuracy: 0.8066 - val_loss: 0.2162 - val_binary_accuracy: 0.7222\n",
            "Epoch 88/100\n",
            "15/15 [==============================] - 0s 3ms/step - loss: 0.1474 - binary_accuracy: 0.8066 - val_loss: 0.2164 - val_binary_accuracy: 0.7222\n",
            "Epoch 89/100\n",
            "15/15 [==============================] - 0s 4ms/step - loss: 0.1472 - binary_accuracy: 0.8076 - val_loss: 0.2169 - val_binary_accuracy: 0.7222\n",
            "Epoch 90/100\n",
            "15/15 [==============================] - 0s 3ms/step - loss: 0.1472 - binary_accuracy: 0.8066 - val_loss: 0.2168 - val_binary_accuracy: 0.7222\n",
            "Epoch 91/100\n",
            "15/15 [==============================] - 0s 3ms/step - loss: 0.1470 - binary_accuracy: 0.8066 - val_loss: 0.2169 - val_binary_accuracy: 0.7222\n",
            "Epoch 92/100\n",
            "15/15 [==============================] - 0s 3ms/step - loss: 0.1468 - binary_accuracy: 0.8087 - val_loss: 0.2167 - val_binary_accuracy: 0.7222\n",
            "Epoch 93/100\n",
            "15/15 [==============================] - 0s 3ms/step - loss: 0.1467 - binary_accuracy: 0.8087 - val_loss: 0.2168 - val_binary_accuracy: 0.7222\n",
            "Epoch 94/100\n",
            "15/15 [==============================] - 0s 3ms/step - loss: 0.1466 - binary_accuracy: 0.8076 - val_loss: 0.2164 - val_binary_accuracy: 0.7222\n",
            "Epoch 95/100\n",
            "15/15 [==============================] - 0s 3ms/step - loss: 0.1464 - binary_accuracy: 0.8076 - val_loss: 0.2167 - val_binary_accuracy: 0.7222\n",
            "Epoch 96/100\n",
            "15/15 [==============================] - 0s 3ms/step - loss: 0.1462 - binary_accuracy: 0.8087 - val_loss: 0.2167 - val_binary_accuracy: 0.7222\n",
            "Epoch 97/100\n",
            "15/15 [==============================] - 0s 4ms/step - loss: 0.1461 - binary_accuracy: 0.8087 - val_loss: 0.2168 - val_binary_accuracy: 0.7222\n",
            "Epoch 98/100\n",
            "15/15 [==============================] - 0s 3ms/step - loss: 0.1461 - binary_accuracy: 0.8097 - val_loss: 0.2168 - val_binary_accuracy: 0.7222\n",
            "Epoch 99/100\n",
            "15/15 [==============================] - 0s 3ms/step - loss: 0.1459 - binary_accuracy: 0.8108 - val_loss: 0.2169 - val_binary_accuracy: 0.7222\n",
            "Epoch 100/100\n",
            "15/15 [==============================] - 0s 3ms/step - loss: 0.1458 - binary_accuracy: 0.8108 - val_loss: 0.2168 - val_binary_accuracy: 0.7222\n"
          ]
        }
      ]
    },
    {
      "cell_type": "code",
      "source": [
        "model.evaluate(x_train,y_train)"
      ],
      "metadata": {
        "colab": {
          "base_uri": "https://localhost:8080/"
        },
        "id": "bcAI_RRoxDZ9",
        "outputId": "d0563c43-a13e-4149-a56b-29fd68f9539a"
      },
      "execution_count": null,
      "outputs": [
        {
          "output_type": "stream",
          "name": "stdout",
          "text": [
            "15/15 [==============================] - 0s 1ms/step - loss: 0.1455 - binary_accuracy: 0.8118\n"
          ]
        },
        {
          "output_type": "execute_result",
          "data": {
            "text/plain": [
              "[0.1455148607492447, 0.8118393421173096]"
            ]
          },
          "metadata": {},
          "execution_count": 92
        }
      ]
    },
    {
      "cell_type": "code",
      "source": [
        "model.evaluate(x_test,y_test)"
      ],
      "metadata": {
        "colab": {
          "base_uri": "https://localhost:8080/"
        },
        "id": "tYFMqIk3CaNV",
        "outputId": "80dae28a-d70a-4ebd-9f0a-ddb65f7efbf1"
      },
      "execution_count": null,
      "outputs": [
        {
          "output_type": "stream",
          "name": "stdout",
          "text": [
            "4/4 [==============================] - 0s 3ms/step - loss: 0.1253 - binary_accuracy: 0.8537\n"
          ]
        },
        {
          "output_type": "execute_result",
          "data": {
            "text/plain": [
              "[0.12534064054489136, 0.8536585569381714]"
            ]
          },
          "metadata": {},
          "execution_count": 93
        }
      ]
    },
    {
      "cell_type": "code",
      "source": [
        "yprob=model.predict(x_test)\n",
        "yprob"
      ],
      "metadata": {
        "colab": {
          "base_uri": "https://localhost:8080/"
        },
        "id": "J6aCEUaICfbE",
        "outputId": "11b68c7b-d3da-414d-e940-389d6a0f6d89"
      },
      "execution_count": null,
      "outputs": [
        {
          "output_type": "execute_result",
          "data": {
            "text/plain": [
              "array([[0.8328447 , 0.8350334 ],\n",
              "       [0.07383418, 0.04217952],\n",
              "       [0.8902024 , 0.88622475],\n",
              "       [0.8933711 , 0.8889451 ],\n",
              "       [0.7290239 , 0.750121  ],\n",
              "       [0.8807101 , 0.879898  ],\n",
              "       [0.63343763, 0.64149165],\n",
              "       [0.90943336, 0.9033655 ],\n",
              "       [0.5174885 , 0.58812416],\n",
              "       [0.70746416, 0.67977107],\n",
              "       [0.8448051 , 0.76304126],\n",
              "       [0.90852386, 0.91064197],\n",
              "       [0.50746953, 0.5622538 ],\n",
              "       [0.87643814, 0.8739905 ],\n",
              "       [0.85625875, 0.8849965 ],\n",
              "       [0.6957805 , 0.6735872 ],\n",
              "       [0.71457714, 0.6836061 ],\n",
              "       [0.06763884, 0.03311095],\n",
              "       [0.71107614, 0.7392384 ],\n",
              "       [0.8690617 , 0.86915797],\n",
              "       [0.4367467 , 0.36820567],\n",
              "       [0.90856415, 0.90263265],\n",
              "       [0.8857879 , 0.881435  ],\n",
              "       [0.9030804 , 0.89551866],\n",
              "       [0.7615073 , 0.7789289 ],\n",
              "       [0.7370174 , 0.6902802 ],\n",
              "       [0.78662765, 0.71564466],\n",
              "       [0.7296254 , 0.6920208 ],\n",
              "       [0.53562087, 0.5044017 ],\n",
              "       [0.5812097 , 0.6167911 ],\n",
              "       [0.6906352 , 0.7086098 ],\n",
              "       [0.89436793, 0.88980347],\n",
              "       [0.18175948, 0.17180356],\n",
              "       [0.28811872, 0.20926183],\n",
              "       [0.6631589 , 0.68234646],\n",
              "       [0.51856786, 0.59055495],\n",
              "       [0.8759494 , 0.872558  ],\n",
              "       [0.9108149 , 0.9044443 ],\n",
              "       [0.67816126, 0.70839405],\n",
              "       [0.81122905, 0.8397736 ],\n",
              "       [0.6916532 , 0.7023259 ],\n",
              "       [0.06678909, 0.06529844],\n",
              "       [0.84616804, 0.8240429 ],\n",
              "       [0.03562546, 0.02659893],\n",
              "       [0.8762108 , 0.87279296],\n",
              "       [0.16894436, 0.14713281],\n",
              "       [0.7296254 , 0.6920208 ],\n",
              "       [0.72824943, 0.6871797 ],\n",
              "       [0.89357656, 0.88965845],\n",
              "       [0.7380984 , 0.7552132 ],\n",
              "       [0.8831539 , 0.87699246],\n",
              "       [0.04854438, 0.05613905],\n",
              "       [0.8825375 , 0.8800231 ],\n",
              "       [0.5933113 , 0.6237517 ],\n",
              "       [0.84044194, 0.84347796],\n",
              "       [0.8943291 , 0.89032   ],\n",
              "       [0.13007078, 0.05761924],\n",
              "       [0.57131046, 0.64404494],\n",
              "       [0.76419973, 0.7793201 ],\n",
              "       [0.86492467, 0.86386454],\n",
              "       [0.752692  , 0.7049621 ],\n",
              "       [0.20347664, 0.1982165 ],\n",
              "       [0.84487396, 0.8488531 ],\n",
              "       [0.82841605, 0.83122873],\n",
              "       [0.07003787, 0.03768507],\n",
              "       [0.8836062 , 0.79253983],\n",
              "       [0.8137704 , 0.8236091 ],\n",
              "       [0.37876034, 0.3571033 ],\n",
              "       [0.86686444, 0.864638  ],\n",
              "       [0.6311226 , 0.6348423 ],\n",
              "       [0.7603955 , 0.76861775],\n",
              "       [0.55843925, 0.5586534 ],\n",
              "       [0.78673595, 0.79805374],\n",
              "       [0.5245858 , 0.6043743 ],\n",
              "       [0.910764  , 0.87844086],\n",
              "       [0.582413  , 0.61619693],\n",
              "       [0.91549647, 0.90711474],\n",
              "       [0.8583579 , 0.85813326],\n",
              "       [0.5516104 , 0.5764975 ],\n",
              "       [0.81053185, 0.7375469 ],\n",
              "       [0.7283262 , 0.74715364],\n",
              "       [0.8798866 , 0.87683296],\n",
              "       [0.72112167, 0.6874373 ],\n",
              "       [0.8781327 , 0.87548983],\n",
              "       [0.86503744, 0.8630284 ],\n",
              "       [0.8676194 , 0.866997  ],\n",
              "       [0.16441727, 0.1418584 ],\n",
              "       [0.55224496, 0.59578973],\n",
              "       [0.4700023 , 0.4921533 ],\n",
              "       [0.8744365 , 0.8712002 ],\n",
              "       [0.7173079 , 0.6852256 ],\n",
              "       [0.87629783, 0.8728711 ],\n",
              "       [0.8761673 , 0.87275374],\n",
              "       [0.749825  , 0.7687384 ],\n",
              "       [0.7961769 , 0.7231941 ],\n",
              "       [0.05131617, 0.05561942],\n",
              "       [0.8252182 , 0.76880896],\n",
              "       [0.6748475 , 0.6624099 ],\n",
              "       [0.05865037, 0.06419513],\n",
              "       [0.5783506 , 0.62590253],\n",
              "       [0.91867137, 0.8718211 ],\n",
              "       [0.79691535, 0.76677454],\n",
              "       [0.8011616 , 0.73397064],\n",
              "       [0.3105583 , 0.4015222 ],\n",
              "       [0.6922246 , 0.67172   ],\n",
              "       [0.7762065 , 0.718668  ],\n",
              "       [0.81973505, 0.79976714],\n",
              "       [0.05066961, 0.05748749],\n",
              "       [0.5737279 , 0.6248705 ],\n",
              "       [0.7302988 , 0.74877954],\n",
              "       [0.04932246, 0.05673152],\n",
              "       [0.7170194 , 0.73715436],\n",
              "       [0.7774373 , 0.78933626],\n",
              "       [0.8766022 , 0.8731445 ],\n",
              "       [0.75148505, 0.7709956 ],\n",
              "       [0.61576974, 0.65555966],\n",
              "       [0.7526976 , 0.77321345],\n",
              "       [0.8677702 , 0.86543673],\n",
              "       [0.87629783, 0.8728711 ],\n",
              "       [0.7060149 , 0.7257453 ],\n",
              "       [0.87751126, 0.8739618 ],\n",
              "       [0.7474026 , 0.77774423],\n",
              "       [0.7214948 , 0.6876374 ]], dtype=float32)"
            ]
          },
          "metadata": {},
          "execution_count": 94
        }
      ]
    },
    {
      "cell_type": "code",
      "source": [
        "yp=np.array([np.argmax(i) for i in yprob])\n",
        "print(yp)"
      ],
      "metadata": {
        "colab": {
          "base_uri": "https://localhost:8080/"
        },
        "id": "HtTcxlLOylZG",
        "outputId": "90fd4adf-f11d-439c-f4fa-fcc79fd127ee"
      },
      "execution_count": null,
      "outputs": [
        {
          "output_type": "stream",
          "name": "stdout",
          "text": [
            "[1 0 0 0 1 0 1 0 1 0 0 1 1 0 1 0 0 0 1 1 0 0 0 0 1 0 0 0 0 1 1 0 0 0 1 1 0\n",
            " 0 1 1 1 0 0 0 0 0 0 0 0 1 0 1 0 1 1 0 0 1 1 0 0 0 1 1 0 0 1 0 0 1 1 1 1 1\n",
            " 0 1 0 0 1 0 1 0 0 0 0 0 0 1 1 0 0 0 0 1 0 1 0 0 1 1 0 0 0 1 0 0 0 1 1 1 1\n",
            " 1 1 0 1 1 1 0 0 1 0 1 0]\n"
          ]
        }
      ]
    },
    {
      "cell_type": "code",
      "source": [
        "print(np.array(loan)[yp])"
      ],
      "metadata": {
        "colab": {
          "base_uri": "https://localhost:8080/"
        },
        "id": "UzVwvy45Cm-N",
        "outputId": "9bb66aac-36a6-4c04-f14e-258f5662afea"
      },
      "execution_count": null,
      "outputs": [
        {
          "output_type": "stream",
          "name": "stdout",
          "text": [
            "[['LP001003' 'Male' 'Yes' ... 1.0 'Rural' 'N']\n",
            " ['LP001002' 'Male' 'No' ... 1.0 'Urban' 'Y']\n",
            " ['LP001002' 'Male' 'No' ... 1.0 'Urban' 'Y']\n",
            " ...\n",
            " ['LP001002' 'Male' 'No' ... 1.0 'Urban' 'Y']\n",
            " ['LP001003' 'Male' 'Yes' ... 1.0 'Rural' 'N']\n",
            " ['LP001002' 'Male' 'No' ... 1.0 'Urban' 'Y']]\n"
          ]
        }
      ]
    }
  ],
  "metadata": {
    "colab": {
      "collapsed_sections": [
        "bbNv7iK_SPzr",
        "hwJemR9c5izr",
        "0Y31mCtw7pK8",
        "Oz3yr-S0Br5f"
      ],
      "provenance": []
    },
    "kernelspec": {
      "display_name": "Python 3",
      "name": "python3"
    },
    "language_info": {
      "name": "python"
    }
  },
  "nbformat": 4,
  "nbformat_minor": 0
}