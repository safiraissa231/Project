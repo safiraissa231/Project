{
  "nbformat": 4,
  "nbformat_minor": 0,
  "metadata": {
    "colab": {
      "provenance": [],
      "collapsed_sections": [
        "JKBKtChyxBA1",
        "NC3TcyCnsauq",
        "DI-QihacB_Bd",
        "bfXknT1fLLIY",
        "vie2YH2u3a6H"
      ],
      "gpuType": "T4"
    },
    "kernelspec": {
      "name": "python3",
      "display_name": "Python 3"
    },
    "language_info": {
      "name": "python"
    },
    "accelerator": "GPU"
  },
  "cells": [
    {
      "cell_type": "markdown",
      "source": [
        "# Installing Package dan Importing Module"
      ],
      "metadata": {
        "id": "JKBKtChyxBA1"
      }
    },
    {
      "cell_type": "code",
      "source": [
        "# Installing this package to connected our python file with our dataset that we already have in mysql\n",
        "!pip install mysql-connector-python"
      ],
      "metadata": {
        "colab": {
          "base_uri": "https://localhost:8080/"
        },
        "id": "CpYsZEkQCH6Y",
        "outputId": "5f66e5ed-9820-4101-ecbf-f3cce9d3c9c0"
      },
      "execution_count": null,
      "outputs": [
        {
          "output_type": "stream",
          "name": "stdout",
          "text": [
            "Looking in indexes: https://pypi.org/simple, https://us-python.pkg.dev/colab-wheels/public/simple/\n",
            "Requirement already satisfied: mysql-connector-python in /usr/local/lib/python3.10/dist-packages (8.0.33)\n",
            "Requirement already satisfied: protobuf<=3.20.3,>=3.11.0 in /usr/local/lib/python3.10/dist-packages (from mysql-connector-python) (3.20.3)\n"
          ]
        }
      ]
    },
    {
      "cell_type": "code",
      "source": [
        "# Importing mysql.connector module that's been installed\n",
        "import mysql.connector"
      ],
      "metadata": {
        "id": "_H0mLmi3wo6l"
      },
      "execution_count": null,
      "outputs": []
    },
    {
      "cell_type": "code",
      "source": [
        "# Importing tensorflow dan tensorflow_hub(for calling pre-trained embedding tensorflow model) modules.\n",
        "import tensorflow as tf\n",
        "import tensorflow_hub as hub"
      ],
      "metadata": {
        "id": "49cFFSZb5mqC"
      },
      "execution_count": null,
      "outputs": []
    },
    {
      "cell_type": "code",
      "source": [
        "# Importing pandas module that used for processing dataframe (in here is our dataset which is in csv format)\n",
        "import pandas as pd"
      ],
      "metadata": {
        "id": "aAbumxt2wm1v"
      },
      "execution_count": null,
      "outputs": []
    },
    {
      "cell_type": "code",
      "source": [
        "# Importing math module that used for called pi (22/7) values (to scoring our cosine similiraties)\n",
        "import math"
      ],
      "metadata": {
        "id": "IVKRWRfOyg2u"
      },
      "execution_count": null,
      "outputs": []
    },
    {
      "cell_type": "code",
      "source": [
        "# Importing regex module that used for pre-processing (cleaning text data)\n",
        "import re"
      ],
      "metadata": {
        "id": "ula9qGajxHsg"
      },
      "execution_count": null,
      "outputs": []
    },
    {
      "cell_type": "code",
      "source": [
        "# Importing nltk module that used for pre-processing (cleaning text data)\n",
        "import nltk\n",
        "from nltk.corpus import stopwords\n",
        "from nltk.stem import WordNetLemmatizer\n",
        "from nltk.tokenize import word_tokenize\n",
        "nltk.download('all')"
      ],
      "metadata": {
        "colab": {
          "base_uri": "https://localhost:8080/"
        },
        "id": "VwSbwNqz9l73",
        "outputId": "77b6ca27-6e38-4b8d-c559-f63b2b8a3a49"
      },
      "execution_count": null,
      "outputs": [
        {
          "output_type": "stream",
          "name": "stderr",
          "text": [
            "[nltk_data] Downloading collection 'all'\n",
            "[nltk_data]    | \n",
            "[nltk_data]    | Downloading package abc to /root/nltk_data...\n",
            "[nltk_data]    |   Package abc is already up-to-date!\n",
            "[nltk_data]    | Downloading package alpino to /root/nltk_data...\n",
            "[nltk_data]    |   Package alpino is already up-to-date!\n",
            "[nltk_data]    | Downloading package averaged_perceptron_tagger to\n",
            "[nltk_data]    |     /root/nltk_data...\n",
            "[nltk_data]    |   Package averaged_perceptron_tagger is already up-\n",
            "[nltk_data]    |       to-date!\n",
            "[nltk_data]    | Downloading package averaged_perceptron_tagger_ru to\n",
            "[nltk_data]    |     /root/nltk_data...\n",
            "[nltk_data]    |   Package averaged_perceptron_tagger_ru is already\n",
            "[nltk_data]    |       up-to-date!\n",
            "[nltk_data]    | Downloading package basque_grammars to\n",
            "[nltk_data]    |     /root/nltk_data...\n",
            "[nltk_data]    |   Package basque_grammars is already up-to-date!\n",
            "[nltk_data]    | Downloading package bcp47 to /root/nltk_data...\n",
            "[nltk_data]    |   Package bcp47 is already up-to-date!\n",
            "[nltk_data]    | Downloading package biocreative_ppi to\n",
            "[nltk_data]    |     /root/nltk_data...\n",
            "[nltk_data]    |   Package biocreative_ppi is already up-to-date!\n",
            "[nltk_data]    | Downloading package bllip_wsj_no_aux to\n",
            "[nltk_data]    |     /root/nltk_data...\n",
            "[nltk_data]    |   Package bllip_wsj_no_aux is already up-to-date!\n",
            "[nltk_data]    | Downloading package book_grammars to\n",
            "[nltk_data]    |     /root/nltk_data...\n",
            "[nltk_data]    |   Package book_grammars is already up-to-date!\n",
            "[nltk_data]    | Downloading package brown to /root/nltk_data...\n",
            "[nltk_data]    |   Package brown is already up-to-date!\n",
            "[nltk_data]    | Downloading package brown_tei to /root/nltk_data...\n",
            "[nltk_data]    |   Package brown_tei is already up-to-date!\n",
            "[nltk_data]    | Downloading package cess_cat to /root/nltk_data...\n",
            "[nltk_data]    |   Package cess_cat is already up-to-date!\n",
            "[nltk_data]    | Downloading package cess_esp to /root/nltk_data...\n",
            "[nltk_data]    |   Package cess_esp is already up-to-date!\n",
            "[nltk_data]    | Downloading package chat80 to /root/nltk_data...\n",
            "[nltk_data]    |   Package chat80 is already up-to-date!\n",
            "[nltk_data]    | Downloading package city_database to\n",
            "[nltk_data]    |     /root/nltk_data...\n",
            "[nltk_data]    |   Package city_database is already up-to-date!\n",
            "[nltk_data]    | Downloading package cmudict to /root/nltk_data...\n",
            "[nltk_data]    |   Package cmudict is already up-to-date!\n",
            "[nltk_data]    | Downloading package comparative_sentences to\n",
            "[nltk_data]    |     /root/nltk_data...\n",
            "[nltk_data]    |   Package comparative_sentences is already up-to-\n",
            "[nltk_data]    |       date!\n",
            "[nltk_data]    | Downloading package comtrans to /root/nltk_data...\n",
            "[nltk_data]    |   Package comtrans is already up-to-date!\n",
            "[nltk_data]    | Downloading package conll2000 to /root/nltk_data...\n",
            "[nltk_data]    |   Package conll2000 is already up-to-date!\n",
            "[nltk_data]    | Downloading package conll2002 to /root/nltk_data...\n",
            "[nltk_data]    |   Package conll2002 is already up-to-date!\n",
            "[nltk_data]    | Downloading package conll2007 to /root/nltk_data...\n",
            "[nltk_data]    |   Package conll2007 is already up-to-date!\n",
            "[nltk_data]    | Downloading package crubadan to /root/nltk_data...\n",
            "[nltk_data]    |   Package crubadan is already up-to-date!\n",
            "[nltk_data]    | Downloading package dependency_treebank to\n",
            "[nltk_data]    |     /root/nltk_data...\n",
            "[nltk_data]    |   Package dependency_treebank is already up-to-date!\n",
            "[nltk_data]    | Downloading package dolch to /root/nltk_data...\n",
            "[nltk_data]    |   Package dolch is already up-to-date!\n",
            "[nltk_data]    | Downloading package europarl_raw to\n",
            "[nltk_data]    |     /root/nltk_data...\n",
            "[nltk_data]    |   Package europarl_raw is already up-to-date!\n",
            "[nltk_data]    | Downloading package extended_omw to\n",
            "[nltk_data]    |     /root/nltk_data...\n",
            "[nltk_data]    |   Package extended_omw is already up-to-date!\n",
            "[nltk_data]    | Downloading package floresta to /root/nltk_data...\n",
            "[nltk_data]    |   Package floresta is already up-to-date!\n",
            "[nltk_data]    | Downloading package framenet_v15 to\n",
            "[nltk_data]    |     /root/nltk_data...\n",
            "[nltk_data]    |   Package framenet_v15 is already up-to-date!\n",
            "[nltk_data]    | Downloading package framenet_v17 to\n",
            "[nltk_data]    |     /root/nltk_data...\n",
            "[nltk_data]    |   Package framenet_v17 is already up-to-date!\n",
            "[nltk_data]    | Downloading package gazetteers to /root/nltk_data...\n",
            "[nltk_data]    |   Package gazetteers is already up-to-date!\n",
            "[nltk_data]    | Downloading package genesis to /root/nltk_data...\n",
            "[nltk_data]    |   Package genesis is already up-to-date!\n",
            "[nltk_data]    | Downloading package gutenberg to /root/nltk_data...\n",
            "[nltk_data]    |   Package gutenberg is already up-to-date!\n",
            "[nltk_data]    | Downloading package ieer to /root/nltk_data...\n",
            "[nltk_data]    |   Package ieer is already up-to-date!\n",
            "[nltk_data]    | Downloading package inaugural to /root/nltk_data...\n",
            "[nltk_data]    |   Package inaugural is already up-to-date!\n",
            "[nltk_data]    | Downloading package indian to /root/nltk_data...\n",
            "[nltk_data]    |   Package indian is already up-to-date!\n",
            "[nltk_data]    | Downloading package jeita to /root/nltk_data...\n",
            "[nltk_data]    |   Package jeita is already up-to-date!\n",
            "[nltk_data]    | Downloading package kimmo to /root/nltk_data...\n",
            "[nltk_data]    |   Package kimmo is already up-to-date!\n",
            "[nltk_data]    | Downloading package knbc to /root/nltk_data...\n",
            "[nltk_data]    |   Package knbc is already up-to-date!\n",
            "[nltk_data]    | Downloading package large_grammars to\n",
            "[nltk_data]    |     /root/nltk_data...\n",
            "[nltk_data]    |   Package large_grammars is already up-to-date!\n",
            "[nltk_data]    | Downloading package lin_thesaurus to\n",
            "[nltk_data]    |     /root/nltk_data...\n",
            "[nltk_data]    |   Package lin_thesaurus is already up-to-date!\n",
            "[nltk_data]    | Downloading package mac_morpho to /root/nltk_data...\n",
            "[nltk_data]    |   Package mac_morpho is already up-to-date!\n",
            "[nltk_data]    | Downloading package machado to /root/nltk_data...\n",
            "[nltk_data]    |   Package machado is already up-to-date!\n",
            "[nltk_data]    | Downloading package masc_tagged to /root/nltk_data...\n",
            "[nltk_data]    |   Package masc_tagged is already up-to-date!\n",
            "[nltk_data]    | Downloading package maxent_ne_chunker to\n",
            "[nltk_data]    |     /root/nltk_data...\n",
            "[nltk_data]    |   Package maxent_ne_chunker is already up-to-date!\n",
            "[nltk_data]    | Downloading package maxent_treebank_pos_tagger to\n",
            "[nltk_data]    |     /root/nltk_data...\n",
            "[nltk_data]    |   Package maxent_treebank_pos_tagger is already up-\n",
            "[nltk_data]    |       to-date!\n",
            "[nltk_data]    | Downloading package moses_sample to\n",
            "[nltk_data]    |     /root/nltk_data...\n",
            "[nltk_data]    |   Package moses_sample is already up-to-date!\n",
            "[nltk_data]    | Downloading package movie_reviews to\n",
            "[nltk_data]    |     /root/nltk_data...\n",
            "[nltk_data]    |   Package movie_reviews is already up-to-date!\n",
            "[nltk_data]    | Downloading package mte_teip5 to /root/nltk_data...\n",
            "[nltk_data]    |   Package mte_teip5 is already up-to-date!\n",
            "[nltk_data]    | Downloading package mwa_ppdb to /root/nltk_data...\n",
            "[nltk_data]    |   Package mwa_ppdb is already up-to-date!\n",
            "[nltk_data]    | Downloading package names to /root/nltk_data...\n",
            "[nltk_data]    |   Package names is already up-to-date!\n",
            "[nltk_data]    | Downloading package nombank.1.0 to /root/nltk_data...\n",
            "[nltk_data]    |   Package nombank.1.0 is already up-to-date!\n",
            "[nltk_data]    | Downloading package nonbreaking_prefixes to\n",
            "[nltk_data]    |     /root/nltk_data...\n",
            "[nltk_data]    |   Package nonbreaking_prefixes is already up-to-date!\n",
            "[nltk_data]    | Downloading package nps_chat to /root/nltk_data...\n",
            "[nltk_data]    |   Package nps_chat is already up-to-date!\n",
            "[nltk_data]    | Downloading package omw to /root/nltk_data...\n",
            "[nltk_data]    |   Package omw is already up-to-date!\n",
            "[nltk_data]    | Downloading package omw-1.4 to /root/nltk_data...\n",
            "[nltk_data]    |   Package omw-1.4 is already up-to-date!\n",
            "[nltk_data]    | Downloading package opinion_lexicon to\n",
            "[nltk_data]    |     /root/nltk_data...\n",
            "[nltk_data]    |   Package opinion_lexicon is already up-to-date!\n",
            "[nltk_data]    | Downloading package panlex_swadesh to\n",
            "[nltk_data]    |     /root/nltk_data...\n",
            "[nltk_data]    |   Package panlex_swadesh is already up-to-date!\n",
            "[nltk_data]    | Downloading package paradigms to /root/nltk_data...\n",
            "[nltk_data]    |   Package paradigms is already up-to-date!\n",
            "[nltk_data]    | Downloading package pe08 to /root/nltk_data...\n",
            "[nltk_data]    |   Package pe08 is already up-to-date!\n",
            "[nltk_data]    | Downloading package perluniprops to\n",
            "[nltk_data]    |     /root/nltk_data...\n",
            "[nltk_data]    |   Package perluniprops is already up-to-date!\n",
            "[nltk_data]    | Downloading package pil to /root/nltk_data...\n",
            "[nltk_data]    |   Package pil is already up-to-date!\n",
            "[nltk_data]    | Downloading package pl196x to /root/nltk_data...\n",
            "[nltk_data]    |   Package pl196x is already up-to-date!\n",
            "[nltk_data]    | Downloading package porter_test to /root/nltk_data...\n",
            "[nltk_data]    |   Package porter_test is already up-to-date!\n",
            "[nltk_data]    | Downloading package ppattach to /root/nltk_data...\n",
            "[nltk_data]    |   Package ppattach is already up-to-date!\n",
            "[nltk_data]    | Downloading package problem_reports to\n",
            "[nltk_data]    |     /root/nltk_data...\n",
            "[nltk_data]    |   Package problem_reports is already up-to-date!\n",
            "[nltk_data]    | Downloading package product_reviews_1 to\n",
            "[nltk_data]    |     /root/nltk_data...\n",
            "[nltk_data]    |   Package product_reviews_1 is already up-to-date!\n",
            "[nltk_data]    | Downloading package product_reviews_2 to\n",
            "[nltk_data]    |     /root/nltk_data...\n",
            "[nltk_data]    |   Package product_reviews_2 is already up-to-date!\n",
            "[nltk_data]    | Downloading package propbank to /root/nltk_data...\n",
            "[nltk_data]    |   Package propbank is already up-to-date!\n",
            "[nltk_data]    | Downloading package pros_cons to /root/nltk_data...\n",
            "[nltk_data]    |   Package pros_cons is already up-to-date!\n",
            "[nltk_data]    | Downloading package ptb to /root/nltk_data...\n",
            "[nltk_data]    |   Package ptb is already up-to-date!\n",
            "[nltk_data]    | Downloading package punkt to /root/nltk_data...\n",
            "[nltk_data]    |   Package punkt is already up-to-date!\n",
            "[nltk_data]    | Downloading package qc to /root/nltk_data...\n",
            "[nltk_data]    |   Package qc is already up-to-date!\n",
            "[nltk_data]    | Downloading package reuters to /root/nltk_data...\n",
            "[nltk_data]    |   Package reuters is already up-to-date!\n",
            "[nltk_data]    | Downloading package rslp to /root/nltk_data...\n",
            "[nltk_data]    |   Package rslp is already up-to-date!\n",
            "[nltk_data]    | Downloading package rte to /root/nltk_data...\n",
            "[nltk_data]    |   Package rte is already up-to-date!\n",
            "[nltk_data]    | Downloading package sample_grammars to\n",
            "[nltk_data]    |     /root/nltk_data...\n",
            "[nltk_data]    |   Package sample_grammars is already up-to-date!\n",
            "[nltk_data]    | Downloading package semcor to /root/nltk_data...\n",
            "[nltk_data]    |   Package semcor is already up-to-date!\n",
            "[nltk_data]    | Downloading package senseval to /root/nltk_data...\n",
            "[nltk_data]    |   Package senseval is already up-to-date!\n",
            "[nltk_data]    | Downloading package sentence_polarity to\n",
            "[nltk_data]    |     /root/nltk_data...\n",
            "[nltk_data]    |   Package sentence_polarity is already up-to-date!\n",
            "[nltk_data]    | Downloading package sentiwordnet to\n",
            "[nltk_data]    |     /root/nltk_data...\n",
            "[nltk_data]    |   Package sentiwordnet is already up-to-date!\n",
            "[nltk_data]    | Downloading package shakespeare to /root/nltk_data...\n",
            "[nltk_data]    |   Package shakespeare is already up-to-date!\n",
            "[nltk_data]    | Downloading package sinica_treebank to\n",
            "[nltk_data]    |     /root/nltk_data...\n",
            "[nltk_data]    |   Package sinica_treebank is already up-to-date!\n",
            "[nltk_data]    | Downloading package smultron to /root/nltk_data...\n",
            "[nltk_data]    |   Package smultron is already up-to-date!\n",
            "[nltk_data]    | Downloading package snowball_data to\n",
            "[nltk_data]    |     /root/nltk_data...\n",
            "[nltk_data]    |   Package snowball_data is already up-to-date!\n",
            "[nltk_data]    | Downloading package spanish_grammars to\n",
            "[nltk_data]    |     /root/nltk_data...\n",
            "[nltk_data]    |   Package spanish_grammars is already up-to-date!\n",
            "[nltk_data]    | Downloading package state_union to /root/nltk_data...\n",
            "[nltk_data]    |   Package state_union is already up-to-date!\n",
            "[nltk_data]    | Downloading package stopwords to /root/nltk_data...\n",
            "[nltk_data]    |   Package stopwords is already up-to-date!\n",
            "[nltk_data]    | Downloading package subjectivity to\n",
            "[nltk_data]    |     /root/nltk_data...\n",
            "[nltk_data]    |   Package subjectivity is already up-to-date!\n",
            "[nltk_data]    | Downloading package swadesh to /root/nltk_data...\n",
            "[nltk_data]    |   Package swadesh is already up-to-date!\n",
            "[nltk_data]    | Downloading package switchboard to /root/nltk_data...\n",
            "[nltk_data]    |   Package switchboard is already up-to-date!\n",
            "[nltk_data]    | Downloading package tagsets to /root/nltk_data...\n",
            "[nltk_data]    |   Package tagsets is already up-to-date!\n",
            "[nltk_data]    | Downloading package timit to /root/nltk_data...\n",
            "[nltk_data]    |   Package timit is already up-to-date!\n",
            "[nltk_data]    | Downloading package toolbox to /root/nltk_data...\n",
            "[nltk_data]    |   Package toolbox is already up-to-date!\n",
            "[nltk_data]    | Downloading package treebank to /root/nltk_data...\n",
            "[nltk_data]    |   Package treebank is already up-to-date!\n",
            "[nltk_data]    | Downloading package twitter_samples to\n",
            "[nltk_data]    |     /root/nltk_data...\n",
            "[nltk_data]    |   Package twitter_samples is already up-to-date!\n",
            "[nltk_data]    | Downloading package udhr to /root/nltk_data...\n",
            "[nltk_data]    |   Package udhr is already up-to-date!\n",
            "[nltk_data]    | Downloading package udhr2 to /root/nltk_data...\n",
            "[nltk_data]    |   Package udhr2 is already up-to-date!\n",
            "[nltk_data]    | Downloading package unicode_samples to\n",
            "[nltk_data]    |     /root/nltk_data...\n",
            "[nltk_data]    |   Package unicode_samples is already up-to-date!\n",
            "[nltk_data]    | Downloading package universal_tagset to\n",
            "[nltk_data]    |     /root/nltk_data...\n",
            "[nltk_data]    |   Package universal_tagset is already up-to-date!\n",
            "[nltk_data]    | Downloading package universal_treebanks_v20 to\n",
            "[nltk_data]    |     /root/nltk_data...\n",
            "[nltk_data]    |   Package universal_treebanks_v20 is already up-to-\n",
            "[nltk_data]    |       date!\n",
            "[nltk_data]    | Downloading package vader_lexicon to\n",
            "[nltk_data]    |     /root/nltk_data...\n",
            "[nltk_data]    |   Package vader_lexicon is already up-to-date!\n",
            "[nltk_data]    | Downloading package verbnet to /root/nltk_data...\n",
            "[nltk_data]    |   Package verbnet is already up-to-date!\n",
            "[nltk_data]    | Downloading package verbnet3 to /root/nltk_data...\n",
            "[nltk_data]    |   Package verbnet3 is already up-to-date!\n",
            "[nltk_data]    | Downloading package webtext to /root/nltk_data...\n",
            "[nltk_data]    |   Package webtext is already up-to-date!\n",
            "[nltk_data]    | Downloading package wmt15_eval to /root/nltk_data...\n",
            "[nltk_data]    |   Package wmt15_eval is already up-to-date!\n",
            "[nltk_data]    | Downloading package word2vec_sample to\n",
            "[nltk_data]    |     /root/nltk_data...\n",
            "[nltk_data]    |   Package word2vec_sample is already up-to-date!\n",
            "[nltk_data]    | Downloading package wordnet to /root/nltk_data...\n",
            "[nltk_data]    |   Package wordnet is already up-to-date!\n",
            "[nltk_data]    | Downloading package wordnet2021 to /root/nltk_data...\n",
            "[nltk_data]    |   Package wordnet2021 is already up-to-date!\n",
            "[nltk_data]    | Downloading package wordnet2022 to /root/nltk_data...\n",
            "[nltk_data]    |   Package wordnet2022 is already up-to-date!\n",
            "[nltk_data]    | Downloading package wordnet31 to /root/nltk_data...\n",
            "[nltk_data]    |   Package wordnet31 is already up-to-date!\n",
            "[nltk_data]    | Downloading package wordnet_ic to /root/nltk_data...\n",
            "[nltk_data]    |   Package wordnet_ic is already up-to-date!\n",
            "[nltk_data]    | Downloading package words to /root/nltk_data...\n",
            "[nltk_data]    |   Package words is already up-to-date!\n",
            "[nltk_data]    | Downloading package ycoe to /root/nltk_data...\n",
            "[nltk_data]    |   Package ycoe is already up-to-date!\n",
            "[nltk_data]    | \n",
            "[nltk_data]  Done downloading collection all\n"
          ]
        },
        {
          "output_type": "execute_result",
          "data": {
            "text/plain": [
              "True"
            ]
          },
          "metadata": {},
          "execution_count": 44
        }
      ]
    },
    {
      "cell_type": "markdown",
      "source": [
        "# Calling Pretrained Encoder Tensorflow Model "
      ],
      "metadata": {
        "id": "NC3TcyCnsauq"
      }
    },
    {
      "cell_type": "markdown",
      "source": [
        "This is a pre-trained encoder Tensorflow model that Tensorflow suggested to make\n",
        "*text similarty* model. "
      ],
      "metadata": {
        "id": "syqPKfcgx3f_"
      }
    },
    {
      "cell_type": "code",
      "source": [
        "module_url = \"https://tfhub.dev/google/universal-sentence-encoder/4\"\n",
        "model = hub.load(module_url)\n",
        "print (\"module %s loaded\" % module_url)\n",
        "def embed(input):\n",
        "  return model(input)"
      ],
      "metadata": {
        "colab": {
          "base_uri": "https://localhost:8080/"
        },
        "id": "0aJtukHosdcP",
        "outputId": "bc8856a1-604d-452d-ee2d-a59cf11ba4f6"
      },
      "execution_count": null,
      "outputs": [
        {
          "output_type": "stream",
          "name": "stdout",
          "text": [
            "module https://tfhub.dev/google/universal-sentence-encoder/4 loaded\n"
          ]
        }
      ]
    },
    {
      "cell_type": "markdown",
      "source": [
        "# Dataset"
      ],
      "metadata": {
        "id": "DI-QihacB_Bd"
      }
    },
    {
      "cell_type": "code",
      "source": [
        "# Replacing the placeholders with your own values\n",
        "connection_name = 'c23df02-diskusai:asia-southeast2:diskusaidataset'\n",
        "ip_address = '34.101.70.233'\n",
        "db_name = 'diskusaidataset'\n",
        "user = 'root'\n",
        "password = 'df02'\n",
        "\n",
        "# Creating the connection string\n",
        "connection_string = f\"mysql+mysqlconnector://{user}:{password}@{ip_address}/{db_name}?unix_socket=/cloudsql/{connection_name}\"\n",
        "\n",
        "# Establishing the connection\n",
        "cnx = mysql.connector.connect(user=user, password=password, host=ip_address, database=db_name)"
      ],
      "metadata": {
        "id": "B3r1SysdCMJl"
      },
      "execution_count": null,
      "outputs": []
    },
    {
      "cell_type": "code",
      "source": [
        "# Replacing 'your_table_name' with the actual name of your table\n",
        "query = \"SELECT * FROM diskusaidataset\"\n",
        "\n",
        "# Executing the query\n",
        "cursor = cnx.cursor()\n",
        "cursor.execute(query)\n",
        "\n",
        "# Fetching all the results\n",
        "data = cursor.fetchall()\n",
        "\n",
        "# Converting the data into a Pandas DataFrame\n",
        "dataset = pd.DataFrame(data, columns=cursor.column_names)\n",
        "\n",
        "# Closing the cursor and connection\n",
        "cursor.close()\n",
        "cnx.close()"
      ],
      "metadata": {
        "id": "V7nQvlYmCNBQ"
      },
      "execution_count": null,
      "outputs": []
    },
    {
      "cell_type": "code",
      "source": [
        "# Cleaning question column from special characters that don't exist in regex module\n",
        "dataset['question'] = dataset['question'].str.replace('<p>', '')\n",
        "dataset['question'] = dataset['question'].str.replace('<h2>', '')\n",
        "dataset['question'] = dataset['question'].str.replace('</h2>', '')\n",
        "dataset['question'] = dataset['question'].str.replace('<h3>', '')\n",
        "dataset['question'] = dataset['question'].str.replace('</h3>', '')\n",
        "dataset['question'] = dataset['question'].str.replace('</p>', '')\n",
        "dataset['question'] = dataset['question'].str.replace('<strong>', '')\n",
        "dataset['question'] = dataset['question'].str.replace('</strong>', '')"
      ],
      "metadata": {
        "id": "e5DTsZOf92TT"
      },
      "execution_count": null,
      "outputs": []
    },
    {
      "cell_type": "code",
      "source": [
        "# Cleaning image link data from dataset \n",
        "dataset = dataset[dataset['question'].str.contains('<img src=')==False]"
      ],
      "metadata": {
        "id": "VnBkYdgu9_et"
      },
      "execution_count": null,
      "outputs": []
    },
    {
      "cell_type": "code",
      "source": [
        "# Re-indexing dataset after cleaning process\n",
        "dataset=dataset.reset_index(drop=True)"
      ],
      "metadata": {
        "id": "m30WMpPF-BHC"
      },
      "execution_count": null,
      "outputs": []
    },
    {
      "cell_type": "code",
      "source": [
        "# Creating new column that contained questions links\n",
        "link_diskusi=[]\n",
        "list_course_id=(dataset['course_id'].values).tolist()\n",
        "list_id=(dataset['id'].values).tolist()\n",
        "for i in range(len(dataset)):\n",
        "  link_diskusi.append('https://www.dicoding.com/academies/'+str(list_course_id[i])+'/discussions/'+str(list_id[i]))\n",
        "dataset['link_diskusi']=link_diskusi"
      ],
      "metadata": {
        "id": "YoN_-4cHuTVh"
      },
      "execution_count": null,
      "outputs": []
    },
    {
      "cell_type": "code",
      "source": [
        "# Cleaning Data Text\n",
        "\n",
        "STOPWORDS1 = set(stopwords.words('indonesian'))\n",
        "STOPWORDS2 = set(stopwords.words('english'))\n",
        "MIN_WORDS = 4\n",
        "MAX_WORDS = 200\n",
        "\n",
        "PATTERN_S = re.compile(\"\\'s\")  # matches `'s` from text  \n",
        "PATTERN_RN = re.compile(\"\\\\r\\\\n\") #matches `\\r` and `\\n`\n",
        "PATTERN_PUNC = re.compile(r\"[^\\w\\s]\") # matches all non 0-9 A-z whitespace \n",
        "\n",
        "# Defining function to clean data text using regex module\n",
        "def clean_text(text):\n",
        "    \"\"\"\n",
        "    Series of cleaning. String to lower case, remove non words characters and numbers.\n",
        "        text (str): input text\n",
        "    return (str): modified initial text\n",
        "    \"\"\"\n",
        "    text = text.lower()  # lowercase text\n",
        "    text = re.sub(PATTERN_S, ' ', text)\n",
        "    text = re.sub(PATTERN_RN, ' ', text)\n",
        "    text = re.sub(PATTERN_PUNC, ' ', text)\n",
        "    return text\n",
        "\n",
        "# Defining tokenizer1 to clean data text using indonesian stopwords\n",
        "def tokenizer1(sentence, min_words=MIN_WORDS, max_words=MAX_WORDS, stopwords=STOPWORDS1, lemmatize=True):\n",
        "    \"\"\"\n",
        "    Lemmatize, tokenize, crop and remove stop words.\n",
        "    \"\"\"\n",
        "    stemmer = WordNetLemmatizer()\n",
        "    tokens1 = [stemmer.lemmatize(w) for w in word_tokenize(sentence)]\n",
        "    tokens1 = ' '.join(tokens1)\n",
        "    return tokens1    \n",
        "\n",
        "# Defining tokenizer2 to clean data text using english stopwords\n",
        "def tokenizer2(sentence, min_words=MIN_WORDS, max_words=MAX_WORDS, stopwords=STOPWORDS2, lemmatize=True):\n",
        "    \"\"\"\n",
        "    Lemmatize, tokenize, crop and remove stop words.\n",
        "    \"\"\"\n",
        "    stemmer = WordNetLemmatizer()\n",
        "    tokens2 = [stemmer.lemmatize(w) for w in word_tokenize(sentence)]\n",
        "    tokens2 = ' '.join(tokens2)\n",
        "    return tokens2    \n",
        "\n",
        "# Defining clean_sentences to apply all cleaning data text process to our dataset\n",
        "def clean_sentences(df):\n",
        "    \"\"\"\n",
        "    Remove irrelavant characters (in new column clean_sentence).\n",
        "    Lemmatize, tokenize words into list of words (in new column tok_lem_sentence).\n",
        "    \"\"\"\n",
        "    print('Cleaning sentences...')\n",
        "    df['question'] = df['question'].apply(clean_text)\n",
        "    df['question'] = df['question'].apply(\n",
        "        lambda x: tokenizer1(x, min_words=MIN_WORDS, max_words=MAX_WORDS, stopwords=STOPWORDS1, lemmatize=True))\n",
        "    df['question'] = df['question'].apply(\n",
        "        lambda x: tokenizer2(x, min_words=MIN_WORDS, max_words=MAX_WORDS, stopwords=STOPWORDS2, lemmatize=True))\n",
        "    return df\n",
        "\n",
        "# Applying all cleaning data text process to our dataset\n",
        "dataset = clean_sentences(dataset)\n",
        "\n",
        "# Creating tokes from our cleaned dataset\n",
        "tokens = dataset['question'].str.split()\n",
        "tokens = [word for sublist in tokens for word in sublist]"
      ],
      "metadata": {
        "colab": {
          "base_uri": "https://localhost:8080/"
        },
        "id": "vPKIKhYwi7a9",
        "outputId": "5a343ace-5c53-4fc8-89ae-d320558e3968"
      },
      "execution_count": null,
      "outputs": [
        {
          "output_type": "stream",
          "name": "stdout",
          "text": [
            "Cleaning sentences...\n"
          ]
        }
      ]
    },
    {
      "cell_type": "markdown",
      "source": [
        "# Defining Function That Named \"searchbar\" to Check *Cosine Similarities* Values Scores Between Our Input (diskusAI Search Bar's Question Input) Relatives to Questions that Already Exist in Our Dataset."
      ],
      "metadata": {
        "id": "bfXknT1fLLIY"
      }
    },
    {
      "cell_type": "markdown",
      "source": [
        "*   This function has 2 parameters that need to be filled to become local variables, our dataset and diskusAI search bar's question input.\n",
        "*   That question input, which is in a string format, will be transformed to dataframe format.\n",
        "*   After that, this function will embed every element in question input dataframe (in here is dataframe called data) and question column from main dataset (that given by Dicoding Indonesia) using pre-trained encoder Tensorflow model.\n",
        "*   When that all elements have already embedded, this function will calculate cosine similarities values beetween question input relatives to questions that already exist in dataset, and then scoring that values.\n",
        "*   Also making list of that score, and then add that as a new column from our main dataset.\n",
        "*   After that, this function creates new list that contained top 11 scores of cosine similarities values then makes all of list' elements as index for calling top 11 discussion titles and those links that the most related with question input.\n",
        "*  This function returns list d (contained top 11 discussion titles related with question input) and e (contained top 11 discussion titles' links related with question input).\n",
        "* The element with 0 index in list d and e will become the most related discussion title and that link, where the others index will be suggested discussion titles and that links that relative to the most related discussion title and that link.\n",
        "\n",
        "\n",
        "\n",
        "\n",
        "\n",
        "\n"
      ],
      "metadata": {
        "id": "4G7_bRL8zMTh"
      }
    },
    {
      "cell_type": "code",
      "source": [
        "def searchbar(data_set,pertanyaan):\n",
        "  xx=[]\n",
        "  xx.append(pertanyaan)\n",
        "  data = {'input': xx}  \n",
        "  data_input = pd.DataFrame(data)\n",
        "  cos_scores=[]\n",
        "  for i in range(len(data_set)):\n",
        "    sts_encode1 = tf.nn.l2_normalize(embed(tf.constant(data_input['input'].tolist())), axis=1)\n",
        "    sts_encode2 = tf.nn.l2_normalize(embed(tf.constant(dataset['question'][i:i+1])), axis=1)\n",
        "    cosine_similarities = tf.reduce_sum(tf.multiply(sts_encode1, sts_encode2), axis=1)\n",
        "    clip_cosine_similarities = tf.clip_by_value(cosine_similarities, -1.0, 1.0)\n",
        "    scores = 1.0 - tf.acos(clip_cosine_similarities) / math.pi\n",
        "    cos_scores.append(scores)\n",
        "\n",
        "  cos_scores_list=[]\n",
        "  for i in range(len(cos_scores)):\n",
        "    cos_scores_list_tensor=cos_scores[i-1][0].numpy()\n",
        "    cos_scores_list.append(float(cos_scores_list_tensor))\n",
        "\n",
        "  dataset['Cosines Similarity Scores']=cos_scores_list\n",
        "\n",
        "  max_cos_scores_list=[]\n",
        "  d_list=[]\n",
        "  e_list=[]\n",
        "\n",
        "  for i in range(11):\n",
        "    max_cos=max(cos_scores_list)\n",
        "    max_cos_scores_list.append(max_cos)\n",
        "    cos_scores_list.remove(max_cos)\n",
        "    dataset_cos_max = dataset.loc[dataset['Cosines Similarity Scores'] == max_cos_scores_list[i]]\n",
        "    d_list.append(dataset_cos_max['discussion_title'].values.tolist())\n",
        "    e_list.append(dataset_cos_max['link_diskusi'].values.tolist())\n",
        "  d=[]\n",
        "  e=[]\n",
        "  for i in range(11):\n",
        "    d.append(d_list[i][0])\n",
        "    e.append(e_list[i][0])\n",
        "  return d, e"
      ],
      "metadata": {
        "id": "1Y3xAdgMk78b"
      },
      "execution_count": null,
      "outputs": []
    },
    {
      "cell_type": "markdown",
      "source": [
        "# Simulation"
      ],
      "metadata": {
        "id": "vie2YH2u3a6H"
      }
    },
    {
      "cell_type": "code",
      "source": [
        "print('Selamat Datang di Search-Bar diskusAI!')\n",
        "print('-----------------------------------')\n",
        "print('-----------------------------------')\n",
        "\n",
        "text=str(input('Masukkan Pertanyaan Kamu :'))\n",
        "d, e=searchbar(dataset,text)\n",
        "print('-----------------------------------')\n",
        "print('Berikut Judul Diskusi yang Paling Relevan dengan Pertanyaan Kamu: ')\n",
        "print('-----------------------------------')\n",
        "print(d[0])\n",
        "print('-----------------------------------')\n",
        "print('Berikut Link Judul Diskusi yang Paling Relevan dengan Pertanyaan Kamu: ')\n",
        "print('-----------------------------------')\n",
        "print(e[0])\n",
        "print('-----------------------------------')\n",
        "print('Berikut Judul Diskusi yang Relevan dengan Pertanyaan Kamu: ')\n",
        "print('-----------------------------------')\n",
        "for m in range(1,len(d)):\n",
        "  print(m,'.',d[m])\n",
        "  print('-----------------------------------')\n",
        "print('-----------------------------------')\n",
        "print('Berikut Link Judul Diskusi yang Relevan dengan Pertanyaan Kamu: ')\n",
        "print('-----------------------------------')\n",
        "for n in range(1,len(e)):\n",
        "  print(n,'.',e[n])\n",
        "  print('-----------------------------------')\n",
        "print('-----------------------------------')"
      ],
      "metadata": {
        "colab": {
          "base_uri": "https://localhost:8080/"
        },
        "id": "s0-vuQ74aN9N",
        "outputId": "859ddeb3-c5ab-438c-deab-d434211aeb65"
      },
      "execution_count": null,
      "outputs": [
        {
          "output_type": "stream",
          "name": "stdout",
          "text": [
            "Selamat Datang di Search-Bar diskusAI!\n",
            "-----------------------------------\n",
            "-----------------------------------\n",
            "-----------------------------------\n",
            "Berikut Judul Diskusi yang Paling Relevan dengan Pertanyaan Kamu: \n",
            "-----------------------------------\n",
            "generic font families\n",
            "-----------------------------------\n",
            "Berikut Link Judul Diskusi yang Paling Relevan dengan Pertanyaan Kamu: \n",
            "-----------------------------------\n",
            "https://www.dicoding.com/academies/123/discussions/158538\n",
            "-----------------------------------\n",
            "Berikut Judul Diskusi yang Relevan dengan Pertanyaan Kamu: \n",
            "-----------------------------------\n",
            "1 . Kenapa footer tidak kebawah\n",
            "-----------------------------------\n",
            "2 .  Izin bertanya pada saat kuis koding currency pas disubmit selalu salah\n",
            "-----------------------------------\n",
            "3 . selamat sore kak, maaf kkak, ini pas aya tes logikanya udah bener , kenapa masi ada yang salah ya,\n",
            "-----------------------------------\n",
            "4 . Apakah bila saya tidak meng ikuti webinar sertifikat yang diprakerja akan muncul?\n",
            "-----------------------------------\n",
            "5 . Kenapa tidak ada perubahan saat menghubungkan berkas css dengan html\n",
            "-----------------------------------\n",
            "6 . fungsi minimal belom berjalan dengan baik. maaf kak ini salah dimana ya?\n",
            "-----------------------------------\n",
            "7 . script.js\n",
            "-----------------------------------\n",
            "8 . Merapikan tag innerHTML \n",
            "-----------------------------------\n",
            "9 . Kenapa masih eror ya kak\n",
            "-----------------------------------\n",
            "10 . cara menampilkan hasil ketikan\n",
            "-----------------------------------\n",
            "-----------------------------------\n",
            "Berikut Link Judul Diskusi yang Relevan dengan Pertanyaan Kamu: \n",
            "-----------------------------------\n",
            "1 . https://www.dicoding.com/academies/123/discussions/68722\n",
            "-----------------------------------\n",
            "2 . https://www.dicoding.com/academies/256/discussions/103303\n",
            "-----------------------------------\n",
            "3 . https://www.dicoding.com/academies/256/discussions/201265\n",
            "-----------------------------------\n",
            "4 . https://www.dicoding.com/academies/123/discussions/74076\n",
            "-----------------------------------\n",
            "5 . https://www.dicoding.com/academies/123/discussions/97694\n",
            "-----------------------------------\n",
            "6 . https://www.dicoding.com/academies/315/discussions/103793\n",
            "-----------------------------------\n",
            "7 . https://www.dicoding.com/academies/123/discussions/39926\n",
            "-----------------------------------\n",
            "8 . https://www.dicoding.com/academies/163/discussions/216615\n",
            "-----------------------------------\n",
            "9 . https://www.dicoding.com/academies/256/discussions/125014\n",
            "-----------------------------------\n",
            "10 . https://www.dicoding.com/academies/123/discussions/13075\n",
            "-----------------------------------\n",
            "-----------------------------------\n"
          ]
        }
      ]
    }
  ]
}